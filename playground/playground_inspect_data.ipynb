{
 "cells": [
  {
   "cell_type": "markdown",
   "metadata": {},
   "source": [
    "# Import libraries"
   ]
  },
  {
   "cell_type": "code",
   "execution_count": 1,
   "metadata": {},
   "outputs": [],
   "source": [
    "import pandas as pd\n",
    "import obonet\n",
    "import networkx"
   ]
  },
  {
   "cell_type": "markdown",
   "metadata": {},
   "source": [
    "## NCBITaxonomy ontology"
   ]
  },
  {
   "cell_type": "code",
   "execution_count": 2,
   "metadata": {},
   "outputs": [],
   "source": [
    "graph = obonet.read_obo('http://purl.obolibrary.org/obo/ncbitaxon.obo')\n",
    "\n",
    "# Get the childs of Viridiplantae (all plants)\n",
    "plant_childs = networkx.ancestors(graph, 'NCBITaxon:33090')\n",
    "# Subset the graph to make it faster to the relevant part (plants only)\n",
    "graph = graph.subgraph(plant_childs)"
   ]
  },
  {
   "cell_type": "markdown",
   "metadata": {},
   "source": [
    "Load plant-disease associations"
   ]
  },
  {
   "cell_type": "code",
   "execution_count": 4,
   "metadata": {},
   "outputs": [],
   "source": [
    "diseases = pd.read_csv('../data/processed/plant_disease_associations.tsv.gz', sep='\\t', compression='gzip')"
   ]
  },
  {
   "cell_type": "markdown",
   "metadata": {},
   "source": [
    "Quick inspection on the data structure"
   ]
  },
  {
   "cell_type": "code",
   "execution_count": 5,
   "metadata": {},
   "outputs": [
    {
     "data": {
      "text/html": [
       "<div>\n",
       "<style scoped>\n",
       "    .dataframe tbody tr th:only-of-type {\n",
       "        vertical-align: middle;\n",
       "    }\n",
       "\n",
       "    .dataframe tbody tr th {\n",
       "        vertical-align: top;\n",
       "    }\n",
       "\n",
       "    .dataframe thead th {\n",
       "        text-align: right;\n",
       "    }\n",
       "</style>\n",
       "<table border=\"1\" class=\"dataframe\">\n",
       "  <thead>\n",
       "    <tr style=\"text-align: right;\">\n",
       "      <th></th>\n",
       "      <th>plant_curie</th>\n",
       "      <th>plant_name</th>\n",
       "      <th>disease_curie</th>\n",
       "      <th>database</th>\n",
       "      <th>evidence</th>\n",
       "    </tr>\n",
       "  </thead>\n",
       "  <tbody>\n",
       "    <tr>\n",
       "      <th>0</th>\n",
       "      <td>ncbitaxon:3369</td>\n",
       "      <td>Cryptomeria japonica</td>\n",
       "      <td>mondo:0005324</td>\n",
       "      <td>bern2</td>\n",
       "      <td>10067319_8</td>\n",
       "    </tr>\n",
       "  </tbody>\n",
       "</table>\n",
       "</div>"
      ],
      "text/plain": [
       "      plant_curie            plant_name  disease_curie database    evidence\n",
       "0  ncbitaxon:3369  Cryptomeria japonica  mondo:0005324    bern2  10067319_8"
      ]
     },
     "execution_count": 5,
     "metadata": {},
     "output_type": "execute_result"
    }
   ],
   "source": [
    "diseases.head(1)"
   ]
  },
  {
   "cell_type": "markdown",
   "metadata": {},
   "source": [
    "## Example (get all plants of a given genus)\n",
    "\n",
    "From https://www.ncbi.nlm.nih.gov/Taxonomy/Browser/wwwtax.cgi?mode=Info&id=4059&lvl=3&lin=f&keep=1&srchmode=1&unlock"
   ]
  },
  {
   "cell_type": "code",
   "execution_count": 6,
   "metadata": {},
   "outputs": [],
   "source": [
    "list_of_plants = [\n",
    "    i.lower()\n",
    "    for i in networkx.ancestors(graph, 'NCBITaxon:4059')\n",
    "]"
   ]
  },
  {
   "cell_type": "code",
   "execution_count": 7,
   "metadata": {},
   "outputs": [
    {
     "data": {
      "text/plain": [
       "62"
      ]
     },
     "execution_count": 7,
     "metadata": {},
     "output_type": "execute_result"
    }
   ],
   "source": [
    "len(list_of_plants)"
   ]
  },
  {
   "cell_type": "markdown",
   "metadata": {},
   "source": [
    "Subset the disease dataset to the plants of the genus"
   ]
  },
  {
   "cell_type": "code",
   "execution_count": 8,
   "metadata": {},
   "outputs": [
    {
     "data": {
      "text/plain": [
       "array(['ncbitaxon:4060', 'ncbitaxon:403115', 'ncbitaxon:329875',\n",
       "       'ncbitaxon:498201', 'ncbitaxon:545371', 'ncbitaxon:930817',\n",
       "       'ncbitaxon:1217299'], dtype=object)"
      ]
     },
     "execution_count": 8,
     "metadata": {},
     "output_type": "execute_result"
    }
   ],
   "source": [
    "diseases[diseases['plant_curie'].isin(\n",
    "    list_of_plants\n",
    ")].plant_curie.unique()"
   ]
  },
  {
   "cell_type": "markdown",
   "metadata": {},
   "source": [
    "Count how many plants in the genus/family are medicinal plants"
   ]
  },
  {
   "cell_type": "code",
   "execution_count": 9,
   "metadata": {},
   "outputs": [
    {
     "data": {
      "text/plain": [
       "7"
      ]
     },
     "execution_count": 9,
     "metadata": {},
     "output_type": "execute_result"
    }
   ],
   "source": [
    "len(diseases[diseases['plant_curie'].isin(\n",
    "    list_of_plants\n",
    ")].plant_curie.unique())"
   ]
  },
  {
   "cell_type": "markdown",
   "metadata": {},
   "source": [
    "Read chemical dataset (plant-chemical relations)"
   ]
  },
  {
   "cell_type": "code",
   "execution_count": 10,
   "metadata": {},
   "outputs": [],
   "source": [
    "chemicals = pd.read_csv('../data/processed/plant_chemical_associations.tsv.zip', sep='\\t', compression='zip')"
   ]
  },
  {
   "cell_type": "code",
   "execution_count": 11,
   "metadata": {},
   "outputs": [
    {
     "data": {
      "text/html": [
       "<div>\n",
       "<style scoped>\n",
       "    .dataframe tbody tr th:only-of-type {\n",
       "        vertical-align: middle;\n",
       "    }\n",
       "\n",
       "    .dataframe tbody tr th {\n",
       "        vertical-align: top;\n",
       "    }\n",
       "\n",
       "    .dataframe thead th {\n",
       "        text-align: right;\n",
       "    }\n",
       "</style>\n",
       "<table border=\"1\" class=\"dataframe\">\n",
       "  <thead>\n",
       "    <tr style=\"text-align: right;\">\n",
       "      <th></th>\n",
       "      <th>plant_curie</th>\n",
       "      <th>plant name</th>\n",
       "      <th>chemical_curie</th>\n",
       "      <th>chemical name</th>\n",
       "      <th>database</th>\n",
       "      <th>evidence</th>\n",
       "    </tr>\n",
       "  </thead>\n",
       "  <tbody>\n",
       "    <tr>\n",
       "      <th>0</th>\n",
       "      <td>ncbitaxon:1000425</td>\n",
       "      <td>Pimpinella major</td>\n",
       "      <td>pubchem.compound:3527</td>\n",
       "      <td>3-[(3,4-Dihydroxyphenyl)(hydroxy)methylidene]-...</td>\n",
       "      <td>coconut</td>\n",
       "      <td>Relation from COCONUT</td>\n",
       "    </tr>\n",
       "  </tbody>\n",
       "</table>\n",
       "</div>"
      ],
      "text/plain": [
       "         plant_curie        plant name         chemical_curie  \\\n",
       "0  ncbitaxon:1000425  Pimpinella major  pubchem.compound:3527   \n",
       "\n",
       "                                       chemical name database  \\\n",
       "0  3-[(3,4-Dihydroxyphenyl)(hydroxy)methylidene]-...  coconut   \n",
       "\n",
       "                evidence  \n",
       "0  Relation from COCONUT  "
      ]
     },
     "execution_count": 11,
     "metadata": {},
     "output_type": "execute_result"
    }
   ],
   "source": [
    "chemicals.head(1)"
   ]
  },
  {
   "cell_type": "markdown",
   "metadata": {},
   "source": [
    "Plant in genus/family with chemical info"
   ]
  },
  {
   "cell_type": "code",
   "execution_count": 12,
   "metadata": {},
   "outputs": [
    {
     "data": {
      "text/plain": [
       "25"
      ]
     },
     "execution_count": 12,
     "metadata": {},
     "output_type": "execute_result"
    }
   ],
   "source": [
    "len(chemicals[chemicals['plant_curie'].isin(\n",
    "    list_of_plants\n",
    ")].plant_curie.unique())"
   ]
  },
  {
   "cell_type": "markdown",
   "metadata": {},
   "source": [
    "Overlap between chemical and disease"
   ]
  },
  {
   "cell_type": "code",
   "execution_count": 13,
   "metadata": {},
   "outputs": [
    {
     "data": {
      "text/plain": [
       "4"
      ]
     },
     "execution_count": 13,
     "metadata": {},
     "output_type": "execute_result"
    }
   ],
   "source": [
    "len(set(chemicals[chemicals['plant_curie'].isin(\n",
    "    list_of_plants\n",
    ")].plant_curie.unique()).intersection(\n",
    "    set(diseases[diseases['plant_curie'].isin(\n",
    "    list_of_plants\n",
    ")].plant_curie.unique())\n",
    "))"
   ]
  },
  {
   "cell_type": "markdown",
   "metadata": {},
   "source": [
    "See how many plants have a specific chemical (querying by PubChem ID)"
   ]
  },
  {
   "cell_type": "code",
   "execution_count": 14,
   "metadata": {},
   "outputs": [
    {
     "data": {
      "text/plain": [
       "0"
      ]
     },
     "execution_count": 14,
     "metadata": {},
     "output_type": "execute_result"
    }
   ],
   "source": [
    "len(chemicals[chemicals['chemical_curie'].isin(['pubchem.compound:5770'])].plant_curie.unique())"
   ]
  },
  {
   "cell_type": "markdown",
   "metadata": {},
   "source": [
    "See how many plants have a specific chemical (querying by name)"
   ]
  },
  {
   "cell_type": "code",
   "execution_count": 15,
   "metadata": {},
   "outputs": [],
   "source": [
    "subset = chemicals.dropna(subset=['chemical name'], how='all')"
   ]
  },
  {
   "cell_type": "code",
   "execution_count": 16,
   "metadata": {},
   "outputs": [
    {
     "data": {
      "text/html": [
       "<div>\n",
       "<style scoped>\n",
       "    .dataframe tbody tr th:only-of-type {\n",
       "        vertical-align: middle;\n",
       "    }\n",
       "\n",
       "    .dataframe tbody tr th {\n",
       "        vertical-align: top;\n",
       "    }\n",
       "\n",
       "    .dataframe thead th {\n",
       "        text-align: right;\n",
       "    }\n",
       "</style>\n",
       "<table border=\"1\" class=\"dataframe\">\n",
       "  <thead>\n",
       "    <tr style=\"text-align: right;\">\n",
       "      <th></th>\n",
       "      <th>plant_curie</th>\n",
       "      <th>plant name</th>\n",
       "      <th>chemical_curie</th>\n",
       "      <th>chemical name</th>\n",
       "      <th>database</th>\n",
       "      <th>evidence</th>\n",
       "    </tr>\n",
       "  </thead>\n",
       "  <tbody>\n",
       "    <tr>\n",
       "      <th>280900</th>\n",
       "      <td>ncbitaxon:4060</td>\n",
       "      <td>Rauvolfia serpentina</td>\n",
       "      <td>pubchem.compound:12442718</td>\n",
       "      <td>Reserpine N-Oxide</td>\n",
       "      <td>lotus</td>\n",
       "      <td>From LOTUS</td>\n",
       "    </tr>\n",
       "    <tr>\n",
       "      <th>303931</th>\n",
       "      <td>ncbitaxon:545371</td>\n",
       "      <td>Rauvolfia tetraphylla</td>\n",
       "      <td>pubchem.compound:5701996</td>\n",
       "      <td>Isoreserpine</td>\n",
       "      <td>lotus</td>\n",
       "      <td>From LOTUS</td>\n",
       "    </tr>\n",
       "    <tr>\n",
       "      <th>327962</th>\n",
       "      <td>ncbitaxon:947881</td>\n",
       "      <td>Rauvolfia grandiflora</td>\n",
       "      <td>pubchem.compound:5701996</td>\n",
       "      <td>Isoreserpine</td>\n",
       "      <td>lotus</td>\n",
       "      <td>From LOTUS</td>\n",
       "    </tr>\n",
       "  </tbody>\n",
       "</table>\n",
       "</div>"
      ],
      "text/plain": [
       "             plant_curie             plant name             chemical_curie  \\\n",
       "280900    ncbitaxon:4060   Rauvolfia serpentina  pubchem.compound:12442718   \n",
       "303931  ncbitaxon:545371  Rauvolfia tetraphylla   pubchem.compound:5701996   \n",
       "327962  ncbitaxon:947881  Rauvolfia grandiflora   pubchem.compound:5701996   \n",
       "\n",
       "            chemical name database    evidence  \n",
       "280900  Reserpine N-Oxide    lotus  From LOTUS  \n",
       "303931       Isoreserpine    lotus  From LOTUS  \n",
       "327962       Isoreserpine    lotus  From LOTUS  "
      ]
     },
     "execution_count": 16,
     "metadata": {},
     "output_type": "execute_result"
    }
   ],
   "source": [
    "subset[subset['chemical name'].str.contains('eserpine', case=False)]"
   ]
  },
  {
   "cell_type": "code",
   "execution_count": null,
   "metadata": {},
   "outputs": [],
   "source": []
  }
 ],
 "metadata": {
  "kernelspec": {
   "display_name": "Python 3",
   "language": "python",
   "name": "python3"
  },
  "language_info": {
   "codemirror_mode": {
    "name": "ipython",
    "version": 3
   },
   "file_extension": ".py",
   "mimetype": "text/x-python",
   "name": "python",
   "nbconvert_exporter": "python",
   "pygments_lexer": "ipython3",
   "version": "3.8.3"
  }
 },
 "nbformat": 4,
 "nbformat_minor": 4
}
