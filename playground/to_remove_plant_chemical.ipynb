{
 "cells": [
  {
   "cell_type": "markdown",
   "metadata": {},
   "source": [
    "### Improt modules"
   ]
  },
  {
   "cell_type": "code",
   "execution_count": 1,
   "metadata": {},
   "outputs": [
    {
     "name": "stderr",
     "output_type": "stream",
     "text": [
      "/Users/yojana/anaconda3/envs/kg-sources/lib/python3.9/site-packages/pybel/struct/operations.py:8: TqdmExperimentalWarning: Using `tqdm.autonotebook.tqdm` in notebook mode. Use `tqdm.tqdm` instead to force console mode (e.g. in jupyter console)\n",
      "  from tqdm.autonotebook import tqdm\n"
     ]
    }
   ],
   "source": [
    "import pybel\n",
    "import pandas as pd"
   ]
  },
  {
   "cell_type": "markdown",
   "metadata": {},
   "source": [
    "### Convert BEL to dataframes"
   ]
  },
  {
   "cell_type": "code",
   "execution_count": 2,
   "metadata": {},
   "outputs": [],
   "source": [
    "def bel_to_df(path, database, key):\n",
    "    graph = pybel.from_nodelink_file(path)\n",
    "    \n",
    "    rows = []\n",
    "    \n",
    "    for source, target, data in graph.edges(data=True):\n",
    "        \n",
    "        if isinstance(source, pybel.dsl.Population) and isinstance(target, pybel.dsl.Abundance):\n",
    "            \n",
    "            if not source.curie.startswith('ncbitaxon:'):\n",
    "                continue\n",
    "            \n",
    "            rows.append({\n",
    "                'plant_curie': source.curie,\n",
    "                'chemical_curie': target.curie,\n",
    "                'database': database,\n",
    "                'evidence': data[key] if key == 'evidence' else data[key]['identifier'],\n",
    "            })\n",
    "            \n",
    "    return pd.DataFrame(rows)\n",
    "        "
   ]
  },
  {
   "cell_type": "code",
   "execution_count": 3,
   "metadata": {},
   "outputs": [],
   "source": [
    "DATA_DIR = '../data'\n",
    "\n",
    "coconut = bel_to_df(\n",
    "    f'{DATA_DIR}/data_files/coconut.bel.nodelink.json',\n",
    "    'coconut',\n",
    "    'evidence'\n",
    ")\n",
    "\n",
    "lotus = bel_to_df(\n",
    "    f'{DATA_DIR}/data_files/lotus.bel.nodelink.json',\n",
    "    'lotus',\n",
    "    'evidence',\n",
    ")"
   ]
  },
  {
   "cell_type": "code",
   "execution_count": 4,
   "metadata": {},
   "outputs": [],
   "source": [
    "plant_chemical_associations_df = pd.concat([\n",
    "        coconut,\n",
    "        lotus,\n",
    "    ],\n",
    "    ignore_index=True,\n",
    ")"
   ]
  },
  {
   "cell_type": "code",
   "execution_count": 5,
   "metadata": {},
   "outputs": [
    {
     "data": {
      "text/plain": [
       "(330655, 4)"
      ]
     },
     "execution_count": 5,
     "metadata": {},
     "output_type": "execute_result"
    }
   ],
   "source": [
    "plant_chemical_associations_df.shape"
   ]
  },
  {
   "cell_type": "code",
   "execution_count": 6,
   "metadata": {},
   "outputs": [],
   "source": [
    "plant_chemical_associations_df.to_csv(\n",
    "    f'{DATA_DIR}/processed_data/plant-chemical/plant_chemical_associations.tsv', sep='\\t', index=False\n",
    ")"
   ]
  },
  {
   "cell_type": "code",
   "execution_count": null,
   "metadata": {},
   "outputs": [],
   "source": []
  }
 ],
 "metadata": {
  "kernelspec": {
   "display_name": "kg-sources",
   "language": "python",
   "name": "kg-sources"
  },
  "language_info": {
   "codemirror_mode": {
    "name": "ipython",
    "version": 3
   },
   "file_extension": ".py",
   "mimetype": "text/x-python",
   "name": "python",
   "nbconvert_exporter": "python",
   "pygments_lexer": "ipython3",
   "version": "3.9.12"
  }
 },
 "nbformat": 4,
 "nbformat_minor": 4
}