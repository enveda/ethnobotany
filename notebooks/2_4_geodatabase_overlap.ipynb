{
 "cells": [
  {
   "cell_type": "markdown",
   "id": "c67e6d48",
   "metadata": {
    "pycharm": {
     "name": "#%% md\n"
    }
   },
   "source": [
    "# Overview on the ecological data resource\n",
    "\n",
    "### Import modules"
   ]
  },
  {
   "cell_type": "code",
   "execution_count": 1,
   "id": "c6c82881",
   "metadata": {},
   "outputs": [],
   "source": [
    "import pandas as pd\n",
    "import json\n",
    "\n",
    "import matplotlib.pyplot as plt\n",
    "from matplotlib_venn import venn3_unweighted"
   ]
  },
  {
   "cell_type": "code",
   "execution_count": 2,
   "id": "502fba48",
   "metadata": {},
   "outputs": [],
   "source": [
    "%matplotlib inline"
   ]
  },
  {
   "cell_type": "code",
   "execution_count": 3,
   "id": "c095b900",
   "metadata": {},
   "outputs": [],
   "source": [
    "pd.set_option('display.max_columns', None)"
   ]
  },
  {
   "cell_type": "code",
   "execution_count": 4,
   "id": "f7a6ec8e",
   "metadata": {},
   "outputs": [],
   "source": [
    "DATA_DIR = '../data'\n",
    "MAPPING_DIR = '../data/mapping'"
   ]
  },
  {
   "cell_type": "code",
   "execution_count": 5,
   "id": "4477e339",
   "metadata": {},
   "outputs": [],
   "source": [
    "ncbi_ids_trefle = json.load(open(f'{MAPPING_DIR}/trefle_grounding.json'))\n",
    "ncbi_ids_try = json.load(open(f'{MAPPING_DIR}/trefle_grounding.json'))"
   ]
  },
  {
   "cell_type": "code",
   "execution_count": 6,
   "id": "fd712049",
   "metadata": {
    "scrolled": true
   },
   "outputs": [
    {
     "name": "stderr",
     "output_type": "stream",
     "text": [
      "/var/folders/61/bn_r735d70z03hg56wh7hsg80000gn/T/ipykernel_22032/859058547.py:3: FutureWarning: The default value of regex will change from True to False in a future version. In addition, single character regular expressions will *not* be treated as literal strings when regex=True.\n",
      "  trefle_df['scientific_name'] = trefle_df['scientific_name'].str.replace('?', '')\n"
     ]
    },
    {
     "data": {
      "text/html": [
       "<div>\n",
       "<style scoped>\n",
       "    .dataframe tbody tr th:only-of-type {\n",
       "        vertical-align: middle;\n",
       "    }\n",
       "\n",
       "    .dataframe tbody tr th {\n",
       "        vertical-align: top;\n",
       "    }\n",
       "\n",
       "    .dataframe thead th {\n",
       "        text-align: right;\n",
       "    }\n",
       "</style>\n",
       "<table border=\"1\" class=\"dataframe\">\n",
       "  <thead>\n",
       "    <tr style=\"text-align: right;\">\n",
       "      <th></th>\n",
       "      <th>id</th>\n",
       "      <th>scientific_name</th>\n",
       "      <th>rank</th>\n",
       "      <th>genus</th>\n",
       "      <th>family</th>\n",
       "      <th>year</th>\n",
       "      <th>author</th>\n",
       "      <th>bibliography</th>\n",
       "      <th>common_name</th>\n",
       "      <th>family_common_name</th>\n",
       "      <th>image_url</th>\n",
       "      <th>flower_color</th>\n",
       "      <th>flower_conspicuous</th>\n",
       "      <th>foliage_color</th>\n",
       "      <th>foliage_texture</th>\n",
       "      <th>fruit_color</th>\n",
       "      <th>fruit_conspicuous</th>\n",
       "      <th>fruit_months</th>\n",
       "      <th>bloom_months</th>\n",
       "      <th>ground_humidity</th>\n",
       "      <th>growth_form</th>\n",
       "      <th>growth_habit</th>\n",
       "      <th>growth_months</th>\n",
       "      <th>growth_rate</th>\n",
       "      <th>edible_part</th>\n",
       "      <th>vegetable</th>\n",
       "      <th>edible</th>\n",
       "      <th>light</th>\n",
       "      <th>soil_nutriments</th>\n",
       "      <th>soil_salinity</th>\n",
       "      <th>anaerobic_tolerance</th>\n",
       "      <th>atmospheric_humidity</th>\n",
       "      <th>average_height_cm</th>\n",
       "      <th>maximum_height_cm</th>\n",
       "      <th>minimum_root_depth_cm</th>\n",
       "      <th>ph_maximum</th>\n",
       "      <th>ph_minimum</th>\n",
       "      <th>planting_days_to_harvest</th>\n",
       "      <th>planting_description</th>\n",
       "      <th>planting_sowing_description</th>\n",
       "      <th>planting_row_spacing_cm</th>\n",
       "      <th>planting_spread_cm</th>\n",
       "      <th>synonyms</th>\n",
       "      <th>distributions</th>\n",
       "      <th>common_names</th>\n",
       "      <th>url_usda</th>\n",
       "      <th>url_tropicos</th>\n",
       "      <th>url_tela_botanica</th>\n",
       "      <th>url_powo</th>\n",
       "      <th>url_plantnet</th>\n",
       "      <th>url_gbif</th>\n",
       "      <th>url_openfarm</th>\n",
       "      <th>url_catminat</th>\n",
       "      <th>url_wikipedia_en</th>\n",
       "      <th>ncbi_ids</th>\n",
       "    </tr>\n",
       "  </thead>\n",
       "  <tbody>\n",
       "    <tr>\n",
       "      <th>0</th>\n",
       "      <td>101119</td>\n",
       "      <td>Abies balsamea</td>\n",
       "      <td>species</td>\n",
       "      <td>Abies</td>\n",
       "      <td>Pinaceae</td>\n",
       "      <td>1768.0</td>\n",
       "      <td>(L.) Mill.</td>\n",
       "      <td>Gard. Dict. ed. 8: n.º 3 (1768)</td>\n",
       "      <td>Balsam fir</td>\n",
       "      <td>Pine family</td>\n",
       "      <td>https://bs.floristic.org/image/o/46adef49b8399...</td>\n",
       "      <td>yellow</td>\n",
       "      <td>False</td>\n",
       "      <td>green</td>\n",
       "      <td>medium</td>\n",
       "      <td>brown</td>\n",
       "      <td>False</td>\n",
       "      <td>NaN</td>\n",
       "      <td>NaN</td>\n",
       "      <td>NaN</td>\n",
       "      <td>Single Stem</td>\n",
       "      <td>Tree</td>\n",
       "      <td>NaN</td>\n",
       "      <td>Slow</td>\n",
       "      <td>NaN</td>\n",
       "      <td>False</td>\n",
       "      <td>False</td>\n",
       "      <td>7.0</td>\n",
       "      <td>5.0</td>\n",
       "      <td>0.0</td>\n",
       "      <td>None</td>\n",
       "      <td>5.0</td>\n",
       "      <td>1828.0</td>\n",
       "      <td>1828.0</td>\n",
       "      <td>50.0</td>\n",
       "      <td>6.0</td>\n",
       "      <td>4.0</td>\n",
       "      <td>NaN</td>\n",
       "      <td>NaN</td>\n",
       "      <td>NaN</td>\n",
       "      <td>NaN</td>\n",
       "      <td>NaN</td>\n",
       "      <td>Pinus balsamea,Pinus taxifolia,Picea balsamea,...</td>\n",
       "      <td>Alberta,Connecticut,Iowa,Labrador,Maine,Manito...</td>\n",
       "      <td>Canada balsam,Balsam,Balsam fir,Fir balsam,Eas...</td>\n",
       "      <td>https://plants.usda.gov/core/profile?symbol=ABBA</td>\n",
       "      <td>NaN</td>\n",
       "      <td>NaN</td>\n",
       "      <td>http://powo.science.kew.org/taxon/urn:lsid:ipn...</td>\n",
       "      <td>https://identify.plantnet.org/species/the-plan...</td>\n",
       "      <td>https://www.gbif.org/species/2685383</td>\n",
       "      <td>NaN</td>\n",
       "      <td>NaN</td>\n",
       "      <td>https://en.wikipedia.org/wiki/Abies balsamea</td>\n",
       "      <td>ncbitaxon:90345</td>\n",
       "    </tr>\n",
       "    <tr>\n",
       "      <th>1</th>\n",
       "      <td>101124</td>\n",
       "      <td>Abies bracteata</td>\n",
       "      <td>species</td>\n",
       "      <td>Abies</td>\n",
       "      <td>Pinaceae</td>\n",
       "      <td>1845.0</td>\n",
       "      <td>(D.Don) Poit.</td>\n",
       "      <td>Rev. Hort. (Paris), sér. 2, 4: 7 (1845)</td>\n",
       "      <td>Bristlecone fir</td>\n",
       "      <td>Pine family</td>\n",
       "      <td>http://d2seqvvyy3b8p2.cloudfront.net/48f25e972...</td>\n",
       "      <td>NaN</td>\n",
       "      <td>NaN</td>\n",
       "      <td>NaN</td>\n",
       "      <td>NaN</td>\n",
       "      <td>NaN</td>\n",
       "      <td>NaN</td>\n",
       "      <td>NaN</td>\n",
       "      <td>NaN</td>\n",
       "      <td>NaN</td>\n",
       "      <td>NaN</td>\n",
       "      <td>Tree</td>\n",
       "      <td>NaN</td>\n",
       "      <td>NaN</td>\n",
       "      <td>NaN</td>\n",
       "      <td>False</td>\n",
       "      <td>False</td>\n",
       "      <td>NaN</td>\n",
       "      <td>NaN</td>\n",
       "      <td>NaN</td>\n",
       "      <td>NaN</td>\n",
       "      <td>NaN</td>\n",
       "      <td>NaN</td>\n",
       "      <td>NaN</td>\n",
       "      <td>NaN</td>\n",
       "      <td>NaN</td>\n",
       "      <td>NaN</td>\n",
       "      <td>NaN</td>\n",
       "      <td>NaN</td>\n",
       "      <td>NaN</td>\n",
       "      <td>NaN</td>\n",
       "      <td>NaN</td>\n",
       "      <td>Abies venusta,Pinus bracteata,Picea bracteata,...</td>\n",
       "      <td>California</td>\n",
       "      <td>NaN</td>\n",
       "      <td>https://plants.usda.gov/core/profile?symbol=ABBR</td>\n",
       "      <td>NaN</td>\n",
       "      <td>NaN</td>\n",
       "      <td>http://powo.science.kew.org/taxon/urn:lsid:ipn...</td>\n",
       "      <td>NaN</td>\n",
       "      <td>https://www.gbif.org/species/2685479</td>\n",
       "      <td>NaN</td>\n",
       "      <td>NaN</td>\n",
       "      <td>https://en.wikipedia.org/wiki/Abies bracteata</td>\n",
       "      <td>ncbitaxon:66168</td>\n",
       "    </tr>\n",
       "  </tbody>\n",
       "</table>\n",
       "</div>"
      ],
      "text/plain": [
       "       id  scientific_name     rank  genus    family    year         author  \\\n",
       "0  101119   Abies balsamea  species  Abies  Pinaceae  1768.0     (L.) Mill.   \n",
       "1  101124  Abies bracteata  species  Abies  Pinaceae  1845.0  (D.Don) Poit.   \n",
       "\n",
       "                              bibliography      common_name  \\\n",
       "0          Gard. Dict. ed. 8: n.º 3 (1768)       Balsam fir   \n",
       "1  Rev. Hort. (Paris), sér. 2, 4: 7 (1845)  Bristlecone fir   \n",
       "\n",
       "  family_common_name                                          image_url  \\\n",
       "0        Pine family  https://bs.floristic.org/image/o/46adef49b8399...   \n",
       "1        Pine family  http://d2seqvvyy3b8p2.cloudfront.net/48f25e972...   \n",
       "\n",
       "  flower_color flower_conspicuous foliage_color foliage_texture fruit_color  \\\n",
       "0       yellow              False         green          medium       brown   \n",
       "1          NaN                NaN           NaN             NaN         NaN   \n",
       "\n",
       "  fruit_conspicuous  fruit_months bloom_months  ground_humidity  growth_form  \\\n",
       "0             False           NaN          NaN              NaN  Single Stem   \n",
       "1               NaN           NaN          NaN              NaN          NaN   \n",
       "\n",
       "  growth_habit  growth_months growth_rate edible_part vegetable edible  light  \\\n",
       "0         Tree            NaN        Slow         NaN     False  False    7.0   \n",
       "1         Tree            NaN         NaN         NaN     False  False    NaN   \n",
       "\n",
       "   soil_nutriments  soil_salinity anaerobic_tolerance  atmospheric_humidity  \\\n",
       "0              5.0            0.0                None                   5.0   \n",
       "1              NaN            NaN                 NaN                   NaN   \n",
       "\n",
       "   average_height_cm  maximum_height_cm  minimum_root_depth_cm  ph_maximum  \\\n",
       "0             1828.0             1828.0                   50.0         6.0   \n",
       "1                NaN                NaN                    NaN         NaN   \n",
       "\n",
       "   ph_minimum  planting_days_to_harvest planting_description  \\\n",
       "0         4.0                       NaN                  NaN   \n",
       "1         NaN                       NaN                  NaN   \n",
       "\n",
       "  planting_sowing_description  planting_row_spacing_cm  planting_spread_cm  \\\n",
       "0                         NaN                      NaN                 NaN   \n",
       "1                         NaN                      NaN                 NaN   \n",
       "\n",
       "                                            synonyms  \\\n",
       "0  Pinus balsamea,Pinus taxifolia,Picea balsamea,...   \n",
       "1  Abies venusta,Pinus bracteata,Picea bracteata,...   \n",
       "\n",
       "                                       distributions  \\\n",
       "0  Alberta,Connecticut,Iowa,Labrador,Maine,Manito...   \n",
       "1                                         California   \n",
       "\n",
       "                                        common_names  \\\n",
       "0  Canada balsam,Balsam,Balsam fir,Fir balsam,Eas...   \n",
       "1                                                NaN   \n",
       "\n",
       "                                           url_usda url_tropicos  \\\n",
       "0  https://plants.usda.gov/core/profile?symbol=ABBA          NaN   \n",
       "1  https://plants.usda.gov/core/profile?symbol=ABBR          NaN   \n",
       "\n",
       "   url_tela_botanica                                           url_powo  \\\n",
       "0                NaN  http://powo.science.kew.org/taxon/urn:lsid:ipn...   \n",
       "1                NaN  http://powo.science.kew.org/taxon/urn:lsid:ipn...   \n",
       "\n",
       "                                        url_plantnet  \\\n",
       "0  https://identify.plantnet.org/species/the-plan...   \n",
       "1                                                NaN   \n",
       "\n",
       "                               url_gbif  url_openfarm  url_catminat  \\\n",
       "0  https://www.gbif.org/species/2685383           NaN           NaN   \n",
       "1  https://www.gbif.org/species/2685479           NaN           NaN   \n",
       "\n",
       "                                url_wikipedia_en         ncbi_ids  \n",
       "0   https://en.wikipedia.org/wiki/Abies balsamea  ncbitaxon:90345  \n",
       "1  https://en.wikipedia.org/wiki/Abies bracteata  ncbitaxon:66168  "
      ]
     },
     "execution_count": 6,
     "metadata": {},
     "output_type": "execute_result"
    }
   ],
   "source": [
    "trefle_df = pd.read_csv(f'{DATA_DIR}/raw/trefle_species_dump.csv', sep='\\t', low_memory=False)\n",
    "\n",
    "trefle_df['scientific_name'] = trefle_df['scientific_name'].str.replace('?', '')\n",
    "\n",
    "trefle_df['ncbi_ids'] = trefle_df['scientific_name'].map(lambda x: ncbi_ids_trefle[x][0])\n",
    "\n",
    "trefle_df.head(2)"
   ]
  },
  {
   "cell_type": "markdown",
   "id": "b48177ab",
   "metadata": {},
   "source": [
    "### Load try database"
   ]
  },
  {
   "cell_type": "code",
   "execution_count": 7,
   "id": "88f00ec5",
   "metadata": {},
   "outputs": [
    {
     "data": {
      "text/html": [
       "<div>\n",
       "<style scoped>\n",
       "    .dataframe tbody tr th:only-of-type {\n",
       "        vertical-align: middle;\n",
       "    }\n",
       "\n",
       "    .dataframe tbody tr th {\n",
       "        vertical-align: top;\n",
       "    }\n",
       "\n",
       "    .dataframe thead th {\n",
       "        text-align: right;\n",
       "    }\n",
       "</style>\n",
       "<table border=\"1\" class=\"dataframe\">\n",
       "  <thead>\n",
       "    <tr style=\"text-align: right;\">\n",
       "      <th></th>\n",
       "      <th>LastName</th>\n",
       "      <th>FirstName</th>\n",
       "      <th>DatasetID</th>\n",
       "      <th>Dataset</th>\n",
       "      <th>SpeciesName</th>\n",
       "      <th>AccSpeciesID</th>\n",
       "      <th>AccSpeciesName</th>\n",
       "      <th>ObservationID</th>\n",
       "      <th>ObsDataID</th>\n",
       "      <th>TraitID</th>\n",
       "      <th>TraitName</th>\n",
       "      <th>DataID</th>\n",
       "      <th>DataName</th>\n",
       "      <th>OriglName</th>\n",
       "      <th>OrigValueStr</th>\n",
       "      <th>OrigUnitStr</th>\n",
       "      <th>ValueKindName</th>\n",
       "      <th>OrigUncertaintyStr</th>\n",
       "      <th>UncertaintyName</th>\n",
       "      <th>Replicates</th>\n",
       "      <th>StdValue</th>\n",
       "      <th>UnitName</th>\n",
       "      <th>RelUncertaintyPercent</th>\n",
       "      <th>OrigObsDataID</th>\n",
       "      <th>ErrorRisk</th>\n",
       "      <th>Reference</th>\n",
       "      <th>Comment</th>\n",
       "      <th>StdValueStr</th>\n",
       "      <th>Unnamed: 28</th>\n",
       "      <th>ncbi_ids</th>\n",
       "    </tr>\n",
       "  </thead>\n",
       "  <tbody>\n",
       "    <tr>\n",
       "      <th>0</th>\n",
       "      <td>Craine</td>\n",
       "      <td>Joseph</td>\n",
       "      <td>130</td>\n",
       "      <td>Global 15N Database</td>\n",
       "      <td>Cupaniopsis anacardioides</td>\n",
       "      <td>15904</td>\n",
       "      <td>Cupaniopsis anacardioides</td>\n",
       "      <td>19375</td>\n",
       "      <td>487821</td>\n",
       "      <td>NaN</td>\n",
       "      <td>NaN</td>\n",
       "      <td>113</td>\n",
       "      <td>Reference / source</td>\n",
       "      <td>Publication</td>\n",
       "      <td>Cook 2001</td>\n",
       "      <td>NaN</td>\n",
       "      <td>NaN</td>\n",
       "      <td>NaN</td>\n",
       "      <td>NaN</td>\n",
       "      <td>NaN</td>\n",
       "      <td>NaN</td>\n",
       "      <td>NaN</td>\n",
       "      <td>NaN</td>\n",
       "      <td>NaN</td>\n",
       "      <td>NaN</td>\n",
       "      <td>Craine, J. M., A. J. Elmore, M. P. M. Aidar, M...</td>\n",
       "      <td>NaN</td>\n",
       "      <td>1593</td>\n",
       "      <td>NaN</td>\n",
       "      <td>ncbitaxon:13467</td>\n",
       "    </tr>\n",
       "    <tr>\n",
       "      <th>1</th>\n",
       "      <td>Craine</td>\n",
       "      <td>Joseph</td>\n",
       "      <td>130</td>\n",
       "      <td>Global 15N Database</td>\n",
       "      <td>Cupaniopsis anacardioides</td>\n",
       "      <td>15904</td>\n",
       "      <td>Cupaniopsis anacardioides</td>\n",
       "      <td>19375</td>\n",
       "      <td>487825</td>\n",
       "      <td>NaN</td>\n",
       "      <td>NaN</td>\n",
       "      <td>60</td>\n",
       "      <td>Longitude</td>\n",
       "      <td>Long</td>\n",
       "      <td>130.9</td>\n",
       "      <td>NaN</td>\n",
       "      <td>NaN</td>\n",
       "      <td>NaN</td>\n",
       "      <td>NaN</td>\n",
       "      <td>NaN</td>\n",
       "      <td>130.9</td>\n",
       "      <td>NaN</td>\n",
       "      <td>NaN</td>\n",
       "      <td>NaN</td>\n",
       "      <td>NaN</td>\n",
       "      <td>Craine, J. M., A. J. Elmore, M. P. M. Aidar, M...</td>\n",
       "      <td>decimal</td>\n",
       "      <td>NaN</td>\n",
       "      <td>NaN</td>\n",
       "      <td>ncbitaxon:13467</td>\n",
       "    </tr>\n",
       "  </tbody>\n",
       "</table>\n",
       "</div>"
      ],
      "text/plain": [
       "  LastName FirstName  DatasetID              Dataset  \\\n",
       "0   Craine    Joseph        130  Global 15N Database   \n",
       "1   Craine    Joseph        130  Global 15N Database   \n",
       "\n",
       "                 SpeciesName  AccSpeciesID             AccSpeciesName  \\\n",
       "0  Cupaniopsis anacardioides         15904  Cupaniopsis anacardioides   \n",
       "1  Cupaniopsis anacardioides         15904  Cupaniopsis anacardioides   \n",
       "\n",
       "   ObservationID  ObsDataID  TraitID TraitName  DataID            DataName  \\\n",
       "0          19375     487821      NaN       NaN     113  Reference / source   \n",
       "1          19375     487825      NaN       NaN      60           Longitude   \n",
       "\n",
       "     OriglName OrigValueStr OrigUnitStr ValueKindName  OrigUncertaintyStr  \\\n",
       "0  Publication    Cook 2001         NaN           NaN                 NaN   \n",
       "1         Long        130.9         NaN           NaN                 NaN   \n",
       "\n",
       "  UncertaintyName Replicates  StdValue UnitName  RelUncertaintyPercent  \\\n",
       "0             NaN        NaN       NaN      NaN                    NaN   \n",
       "1             NaN        NaN     130.9      NaN                    NaN   \n",
       "\n",
       "   OrigObsDataID  ErrorRisk  \\\n",
       "0            NaN        NaN   \n",
       "1            NaN        NaN   \n",
       "\n",
       "                                           Reference  Comment StdValueStr  \\\n",
       "0  Craine, J. M., A. J. Elmore, M. P. M. Aidar, M...      NaN        1593   \n",
       "1  Craine, J. M., A. J. Elmore, M. P. M. Aidar, M...  decimal         NaN   \n",
       "\n",
       "   Unnamed: 28         ncbi_ids  \n",
       "0          NaN  ncbitaxon:13467  \n",
       "1          NaN  ncbitaxon:13467  "
      ]
     },
     "execution_count": 7,
     "metadata": {},
     "output_type": "execute_result"
    }
   ],
   "source": [
    "# This database is not public and cannot be shared externally without author permission. Please download the dump from the original resource\n",
    "try_df = pd.read_csv(\n",
    "    '/Users/yojana/Downloads/23255_08112022232657/23255.txt',\n",
    "    sep='\\t', \n",
    "    encoding='latin1',\n",
    "    low_memory=False\n",
    ")\n",
    "\n",
    "try_df['ncbi_ids'] = try_df['SpeciesName'].map(lambda x: ncbi_ids_try[x][0] if x in ncbi_ids_try else '')\n",
    "\n",
    "try_df.head(2)"
   ]
  },
  {
   "cell_type": "code",
   "execution_count": 8,
   "id": "94cba4f5",
   "metadata": {},
   "outputs": [
    {
     "data": {
      "text/plain": [
       "(1343003, 30)"
      ]
     },
     "execution_count": 8,
     "metadata": {},
     "output_type": "execute_result"
    }
   ],
   "source": [
    "try_df.dropna(subset=['ncbi_ids'], inplace=True)\n",
    "try_df.shape"
   ]
  },
  {
   "cell_type": "markdown",
   "id": "b4b0f742",
   "metadata": {},
   "source": [
    "### Load plant-disease evidences"
   ]
  },
  {
   "cell_type": "code",
   "execution_count": 9,
   "id": "538319d0",
   "metadata": {},
   "outputs": [
    {
     "data": {
      "text/html": [
       "<div>\n",
       "<style scoped>\n",
       "    .dataframe tbody tr th:only-of-type {\n",
       "        vertical-align: middle;\n",
       "    }\n",
       "\n",
       "    .dataframe tbody tr th {\n",
       "        vertical-align: top;\n",
       "    }\n",
       "\n",
       "    .dataframe thead th {\n",
       "        text-align: right;\n",
       "    }\n",
       "</style>\n",
       "<table border=\"1\" class=\"dataframe\">\n",
       "  <thead>\n",
       "    <tr style=\"text-align: right;\">\n",
       "      <th></th>\n",
       "      <th>plant_curie</th>\n",
       "      <th>plant_name</th>\n",
       "      <th>disease_curie</th>\n",
       "      <th>database</th>\n",
       "      <th>evidence</th>\n",
       "    </tr>\n",
       "  </thead>\n",
       "  <tbody>\n",
       "    <tr>\n",
       "      <th>0</th>\n",
       "      <td>ncbitaxon:3369</td>\n",
       "      <td>Cryptomeria japonica</td>\n",
       "      <td>mondo:0024623</td>\n",
       "      <td>bern2</td>\n",
       "      <td>10067319_8</td>\n",
       "    </tr>\n",
       "    <tr>\n",
       "      <th>1</th>\n",
       "      <td>ncbitaxon:3369</td>\n",
       "      <td>Cryptomeria japonica</td>\n",
       "      <td>mondo:0005087</td>\n",
       "      <td>bern2</td>\n",
       "      <td>10067319_8</td>\n",
       "    </tr>\n",
       "  </tbody>\n",
       "</table>\n",
       "</div>"
      ],
      "text/plain": [
       "      plant_curie            plant_name  disease_curie database    evidence\n",
       "0  ncbitaxon:3369  Cryptomeria japonica  mondo:0024623    bern2  10067319_8\n",
       "1  ncbitaxon:3369  Cryptomeria japonica  mondo:0005087    bern2  10067319_8"
      ]
     },
     "execution_count": 9,
     "metadata": {},
     "output_type": "execute_result"
    }
   ],
   "source": [
    "collapsed_plant_disease_df = pd.read_csv(\n",
    "    f'{DATA_DIR}/processed/plant_disease_collapsed.tsv.gz',\n",
    "    sep='\\t',\n",
    "    compression='gzip',\n",
    "    low_memory=False\n",
    ")\n",
    "collapsed_plant_disease_df.head(2)"
   ]
  },
  {
   "cell_type": "code",
   "execution_count": 10,
   "id": "f1c0f1eb",
   "metadata": {},
   "outputs": [],
   "source": [
    "medicinal_plant_list = set(collapsed_plant_disease_df['plant_curie'].to_list())"
   ]
  },
  {
   "cell_type": "code",
   "execution_count": 11,
   "id": "028a3d73",
   "metadata": {},
   "outputs": [],
   "source": [
    "trefle_plants = set(trefle_df['ncbi_ids'].to_list())"
   ]
  },
  {
   "cell_type": "code",
   "execution_count": 12,
   "id": "fab3b75a",
   "metadata": {},
   "outputs": [],
   "source": [
    "try_plants = set(try_df['ncbi_ids'].to_list())"
   ]
  },
  {
   "cell_type": "markdown",
   "id": "2a665675",
   "metadata": {},
   "source": [
    "### Overlapping data"
   ]
  },
  {
   "cell_type": "code",
   "execution_count": 13,
   "id": "b2a65882",
   "metadata": {},
   "outputs": [
    {
     "data": {
      "image/png": "[encoded data removed]",
      "text/plain": [
       "<Figure size 900x900 with 1 Axes>"
      ]
     },
     "metadata": {},
     "output_type": "display_data"
    }
   ],
   "source": [
    "plt.figure(dpi=300, figsize=([3,3]))\n",
    "\n",
    "venn3_unweighted(\n",
    "    [medicinal_plant_list, trefle_plants, try_plants],\n",
    "    ('All plants', 'Trefle', 'Try'),\n",
    "    alpha=.7\n",
    ")\n",
    "\n",
    "plt.tight_layout()\n",
    "plt.savefig(f'{DATA_DIR}/figures/supplementary_figure_2.png', bbox_inches='tight')\n",
    "plt.show()"
   ]
  },
  {
   "cell_type": "code",
   "execution_count": 14,
   "id": "adf3f1c7",
   "metadata": {},
   "outputs": [
    {
     "data": {
      "text/plain": [
       "(4726, 5636)"
      ]
     },
     "execution_count": 14,
     "metadata": {},
     "output_type": "execute_result"
    }
   ],
   "source": [
    "## Overlap between the trefle and medicinal plants\n",
    "len(trefle_plants.intersection(medicinal_plant_list)), len(medicinal_plant_list)"
   ]
  },
  {
   "cell_type": "code",
   "execution_count": 15,
   "id": "acb2b139",
   "metadata": {},
   "outputs": [
    {
     "data": {
      "text/plain": [
       "(1302, 5636)"
      ]
     },
     "execution_count": 15,
     "metadata": {},
     "output_type": "execute_result"
    }
   ],
   "source": [
    "## Overlap between the try and medicinal plants\n",
    "len(try_plants.intersection(medicinal_plant_list)), len(medicinal_plant_list)"
   ]
  },
  {
   "cell_type": "code",
   "execution_count": 16,
   "id": "a07079d9",
   "metadata": {},
   "outputs": [
    {
     "data": {
      "text/plain": [
       "910"
      ]
     },
     "execution_count": 16,
     "metadata": {},
     "output_type": "execute_result"
    }
   ],
   "source": [
    "## Plants not found in trefle\n",
    "len(medicinal_plant_list.difference(trefle_plants))"
   ]
  },
  {
   "cell_type": "code",
   "execution_count": 17,
   "id": "dd1b0fa8",
   "metadata": {},
   "outputs": [
    {
     "data": {
      "text/plain": [
       "4334"
      ]
     },
     "execution_count": 17,
     "metadata": {},
     "output_type": "execute_result"
    }
   ],
   "source": [
    "## Plants not found in try\n",
    "len(medicinal_plant_list.difference(try_plants))"
   ]
  },
  {
   "cell_type": "code",
   "execution_count": 18,
   "id": "55247134",
   "metadata": {},
   "outputs": [
    {
     "data": {
      "text/plain": [
       "910"
      ]
     },
     "execution_count": 18,
     "metadata": {},
     "output_type": "execute_result"
    }
   ],
   "source": [
    "## Overlap between try + trefle and medicinal plants\n",
    "combined = try_plants.union(trefle_plants)\n",
    "len(medicinal_plant_list.difference(combined))"
   ]
  },
  {
   "cell_type": "code",
   "execution_count": 19,
   "id": "85423b17",
   "metadata": {},
   "outputs": [
    {
     "data": {
      "text/plain": [
       "4726"
      ]
     },
     "execution_count": 19,
     "metadata": {},
     "output_type": "execute_result"
    }
   ],
   "source": [
    "len(medicinal_plant_list.intersection(combined))"
   ]
  },
  {
   "cell_type": "code",
   "execution_count": null,
   "id": "3c5c2261",
   "metadata": {},
   "outputs": [],
   "source": []
  }
 ],
 "metadata": {
  "kernelspec": {
   "display_name": "kg-sources",
   "language": "python",
   "name": "kg-sources"
  },
  "language_info": {
   "codemirror_mode": {
    "name": "ipython",
    "version": 3
   },
   "file_extension": ".py",
   "mimetype": "text/x-python",
   "name": "python",
   "nbconvert_exporter": "python",
   "pygments_lexer": "ipython3",
   "version": "3.9.12"
  }
 },
 "nbformat": 4,
 "nbformat_minor": 5
}
