{
 "cells": [
  {
   "cell_type": "markdown",
   "metadata": {
    "pycharm": {
     "name": "#%% md\n"
    }
   },
   "source": [
    "# Investigating the correlation between plant pairs (related by genus) and their geolocation \n",
    "\n",
    "### Import modules"
   ]
  },
  {
   "cell_type": "code",
   "execution_count": 1,
   "metadata": {
    "pycharm": {
     "name": "#%%\n"
    }
   },
   "outputs": [
    {
     "name": "stderr",
     "output_type": "stream",
     "text": [
      "/Users/danieldomingo/anaconda3/lib/python3.8/site-packages/pandas/core/computation/expressions.py:20: UserWarning: Pandas requires version '2.7.3' or newer of 'numexpr' (version '2.7.1' currently installed).\n",
      "  from pandas.core.computation.check import NUMEXPR_INSTALLED\n"
     ]
    }
   ],
   "source": [
    "import logging\n",
    "from collections import defaultdict\n",
    "import json\n",
    "import pandas as pd\n",
    "from tqdm import tqdm\n",
    "    \n",
    "# Stats\n",
    "from scipy.stats import pearsonr\n",
    "from statannot import add_stat_annotation\n",
    "import ptitprince as pt\n",
    "\n",
    "# Viz\n",
    "import matplotlib as mpl\n",
    "import seaborn as sns\n",
    "import matplotlib.pyplot as plt"
   ]
  },
  {
   "cell_type": "code",
   "execution_count": 2,
   "metadata": {
    "pycharm": {
     "name": "#%%\n"
    }
   },
   "outputs": [],
   "source": [
    "%matplotlib inline"
   ]
  },
  {
   "cell_type": "code",
   "execution_count": 3,
   "metadata": {
    "pycharm": {
     "name": "#%%\n"
    }
   },
   "outputs": [],
   "source": [
    "logging.disable()\n",
    "pd.options.mode.chained_assignment = None"
   ]
  },
  {
   "cell_type": "code",
   "execution_count": 4,
   "metadata": {
    "pycharm": {
     "name": "#%%\n"
    }
   },
   "outputs": [],
   "source": [
    "DATA_DIR = '../data/processed'"
   ]
  },
  {
   "cell_type": "markdown",
   "metadata": {
    "pycharm": {
     "name": "#%% md\n"
    }
   },
   "source": [
    "### Load plant-disease evidences"
   ]
  },
  {
   "cell_type": "code",
   "execution_count": 19,
   "metadata": {
    "pycharm": {
     "name": "#%%\n"
    }
   },
   "outputs": [
    {
     "name": "stderr",
     "output_type": "stream",
     "text": [
      "<ipython-input-19-3056a9de1951>:1: DtypeWarning: Columns (3,4) have mixed types. Specify dtype option on import or set low_memory=False.\n",
      "  literature_pairs = pd.read_csv(\n"
     ]
    }
   ],
   "source": [
    "literature_pairs = pd.read_csv(\n",
    "    f'{DATA_DIR}/database_based_correlation_data.tsv.gz',\n",
    "    compression='gzip',\n",
    "    sep='\\t',\n",
    "    names=['plant_1', 'plant_2', 'pair_type', 'pearson_coefficient'],\n",
    ")"
   ]
  },
  {
   "cell_type": "code",
   "execution_count": 20,
   "metadata": {},
   "outputs": [
    {
     "data": {
      "text/plain": [
       "Index(['plant_1', 'plant_2', 'pair_type', 'pearson_coefficient', 'cosine_sim'], dtype='object')"
      ]
     },
     "execution_count": 20,
     "metadata": {},
     "output_type": "execute_result"
    }
   ],
   "source": [
    "literature_pairs_genus.columns\n"
   ]
  },
  {
   "cell_type": "code",
   "execution_count": 6,
   "metadata": {
    "pycharm": {
     "name": "#%%\n"
    }
   },
   "outputs": [],
   "source": [
    "literature_pairs_genus = literature_pairs[literature_pairs['pair_type'] == 'Same genus']"
   ]
  },
  {
   "cell_type": "code",
   "execution_count": 7,
   "metadata": {
    "pycharm": {
     "name": "#%%\n"
    }
   },
   "outputs": [
    {
     "data": {
      "text/plain": [
       "1586"
      ]
     },
     "execution_count": 7,
     "metadata": {},
     "output_type": "execute_result"
    }
   ],
   "source": [
    "medicinal_plants_lit = set(literature_pairs_genus['plant_1'].tolist()).union(\n",
    "    literature_pairs_genus['plant_2'].tolist()\n",
    ")\n",
    "len(medicinal_plants_lit)"
   ]
  },
  {
   "cell_type": "markdown",
   "metadata": {
    "pycharm": {
     "name": "#%% md\n"
    }
   },
   "source": [
    "### Loading plant location data"
   ]
  },
  {
   "cell_type": "code",
   "execution_count": 8,
   "metadata": {
    "pycharm": {
     "name": "#%%\n"
    }
   },
   "outputs": [],
   "source": [
    "ncbi_ids_trefle = json.load(open('../data/mapping/trefle_grounding.json'))"
   ]
  },
  {
   "cell_type": "code",
   "execution_count": 9,
   "metadata": {
    "pycharm": {
     "name": "#%%\n"
    }
   },
   "outputs": [],
   "source": [
    "trefle_df = pd.read_csv(\n",
    "    '../data/raw/trefle_species_dump.csv', \n",
    "    sep='\\t', \n",
    "    usecols=['scientific_name', 'distributions']\n",
    ")"
   ]
  },
  {
   "cell_type": "code",
   "execution_count": 10,
   "metadata": {
    "pycharm": {
     "name": "#%%\n"
    }
   },
   "outputs": [
    {
     "name": "stderr",
     "output_type": "stream",
     "text": [
      "<ipython-input-10-baba2640493b>:1: FutureWarning: The default value of regex will change from True to False in a future version. In addition, single character regular expressions will *not* be treated as literal strings when regex=True.\n",
      "  trefle_df['scientific_name'] = trefle_df['scientific_name'].str.replace('?', '')\n"
     ]
    },
    {
     "data": {
      "text/html": [
       "<div>\n",
       "<style scoped>\n",
       "    .dataframe tbody tr th:only-of-type {\n",
       "        vertical-align: middle;\n",
       "    }\n",
       "\n",
       "    .dataframe tbody tr th {\n",
       "        vertical-align: top;\n",
       "    }\n",
       "\n",
       "    .dataframe thead th {\n",
       "        text-align: right;\n",
       "    }\n",
       "</style>\n",
       "<table border=\"1\" class=\"dataframe\">\n",
       "  <thead>\n",
       "    <tr style=\"text-align: right;\">\n",
       "      <th></th>\n",
       "      <th>scientific_name</th>\n",
       "      <th>distributions</th>\n",
       "      <th>ncbi_ids</th>\n",
       "    </tr>\n",
       "  </thead>\n",
       "  <tbody>\n",
       "    <tr>\n",
       "      <th>29</th>\n",
       "      <td>Abutilon theophrasti</td>\n",
       "      <td>Thailand,China North-Central,China South-Centr...</td>\n",
       "      <td>ncbitaxon:3631</td>\n",
       "    </tr>\n",
       "    <tr>\n",
       "      <th>207</th>\n",
       "      <td>Achyranthes aspera</td>\n",
       "      <td>Afghanistan,Andaman Is.,Angola,Assam,Banglades...</td>\n",
       "      <td>ncbitaxon:240005</td>\n",
       "    </tr>\n",
       "    <tr>\n",
       "      <th>208</th>\n",
       "      <td>Achyranthes aspera var. aspera</td>\n",
       "      <td>NaN</td>\n",
       "      <td>ncbitaxon:240005</td>\n",
       "    </tr>\n",
       "  </tbody>\n",
       "</table>\n",
       "</div>"
      ],
      "text/plain": [
       "                    scientific_name  \\\n",
       "29             Abutilon theophrasti   \n",
       "207              Achyranthes aspera   \n",
       "208  Achyranthes aspera var. aspera   \n",
       "\n",
       "                                         distributions          ncbi_ids  \n",
       "29   Thailand,China North-Central,China South-Centr...    ncbitaxon:3631  \n",
       "207  Afghanistan,Andaman Is.,Angola,Assam,Banglades...  ncbitaxon:240005  \n",
       "208                                                NaN  ncbitaxon:240005  "
      ]
     },
     "execution_count": 10,
     "metadata": {},
     "output_type": "execute_result"
    }
   ],
   "source": [
    "trefle_df['scientific_name'] = trefle_df['scientific_name'].str.replace('?', '')\n",
    "trefle_df['ncbi_ids'] = trefle_df['scientific_name'].map(lambda x: ncbi_ids_trefle[x][0])\n",
    "trefle_df = trefle_df[trefle_df['ncbi_ids'].isin(medicinal_plants_lit)]\n",
    "trefle_df.head(3)"
   ]
  },
  {
   "cell_type": "code",
   "execution_count": 11,
   "metadata": {
    "pycharm": {
     "name": "#%%\n"
    }
   },
   "outputs": [],
   "source": [
    "geolocation_data = pd.read_csv(\n",
    "    f'{DATA_DIR}/plant_geolocation.tsv.gz',\n",
    "    compression='gzip',\n",
    "    sep='\\t', \n",
    "    index_col='Plant location (trefle)',\n",
    "    usecols=['Plant location (trefle)', 'Country']\n",
    ")\n",
    "geolocation_data = geolocation_data[geolocation_data['Country'] != '-']"
   ]
  },
  {
   "cell_type": "code",
   "execution_count": 12,
   "metadata": {
    "pycharm": {
     "name": "#%%\n"
    }
   },
   "outputs": [
    {
     "data": {
      "text/plain": [
       "308"
      ]
     },
     "execution_count": 12,
     "metadata": {},
     "output_type": "execute_result"
    }
   ],
   "source": [
    "loc_info = geolocation_data.to_dict()['Country']\n",
    "len(loc_info)"
   ]
  },
  {
   "cell_type": "markdown",
   "metadata": {
    "pycharm": {
     "name": "#%% md\n"
    }
   },
   "source": [
    "### Create location dictionary"
   ]
  },
  {
   "cell_type": "code",
   "execution_count": 13,
   "metadata": {
    "pycharm": {
     "name": "#%%\n"
    }
   },
   "outputs": [
    {
     "name": "stderr",
     "output_type": "stream",
     "text": [
      "100%|██████████| 2077/2077 [00:00<00:00, 49507.68it/s]\n"
     ]
    },
    {
     "data": {
      "text/plain": [
       "(1257, 59)"
      ]
     },
     "execution_count": 13,
     "metadata": {},
     "output_type": "execute_result"
    }
   ],
   "source": [
    "plant_loc_data = defaultdict(set)\n",
    "skip = set()\n",
    "\n",
    "for _, locations, ncbi_ids in tqdm(trefle_df.values):\n",
    "    if pd.isna(locations):\n",
    "        continue\n",
    "    for loc_name in locations.split(','):\n",
    "        if loc_name not in loc_info:\n",
    "            skip.add(loc_name)\n",
    "            continue\n",
    "        plant_loc_data[ncbi_ids].add(loc_info[loc_name])\n",
    "        \n",
    "len(plant_loc_data), len(skip)"
   ]
  },
  {
   "cell_type": "markdown",
   "metadata": {
    "pycharm": {
     "name": "#%% md\n"
    }
   },
   "source": [
    "The locations that have been skipped in the previous step correspond to Islands."
   ]
  },
  {
   "cell_type": "markdown",
   "metadata": {
    "pycharm": {
     "name": "#%% md\n"
    }
   },
   "source": [
    "### Correlation plot"
   ]
  },
  {
   "cell_type": "code",
   "execution_count": 14,
   "metadata": {
    "pycharm": {
     "name": "#%%\n"
    }
   },
   "outputs": [],
   "source": [
    "def calculate_overlap_coefficient(elements_in_plant_1, elements_in_plant_2):\n",
    "    \"\"\"Calculate coeffiencient overlap.\"\"\"\n",
    "    if not elements_in_plant_1 or not elements_in_plant_2:\n",
    "        return 0\n",
    "    \n",
    "    return len(\n",
    "        elements_in_plant_1.intersection(elements_in_plant_2)\n",
    "    ) / min([len(elements_in_plant_1), len(elements_in_plant_2)])"
   ]
  },
  {
   "cell_type": "code",
   "execution_count": 15,
   "metadata": {
    "pycharm": {
     "name": "#%%\n"
    }
   },
   "outputs": [
    {
     "name": "stderr",
     "output_type": "stream",
     "text": [
      "  0%|          | 0/3533 [00:00<?, ?it/s]\n"
     ]
    },
    {
     "ename": "ValueError",
     "evalue": "too many values to unpack (expected 4)",
     "output_type": "error",
     "traceback": [
      "\u001b[0;31m---------------------------------------------------------------------------\u001b[0m",
      "\u001b[0;31mValueError\u001b[0m                                Traceback (most recent call last)",
      "\u001b[0;32m<ipython-input-15-e63ecd9c5f30>\u001b[0m in \u001b[0;36m<module>\u001b[0;34m\u001b[0m\n\u001b[1;32m      1\u001b[0m \u001b[0mrows\u001b[0m \u001b[0;34m=\u001b[0m \u001b[0;34m[\u001b[0m\u001b[0;34m]\u001b[0m\u001b[0;34m\u001b[0m\u001b[0;34m\u001b[0m\u001b[0m\n\u001b[1;32m      2\u001b[0m \u001b[0;34m\u001b[0m\u001b[0m\n\u001b[0;32m----> 3\u001b[0;31m \u001b[0;32mfor\u001b[0m \u001b[0mplant1\u001b[0m\u001b[0;34m,\u001b[0m \u001b[0mplant2\u001b[0m\u001b[0;34m,\u001b[0m \u001b[0m_\u001b[0m\u001b[0;34m,\u001b[0m \u001b[0mcoeff\u001b[0m \u001b[0;32min\u001b[0m \u001b[0mtqdm\u001b[0m\u001b[0;34m(\u001b[0m\u001b[0mliterature_pairs_genus\u001b[0m\u001b[0;34m.\u001b[0m\u001b[0mvalues\u001b[0m\u001b[0;34m)\u001b[0m\u001b[0;34m:\u001b[0m\u001b[0;34m\u001b[0m\u001b[0;34m\u001b[0m\u001b[0m\n\u001b[0m\u001b[1;32m      4\u001b[0m     \u001b[0;32mif\u001b[0m \u001b[0mplant1\u001b[0m \u001b[0;32mnot\u001b[0m \u001b[0;32min\u001b[0m \u001b[0mplant_loc_data\u001b[0m \u001b[0;32mor\u001b[0m \u001b[0mplant2\u001b[0m \u001b[0;32mnot\u001b[0m \u001b[0;32min\u001b[0m \u001b[0mplant_loc_data\u001b[0m\u001b[0;34m:\u001b[0m\u001b[0;34m\u001b[0m\u001b[0;34m\u001b[0m\u001b[0m\n\u001b[1;32m      5\u001b[0m         \u001b[0;32mcontinue\u001b[0m\u001b[0;34m\u001b[0m\u001b[0;34m\u001b[0m\u001b[0m\n",
      "\u001b[0;31mValueError\u001b[0m: too many values to unpack (expected 4)"
     ]
    }
   ],
   "source": [
    "rows = []\n",
    "\n",
    "for plant1, plant2, _, coeff, _ in tqdm(literature_pairs_genus.values):\n",
    "    if plant1 not in plant_loc_data or plant2 not in plant_loc_data:\n",
    "        continue\n",
    "        \n",
    "    loc_plant_1 = plant_loc_data[plant1]\n",
    "    loc_plant_2 = plant_loc_data[plant2]\n",
    "    overlap_coeff = calculate_overlap_coefficient(loc_plant_1, loc_plant_2)\n",
    "    \n",
    "    if overlap_coeff == 0:\n",
    "        overlap_score = 'No overlap'\n",
    "    elif overlap_coeff < 0.4:\n",
    "        overlap_score = 'Low'\n",
    "    elif 0.4 < overlap_coeff < 0.8:\n",
    "        overlap_score = 'Medium'\n",
    "    else:\n",
    "        overlap_score = 'High'\n",
    "        \n",
    "    rows.append({\n",
    "        'plant_1': plant1, \n",
    "        'plant_2': plant2,\n",
    "        'Geographical similarity (country overlap)': overlap_score, \n",
    "        'pearson_coefficient': coeff,\n",
    "    })"
   ]
  },
  {
   "cell_type": "code",
   "execution_count": null,
   "metadata": {
    "pycharm": {
     "name": "#%%\n"
    }
   },
   "outputs": [],
   "source": [
    "merged_df = pd.DataFrame(rows)"
   ]
  },
  {
   "cell_type": "code",
   "execution_count": null,
   "metadata": {
    "pycharm": {
     "name": "#%%\n"
    }
   },
   "outputs": [],
   "source": [
    "sns.set(context='poster')\n",
    "mpl.rcParams['figure.dpi'] = 400"
   ]
  },
  {
   "cell_type": "code",
   "execution_count": null,
   "metadata": {
    "pycharm": {
     "name": "#%%\n"
    }
   },
   "outputs": [],
   "source": [
    "fig = plt.figure(figsize=(18, 11)) \n",
    "ax1 = fig.add_subplot(111)\n",
    "\n",
    "suptitle = plt.suptitle(\n",
    "    'Indication area similarity between \\ngeographically-close and distant medicinal plants',\n",
    "    y=0.99,\n",
    "    fontweight='bold'\n",
    ")\n",
    "\n",
    "pt.RainCloud(\n",
    "    data=merged_df,\n",
    "    x='Geographical similarity (country overlap)',\n",
    "    y='pearson_coefficient',\n",
    "    ax=ax1,\n",
    "    order=['No overlap', 'Low', 'Medium', 'High'],\n",
    ")\n",
    "add_stat_annotation(\n",
    "    data=merged_df,\n",
    "    x='Geographical similarity (country overlap)',\n",
    "    y='pearson_coefficient',\n",
    "    ax=ax1,\n",
    "    box_pairs=[\n",
    "        (\"No overlap\", \"High\"), (\"No overlap\", \"Low\"), (\"Low\", \"Medium\"), (\"Medium\", \"High\"), (\"No overlap\", \"Medium\"),\n",
    "    ],\n",
    "    test='Mann-Whitney',\n",
    "    text_format='star', \n",
    "    line_offset=0,\n",
    "    text_offset=0,\n",
    ")\n",
    "\n",
    "# Rotate ticks X\n",
    "ax1.xaxis.set_tick_params(rotation=45)\n",
    "ax1.set_ylabel(\"Pearson correlation\")\n",
    "    \n",
    "plt.tight_layout()\n",
    "plt.savefig(\n",
    "    f'../data/figures/figure_3.png',\n",
    "    dpi=400,\n",
    "    bbox_inches='tight', \n",
    "    bbox_extra_artists=[suptitle],\n",
    ")\n",
    "plt.show()"
   ]
  },
  {
   "cell_type": "code",
   "execution_count": null,
   "metadata": {
    "pycharm": {
     "name": "#%%\n"
    }
   },
   "outputs": [],
   "source": []
  }
 ],
 "metadata": {
  "kernelspec": {
   "display_name": "Python 3",
   "language": "python",
   "name": "python3"
  },
  "language_info": {
   "codemirror_mode": {
    "name": "ipython",
    "version": 3
   },
   "file_extension": ".py",
   "mimetype": "text/x-python",
   "name": "python",
   "nbconvert_exporter": "python",
   "pygments_lexer": "ipython3",
   "version": "3.8.3"
  }
 },
 "nbformat": 4,
 "nbformat_minor": 5
}
