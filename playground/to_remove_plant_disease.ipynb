{
 "cells": [
  {
   "cell_type": "code",
   "execution_count": 1,
   "metadata": {},
   "outputs": [
    {
     "name": "stderr",
     "output_type": "stream",
     "text": [
      "/Users/danieldomingo/anaconda3/lib/python3.8/site-packages/pybel/struct/operations.py:8: TqdmExperimentalWarning: Using `tqdm.autonotebook.tqdm` in notebook mode. Use `tqdm.tqdm` instead to force console mode (e.g. in jupyter console)\n",
      "  from tqdm.autonotebook import tqdm\n"
     ]
    }
   ],
   "source": [
    "import pybel\n",
    "import pandas as pd"
   ]
  },
  {
   "cell_type": "code",
   "execution_count": 2,
   "metadata": {},
   "outputs": [],
   "source": [
    "bern2_data = pd.read_csv(\n",
    "    's3://enveda-data-kg/nlp/bern2/bern2-edges-subset/predicted_plant_disease_high_confidence_to_ingest.tsv',\n",
    "    sep='\\t',\n",
    ")"
   ]
  },
  {
   "cell_type": "code",
   "execution_count": 3,
   "metadata": {},
   "outputs": [
    {
     "data": {
      "text/html": [
       "<div>\n",
       "<style scoped>\n",
       "    .dataframe tbody tr th:only-of-type {\n",
       "        vertical-align: middle;\n",
       "    }\n",
       "\n",
       "    .dataframe tbody tr th {\n",
       "        vertical-align: top;\n",
       "    }\n",
       "\n",
       "    .dataframe thead th {\n",
       "        text-align: right;\n",
       "    }\n",
       "</style>\n",
       "<table border=\"1\" class=\"dataframe\">\n",
       "  <thead>\n",
       "    <tr style=\"text-align: right;\">\n",
       "      <th></th>\n",
       "      <th>relation_prediction</th>\n",
       "      <th>confidence</th>\n",
       "      <th>pmid_sentence</th>\n",
       "      <th>entity1_curie</th>\n",
       "      <th>entity2_curie</th>\n",
       "      <th>entity1_name</th>\n",
       "      <th>entity2_name</th>\n",
       "      <th>sentence</th>\n",
       "      <th>mention1</th>\n",
       "      <th>mention2</th>\n",
       "    </tr>\n",
       "  </thead>\n",
       "  <tbody>\n",
       "    <tr>\n",
       "      <th>0</th>\n",
       "      <td>True</td>\n",
       "      <td>medium</td>\n",
       "      <td>10067319_8</td>\n",
       "      <td>ncbitaxon:3369</td>\n",
       "      <td>mondo:0005324</td>\n",
       "      <td>Cryptomeria japonica</td>\n",
       "      <td>seasonal allergic rhinitis</td>\n",
       "      <td>In conclusion, the numbers of patients with Ja...</td>\n",
       "      <td>Japanese cedar</td>\n",
       "      <td>Japanese cedar pollinosis</td>\n",
       "    </tr>\n",
       "  </tbody>\n",
       "</table>\n",
       "</div>"
      ],
      "text/plain": [
       "   relation_prediction confidence pmid_sentence   entity1_curie  \\\n",
       "0                 True     medium    10067319_8  ncbitaxon:3369   \n",
       "\n",
       "   entity2_curie          entity1_name                entity2_name  \\\n",
       "0  mondo:0005324  Cryptomeria japonica  seasonal allergic rhinitis   \n",
       "\n",
       "                                            sentence        mention1  \\\n",
       "0  In conclusion, the numbers of patients with Ja...  Japanese cedar   \n",
       "\n",
       "                    mention2  \n",
       "0  Japanese cedar pollinosis  "
      ]
     },
     "execution_count": 3,
     "metadata": {},
     "output_type": "execute_result"
    }
   ],
   "source": [
    "bern2_data.head(1)"
   ]
  },
  {
   "cell_type": "code",
   "execution_count": 4,
   "metadata": {},
   "outputs": [],
   "source": [
    "rows = []\n",
    "\n",
    "for _, row in bern2_data.iterrows():\n",
    "    \n",
    "    if row['entity1_curie'].startswith(('ncbitaxon:', 'wfo:', 'itis:')):\n",
    "        \n",
    "        if not row['entity2_curie'].startswith('mondo'):\n",
    "            continue\n",
    "        \n",
    "        plant_curie = row['entity1_curie']\n",
    "        plant_name = row['entity1_name']\n",
    "        disease_curie = row['entity2_curie']\n",
    "    else:\n",
    "        if not row['entity1_curie'].startswith('mondo'):\n",
    "            continue\n",
    "        plant_curie = row['entity2_curie']\n",
    "        plant_name = row['entity2_name']\n",
    "        disease_curie = row['entity1_curie'] \n",
    "        \n",
    "        \n",
    "    rows.append({\n",
    "        'plant_curie': plant_curie,  \n",
    "        'plant_name': plant_name,  \n",
    "        'disease_curie': disease_curie,  \n",
    "        'database': 'bern2',  \n",
    "        'evidence': row['pmid_sentence'], \n",
    "    })\n",
    "\n",
    "bern2_data = pd.DataFrame(rows)"
   ]
  },
  {
   "cell_type": "code",
   "execution_count": 5,
   "metadata": {},
   "outputs": [
    {
     "data": {
      "text/html": [
       "<div>\n",
       "<style scoped>\n",
       "    .dataframe tbody tr th:only-of-type {\n",
       "        vertical-align: middle;\n",
       "    }\n",
       "\n",
       "    .dataframe tbody tr th {\n",
       "        vertical-align: top;\n",
       "    }\n",
       "\n",
       "    .dataframe thead th {\n",
       "        text-align: right;\n",
       "    }\n",
       "</style>\n",
       "<table border=\"1\" class=\"dataframe\">\n",
       "  <thead>\n",
       "    <tr style=\"text-align: right;\">\n",
       "      <th></th>\n",
       "      <th>plant_curie</th>\n",
       "      <th>plant_name</th>\n",
       "      <th>disease_curie</th>\n",
       "      <th>database</th>\n",
       "      <th>evidence</th>\n",
       "    </tr>\n",
       "  </thead>\n",
       "  <tbody>\n",
       "    <tr>\n",
       "      <th>0</th>\n",
       "      <td>ncbitaxon:3369</td>\n",
       "      <td>Cryptomeria japonica</td>\n",
       "      <td>mondo:0005324</td>\n",
       "      <td>bern2</td>\n",
       "      <td>10067319_8</td>\n",
       "    </tr>\n",
       "  </tbody>\n",
       "</table>\n",
       "</div>"
      ],
      "text/plain": [
       "      plant_curie            plant_name  disease_curie database    evidence\n",
       "0  ncbitaxon:3369  Cryptomeria japonica  mondo:0005324    bern2  10067319_8"
      ]
     },
     "execution_count": 5,
     "metadata": {},
     "output_type": "execute_result"
    }
   ],
   "source": [
    "bern2_data.head(1)"
   ]
  },
  {
   "cell_type": "code",
   "execution_count": 6,
   "metadata": {},
   "outputs": [
    {
     "data": {
      "text/plain": [
       "(72981, 5)"
      ]
     },
     "execution_count": 6,
     "metadata": {},
     "output_type": "execute_result"
    }
   ],
   "source": [
    "bern2_data.shape"
   ]
  },
  {
   "cell_type": "code",
   "execution_count": 7,
   "metadata": {},
   "outputs": [],
   "source": [
    "def bel_to_df(path, database, key):\n",
    "    graph = pybel.from_nodelink_file(path)\n",
    "    \n",
    "    rows = []\n",
    "    \n",
    "    for source, target, data in graph.edges(data=True):\n",
    "        \n",
    "        if isinstance(source, pybel.dsl.Population) and isinstance(target, pybel.dsl.Pathology):\n",
    "            # skip other terminologies like itis\n",
    "            if not source.curie.startswith('ncbitaxon:'):\n",
    "                continue\n",
    "            # restrict the mondo\n",
    "            if not target.curie.startswith('mondo:'):\n",
    "                continue\n",
    "                \n",
    "            rows.append({\n",
    "                'plant_curie': source.curie,\n",
    "                'disease_curie': target.curie,\n",
    "                'database': database,\n",
    "                'evidence': data[key] if key == 'evidence' else data[key]['identifier'],\n",
    "            })\n",
    "            \n",
    "    return pd.DataFrame(rows)\n",
    "        "
   ]
  },
  {
   "cell_type": "code",
   "execution_count": 8,
   "metadata": {},
   "outputs": [],
   "source": [
    "etm = bel_to_df(\n",
    "    '../data/raw/etm.bel.nodelink.json',\n",
    "    'etm',\n",
    "    'evidence'\n",
    ")\n",
    "\n",
    "imppat = bel_to_df(\n",
    "    '../data/raw/imppat.bel.nodelink.json',\n",
    "    'imppat',\n",
    "    'citation',\n",
    ")\n",
    "\n",
    "vietnam = bel_to_df(\n",
    "    '../data/raw/vietnam.bel.nodelink.json',\n",
    "    'vietnam',\n",
    "    'citation',\n",
    ")\n",
    "\n",
    "ewe = bel_to_df(\n",
    "    '../data/raw/ewe.bel.nodelink.json',\n",
    "    'ewe',\n",
    "    'citation',\n",
    ")\n",
    "\n",
    "koreantk = bel_to_df(\n",
    "    '../data/raw/koreantk.bel.nodelink.json',\n",
    "    'koreantk',\n",
    "    'evidence',\n",
    ")"
   ]
  },
  {
   "cell_type": "code",
   "execution_count": 9,
   "metadata": {},
   "outputs": [],
   "source": [
    "plant_disease_associations_df = pd.concat([\n",
    "        bern2_data,\n",
    "        etm,\n",
    "        imppat,\n",
    "        vietnam,\n",
    "        ewe,\n",
    "        koreantk,\n",
    "    ],\n",
    "    ignore_index=True,\n",
    ")"
   ]
  },
  {
   "cell_type": "code",
   "execution_count": 10,
   "metadata": {},
   "outputs": [
    {
     "data": {
      "text/plain": [
       "(97066, 5)"
      ]
     },
     "execution_count": 10,
     "metadata": {},
     "output_type": "execute_result"
    }
   ],
   "source": [
    "plant_disease_associations_df.shape"
   ]
  },
  {
   "cell_type": "code",
   "execution_count": 11,
   "metadata": {},
   "outputs": [],
   "source": [
    "plant_disease_associations_df.to_csv(\n",
    "    '../data/processed/plant-disease/plant_disease_associations.tsv',\n",
    "    sep='\\t',\n",
    "    index=False,\n",
    ")"
   ]
  },
  {
   "cell_type": "code",
   "execution_count": null,
   "metadata": {},
   "outputs": [],
   "source": []
  }
 ],
 "metadata": {
  "kernelspec": {
   "display_name": "Python 3",
   "language": "python",
   "name": "python3"
  },
  "language_info": {
   "codemirror_mode": {
    "name": "ipython",
    "version": 3
   },
   "file_extension": ".py",
   "mimetype": "text/x-python",
   "name": "python",
   "nbconvert_exporter": "python",
   "pygments_lexer": "ipython3",
   "version": "3.8.3"
  }
 },
 "nbformat": 4,
 "nbformat_minor": 4
}
