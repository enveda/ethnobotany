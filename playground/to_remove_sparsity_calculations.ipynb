{
 "cells": [
  {
   "cell_type": "code",
   "execution_count": 1,
   "id": "fe618df1",
   "metadata": {},
   "outputs": [],
   "source": [
    "import pandas as pd\n",
    "import numpy as np"
   ]
  },
  {
   "cell_type": "code",
   "execution_count": 2,
   "id": "d2de3e9b",
   "metadata": {},
   "outputs": [],
   "source": [
    "DATA_DIR = '../data/processed'"
   ]
  },
  {
   "cell_type": "code",
   "execution_count": 3,
   "id": "f79e9b6d",
   "metadata": {},
   "outputs": [
    {
     "data": {
      "text/html": [
       "<div>\n",
       "<style scoped>\n",
       "    .dataframe tbody tr th:only-of-type {\n",
       "        vertical-align: middle;\n",
       "    }\n",
       "\n",
       "    .dataframe tbody tr th {\n",
       "        vertical-align: top;\n",
       "    }\n",
       "\n",
       "    .dataframe thead th {\n",
       "        text-align: right;\n",
       "    }\n",
       "</style>\n",
       "<table border=\"1\" class=\"dataframe\">\n",
       "  <thead>\n",
       "    <tr style=\"text-align: right;\">\n",
       "      <th></th>\n",
       "      <th>plant_curie</th>\n",
       "      <th>plant_name</th>\n",
       "      <th>disease_curie</th>\n",
       "      <th>database</th>\n",
       "      <th>evidence</th>\n",
       "    </tr>\n",
       "  </thead>\n",
       "  <tbody>\n",
       "    <tr>\n",
       "      <th>0</th>\n",
       "      <td>ncbitaxon:3369</td>\n",
       "      <td>Cryptomeria japonica</td>\n",
       "      <td>mondo:0005324</td>\n",
       "      <td>bern2</td>\n",
       "      <td>10067319_8</td>\n",
       "    </tr>\n",
       "    <tr>\n",
       "      <th>1</th>\n",
       "      <td>ncbitaxon:3369</td>\n",
       "      <td>Cryptomeria japonica</td>\n",
       "      <td>mondo:0005324</td>\n",
       "      <td>bern2</td>\n",
       "      <td>10094290_4</td>\n",
       "    </tr>\n",
       "    <tr>\n",
       "      <th>2</th>\n",
       "      <td>ncbitaxon:3369</td>\n",
       "      <td>Cryptomeria japonica</td>\n",
       "      <td>mondo:0005324</td>\n",
       "      <td>bern2</td>\n",
       "      <td>10336604_1</td>\n",
       "    </tr>\n",
       "    <tr>\n",
       "      <th>3</th>\n",
       "      <td>ncbitaxon:3311</td>\n",
       "      <td>Ginkgo biloba</td>\n",
       "      <td>mondo:0002643</td>\n",
       "      <td>bern2</td>\n",
       "      <td>10345150_1</td>\n",
       "    </tr>\n",
       "    <tr>\n",
       "      <th>4</th>\n",
       "      <td>ncbitaxon:203270</td>\n",
       "      <td>Berberis aquifolium</td>\n",
       "      <td>mondo:0008334</td>\n",
       "      <td>bern2</td>\n",
       "      <td>10352377_1</td>\n",
       "    </tr>\n",
       "  </tbody>\n",
       "</table>\n",
       "</div>"
      ],
      "text/plain": [
       "        plant_curie            plant_name  disease_curie database    evidence\n",
       "0    ncbitaxon:3369  Cryptomeria japonica  mondo:0005324    bern2  10067319_8\n",
       "1    ncbitaxon:3369  Cryptomeria japonica  mondo:0005324    bern2  10094290_4\n",
       "2    ncbitaxon:3369  Cryptomeria japonica  mondo:0005324    bern2  10336604_1\n",
       "3    ncbitaxon:3311         Ginkgo biloba  mondo:0002643    bern2  10345150_1\n",
       "4  ncbitaxon:203270   Berberis aquifolium  mondo:0008334    bern2  10352377_1"
      ]
     },
     "execution_count": 3,
     "metadata": {},
     "output_type": "execute_result"
    }
   ],
   "source": [
    "plant_disease_df = pd.read_csv(\n",
    "    f'{DATA_DIR}/plant_disease_associations.tsv',\n",
    "    sep='\\t',\n",
    ")\n",
    "plant_disease_df.head()"
   ]
  },
  {
   "cell_type": "code",
   "execution_count": 4,
   "id": "6a7126cd",
   "metadata": {},
   "outputs": [
    {
     "data": {
      "text/html": [
       "<div>\n",
       "<style scoped>\n",
       "    .dataframe tbody tr th:only-of-type {\n",
       "        vertical-align: middle;\n",
       "    }\n",
       "\n",
       "    .dataframe tbody tr th {\n",
       "        vertical-align: top;\n",
       "    }\n",
       "\n",
       "    .dataframe thead th {\n",
       "        text-align: right;\n",
       "    }\n",
       "</style>\n",
       "<table border=\"1\" class=\"dataframe\">\n",
       "  <thead>\n",
       "    <tr style=\"text-align: right;\">\n",
       "      <th></th>\n",
       "      <th>plant_curie</th>\n",
       "      <th>plant_name</th>\n",
       "      <th>disease_curie</th>\n",
       "      <th>database</th>\n",
       "      <th>evidence</th>\n",
       "    </tr>\n",
       "  </thead>\n",
       "  <tbody>\n",
       "    <tr>\n",
       "      <th>0</th>\n",
       "      <td>ncbitaxon:3369</td>\n",
       "      <td>Cryptomeria japonica</td>\n",
       "      <td>mondo:0024623</td>\n",
       "      <td>bern2</td>\n",
       "      <td>10067319_8</td>\n",
       "    </tr>\n",
       "    <tr>\n",
       "      <th>1</th>\n",
       "      <td>ncbitaxon:3369</td>\n",
       "      <td>Cryptomeria japonica</td>\n",
       "      <td>mondo:0005087</td>\n",
       "      <td>bern2</td>\n",
       "      <td>10067319_8</td>\n",
       "    </tr>\n",
       "    <tr>\n",
       "      <th>2</th>\n",
       "      <td>ncbitaxon:3369</td>\n",
       "      <td>Cryptomeria japonica</td>\n",
       "      <td>mondo:0021166</td>\n",
       "      <td>bern2</td>\n",
       "      <td>10067319_8</td>\n",
       "    </tr>\n",
       "    <tr>\n",
       "      <th>3</th>\n",
       "      <td>ncbitaxon:3369</td>\n",
       "      <td>Cryptomeria japonica</td>\n",
       "      <td>mondo:0005046</td>\n",
       "      <td>bern2</td>\n",
       "      <td>10067319_8</td>\n",
       "    </tr>\n",
       "    <tr>\n",
       "      <th>4</th>\n",
       "      <td>ncbitaxon:3369</td>\n",
       "      <td>Cryptomeria japonica</td>\n",
       "      <td>mondo:0024623</td>\n",
       "      <td>bern2</td>\n",
       "      <td>10094290_4</td>\n",
       "    </tr>\n",
       "  </tbody>\n",
       "</table>\n",
       "</div>"
      ],
      "text/plain": [
       "      plant_curie            plant_name  disease_curie database    evidence\n",
       "0  ncbitaxon:3369  Cryptomeria japonica  mondo:0024623    bern2  10067319_8\n",
       "1  ncbitaxon:3369  Cryptomeria japonica  mondo:0005087    bern2  10067319_8\n",
       "2  ncbitaxon:3369  Cryptomeria japonica  mondo:0021166    bern2  10067319_8\n",
       "3  ncbitaxon:3369  Cryptomeria japonica  mondo:0005046    bern2  10067319_8\n",
       "4  ncbitaxon:3369  Cryptomeria japonica  mondo:0024623    bern2  10094290_4"
      ]
     },
     "execution_count": 4,
     "metadata": {},
     "output_type": "execute_result"
    }
   ],
   "source": [
    "collapsed_plant_disease_df = pd.read_csv(\n",
    "    f'{DATA_DIR}/plant_disease_collapsed.tsv',\n",
    "    sep='\\t',\n",
    "    low_memory=False,\n",
    ")\n",
    "collapsed_plant_disease_df.head()"
   ]
  },
  {
   "cell_type": "markdown",
   "id": "fc654309",
   "metadata": {},
   "source": [
    "### Create plant-disease binary matrix "
   ]
  },
  {
   "cell_type": "code",
   "execution_count": 5,
   "id": "f28ad28f",
   "metadata": {},
   "outputs": [
    {
     "data": {
      "text/plain": [
       "(6048, 2205)"
      ]
     },
     "execution_count": 5,
     "metadata": {},
     "output_type": "execute_result"
    }
   ],
   "source": [
    "plants = set(plant_disease_df['plant_curie'].values.tolist())\n",
    "diseases = set(plant_disease_df['disease_curie'].values.tolist())\n",
    "len(plants), len(diseases)"
   ]
  },
  {
   "cell_type": "code",
   "execution_count": 6,
   "id": "5efcc427",
   "metadata": {},
   "outputs": [
    {
     "data": {
      "text/plain": [
       "(5636, 23)"
      ]
     },
     "execution_count": 6,
     "metadata": {},
     "output_type": "execute_result"
    }
   ],
   "source": [
    "plants_collapsed = set(collapsed_plant_disease_df['plant_curie'].values.tolist())\n",
    "diseases_collapsed = set(collapsed_plant_disease_df['disease_curie'].values.tolist())\n",
    "len(plants_collapsed), len(diseases_collapsed)"
   ]
  },
  {
   "cell_type": "code",
   "execution_count": 7,
   "id": "985234f9",
   "metadata": {},
   "outputs": [],
   "source": [
    "## Initalize empty matrix\n",
    "plant_disease_matrix = pd.DataFrame(columns=diseases, index=plants)\n",
    "plant_disease_collapsed_matrix = pd.DataFrame(columns=diseases_collapsed, index=plants_collapsed)"
   ]
  },
  {
   "cell_type": "code",
   "execution_count": 8,
   "id": "fd8f9bde",
   "metadata": {},
   "outputs": [],
   "source": [
    "from tqdm import tqdm"
   ]
  },
  {
   "cell_type": "code",
   "execution_count": 9,
   "id": "d981b017",
   "metadata": {},
   "outputs": [
    {
     "name": "stderr",
     "output_type": "stream",
     "text": [
      "100%|████████████████████████████████████████████████| 97066/97066 [00:06<00:00, 14535.24it/s]\n"
     ]
    }
   ],
   "source": [
    "for plant, disease in tqdm(plant_disease_df[['plant_curie', 'disease_curie']].values):\n",
    "    plant_disease_matrix.loc[plant, disease] = 1"
   ]
  },
  {
   "cell_type": "code",
   "execution_count": 10,
   "id": "4fdc5800",
   "metadata": {},
   "outputs": [
    {
     "name": "stderr",
     "output_type": "stream",
     "text": [
      "100%|██████████████████████████████████████████████| 172702/172702 [00:11<00:00, 15183.69it/s]\n"
     ]
    }
   ],
   "source": [
    "for plant, disease in tqdm(collapsed_plant_disease_df[['plant_curie', 'disease_curie']].values):\n",
    "    plant_disease_collapsed_matrix.loc[plant, disease] = 1"
   ]
  },
  {
   "cell_type": "markdown",
   "id": "7baea090",
   "metadata": {},
   "source": [
    "### Calculate sparsity of the two matrix"
   ]
  },
  {
   "cell_type": "code",
   "execution_count": 11,
   "id": "163a68b6",
   "metadata": {},
   "outputs": [
    {
     "data": {
      "text/plain": [
       "((6048, 2205), (5636, 23))"
      ]
     },
     "execution_count": 11,
     "metadata": {},
     "output_type": "execute_result"
    }
   ],
   "source": [
    "plant_disease_matrix.shape, plant_disease_collapsed_matrix.shape"
   ]
  },
  {
   "cell_type": "code",
   "execution_count": 12,
   "id": "9040c67c",
   "metadata": {},
   "outputs": [],
   "source": [
    "plant_disease_matrix.fillna(0, inplace=True)\n",
    "plant_disease_collapsed_matrix.fillna(0, inplace=True)"
   ]
  },
  {
   "cell_type": "code",
   "execution_count": 13,
   "id": "3a8e08a1",
   "metadata": {},
   "outputs": [],
   "source": [
    "def count_zeros(df: pd.DataFrame):\n",
    "    \"\"\"Method to count the number of 0's in a dataframe.\"\"\"\n",
    "    \n",
    "    zeros = []\n",
    "    \n",
    "    for col in df.columns:\n",
    "        zero_elms = (df[col] == 0).sum()\n",
    "        zeros.append(zero_elms)\n",
    "        \n",
    "    return sum(zeros)"
   ]
  },
  {
   "cell_type": "code",
   "execution_count": 14,
   "id": "d3a2a057",
   "metadata": {},
   "outputs": [],
   "source": [
    "zeros_in_matrix = count_zeros(plant_disease_matrix)\n",
    "zeros_in_collapsed_matrix = count_zeros(plant_disease_collapsed_matrix)"
   ]
  },
  {
   "cell_type": "code",
   "execution_count": 15,
   "id": "6c52c052",
   "metadata": {},
   "outputs": [
    {
     "data": {
      "text/plain": [
       "0.9970544037720909"
      ]
     },
     "execution_count": 15,
     "metadata": {},
     "output_type": "execute_result"
    }
   ],
   "source": [
    "# Sparsity for original matrix\n",
    "zeros_in_matrix / (plant_disease_matrix.shape[0] * plant_disease_matrix.shape[1])"
   ]
  },
  {
   "cell_type": "code",
   "execution_count": 16,
   "id": "982eb72c",
   "metadata": {},
   "outputs": [
    {
     "data": {
      "text/plain": [
       "0.7724565680254266"
      ]
     },
     "execution_count": 16,
     "metadata": {},
     "output_type": "execute_result"
    }
   ],
   "source": [
    "# Sparsity for collapsed matrix\n",
    "zeros_in_collapsed_matrix / (plant_disease_collapsed_matrix.shape[0] * plant_disease_collapsed_matrix.shape[1])"
   ]
  },
  {
   "cell_type": "code",
   "execution_count": 17,
   "id": "84eb119a",
   "metadata": {},
   "outputs": [
    {
     "data": {
      "text/plain": [
       "0.22459783574666425"
      ]
     },
     "execution_count": 17,
     "metadata": {},
     "output_type": "execute_result"
    }
   ],
   "source": [
    "0.9970544037720909 - 0.7724565680254266"
   ]
  }
 ],
 "metadata": {
  "kernelspec": {
   "display_name": "kg-sources",
   "language": "python",
   "name": "kg-sources"
  },
  "language_info": {
   "codemirror_mode": {
    "name": "ipython",
    "version": 3
   },
   "file_extension": ".py",
   "mimetype": "text/x-python",
   "name": "python",
   "nbconvert_exporter": "python",
   "pygments_lexer": "ipython3",
   "version": "3.9.12"
  }
 },
 "nbformat": 4,
 "nbformat_minor": 5
}
