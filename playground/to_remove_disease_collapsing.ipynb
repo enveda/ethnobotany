{
 "cells": [
  {
   "cell_type": "markdown",
   "id": "b75cf786",
   "metadata": {},
   "source": [
    "### Import modules"
   ]
  },
  {
   "cell_type": "code",
   "execution_count": 1,
   "id": "5e49cad2",
   "metadata": {},
   "outputs": [],
   "source": [
    "import getpass\n",
    "import sys\n",
    "import time\n",
    "\n",
    "import obonet\n",
    "from collections import defaultdict\n",
    "from tqdm import tqdm, tqdm_notebook\n",
    "\n",
    "import pandas as pd\n",
    "import numpy as np\n",
    "import networkx as nx"
   ]
  },
  {
   "cell_type": "code",
   "execution_count": 2,
   "id": "07bb6ea1",
   "metadata": {},
   "outputs": [
    {
     "data": {
      "text/plain": [
       "'yojana'"
      ]
     },
     "execution_count": 2,
     "metadata": {},
     "output_type": "execute_result"
    }
   ],
   "source": [
    "getpass.getuser()"
   ]
  },
  {
   "cell_type": "markdown",
   "id": "dabd4d48",
   "metadata": {},
   "source": [
    "### Loading data files"
   ]
  },
  {
   "cell_type": "code",
   "execution_count": 3,
   "id": "d83d98a4",
   "metadata": {},
   "outputs": [],
   "source": [
    "DATA_DIR = '../data'"
   ]
  },
  {
   "cell_type": "code",
   "execution_count": 4,
   "id": "7d30acc2",
   "metadata": {},
   "outputs": [
    {
     "data": {
      "text/html": [
       "<div>\n",
       "<style scoped>\n",
       "    .dataframe tbody tr th:only-of-type {\n",
       "        vertical-align: middle;\n",
       "    }\n",
       "\n",
       "    .dataframe tbody tr th {\n",
       "        vertical-align: top;\n",
       "    }\n",
       "\n",
       "    .dataframe thead th {\n",
       "        text-align: right;\n",
       "    }\n",
       "</style>\n",
       "<table border=\"1\" class=\"dataframe\">\n",
       "  <thead>\n",
       "    <tr style=\"text-align: right;\">\n",
       "      <th></th>\n",
       "      <th>plant_curie</th>\n",
       "      <th>plant_name</th>\n",
       "      <th>disease_curie</th>\n",
       "      <th>database</th>\n",
       "      <th>evidence</th>\n",
       "    </tr>\n",
       "  </thead>\n",
       "  <tbody>\n",
       "    <tr>\n",
       "      <th>0</th>\n",
       "      <td>ncbitaxon:3369</td>\n",
       "      <td>Cryptomeria japonica</td>\n",
       "      <td>mondo:0005324</td>\n",
       "      <td>bern2</td>\n",
       "      <td>10067319_8</td>\n",
       "    </tr>\n",
       "    <tr>\n",
       "      <th>1</th>\n",
       "      <td>ncbitaxon:3369</td>\n",
       "      <td>Cryptomeria japonica</td>\n",
       "      <td>mondo:0005324</td>\n",
       "      <td>bern2</td>\n",
       "      <td>10094290_4</td>\n",
       "    </tr>\n",
       "    <tr>\n",
       "      <th>2</th>\n",
       "      <td>ncbitaxon:3369</td>\n",
       "      <td>Cryptomeria japonica</td>\n",
       "      <td>mondo:0005324</td>\n",
       "      <td>bern2</td>\n",
       "      <td>10336604_1</td>\n",
       "    </tr>\n",
       "  </tbody>\n",
       "</table>\n",
       "</div>"
      ],
      "text/plain": [
       "      plant_curie            plant_name  disease_curie database    evidence\n",
       "0  ncbitaxon:3369  Cryptomeria japonica  mondo:0005324    bern2  10067319_8\n",
       "1  ncbitaxon:3369  Cryptomeria japonica  mondo:0005324    bern2  10094290_4\n",
       "2  ncbitaxon:3369  Cryptomeria japonica  mondo:0005324    bern2  10336604_1"
      ]
     },
     "execution_count": 4,
     "metadata": {},
     "output_type": "execute_result"
    }
   ],
   "source": [
    "plant_disease_data = pd.read_csv(\n",
    "    f'{DATA_DIR}/processed/plant_disease_associations.tsv', sep='\\t'\n",
    ")\n",
    "plant_disease_data.head(3)"
   ]
  },
  {
   "cell_type": "code",
   "execution_count": 5,
   "id": "ee1d99b1",
   "metadata": {},
   "outputs": [
    {
     "data": {
      "text/plain": [
       "2205"
      ]
     },
     "execution_count": 5,
     "metadata": {},
     "output_type": "execute_result"
    }
   ],
   "source": [
    "diseases = set(plant_disease_data['disease_curie'])\n",
    "len(diseases)"
   ]
  },
  {
   "cell_type": "markdown",
   "id": "a5e64e48",
   "metadata": {},
   "source": [
    "### Collapse diseases based on MONDO tree"
   ]
  },
  {
   "cell_type": "code",
   "execution_count": 6,
   "id": "aaa31cf6",
   "metadata": {},
   "outputs": [],
   "source": [
    "url = 'http://purl.obolibrary.org/obo/mondo.obo'\n",
    "nx_graph = obonet.read_obo(url)"
   ]
  },
  {
   "cell_type": "code",
   "execution_count": 7,
   "id": "fc77645a",
   "metadata": {},
   "outputs": [],
   "source": [
    "disease_areas_of_interest = [\n",
    "    \"mondo:0037940\",  # auditory system disorder\n",
    "    \"mondo:0002657\",  # breast disorder\n",
    "    \"mondo:0004992\",  # cancer or benign tumor\n",
    "    \"mondo:0004995\",  # cardiovascular disorder\n",
    "    \"mondo:0003900\",  # connective tissue disorder\n",
    "    \"mondo:0004335\",  # digestive system disorder\n",
    "    \"mondo:0021084\",  # disorder of visual system\n",
    "    \"mondo:0005151\",  # endocrine system disorder\n",
    "    \"mondo:0005570\",  # hematologic disorder\n",
    "    \"mondo:0005046\",  # immune system disorder\n",
    "    \"mondo:0021166\",  # inflammatory disease\n",
    "    \"mondo:0021178\",  # injury\n",
    "    \"mondo:0002051\",  # integumentary system disorder\n",
    "    \"mondo:0005550\",  # infectious disease or post-infectious disorder\n",
    "    \"mondo:0005066\",  # metabolic disease\n",
    "    \"mondo:0002081\",  # musculoskeletal system disorder\n",
    "    \"mondo:0005071\",  # nervous system disorder\n",
    "    \"mondo:0005137\",  # nutritional disorder\n",
    "    \"mondo:0024623\",  # otorhinolaryngologic disease\n",
    "    \"mondo:0029000\",  # poisoning\n",
    "    \"mondo:0002025\",  # psychiatric disorder\n",
    "    \"mondo:0005087\",  # respiratory system disorder\n",
    "    \"mondo:0002118\",  # urinary system disorder\n",
    "]"
   ]
  },
  {
   "cell_type": "code",
   "execution_count": 8,
   "id": "caf54e14",
   "metadata": {
    "scrolled": true
   },
   "outputs": [
    {
     "name": "stderr",
     "output_type": "stream",
     "text": [
      "100%|██████████████████████████████████████████████████████████████████████████████████████████████████████████████████████████████████████| 23/23 [00:00<00:00, 209.59it/s]\n"
     ]
    }
   ],
   "source": [
    "disease_mapper = defaultdict(set)\n",
    "\n",
    "for entry in tqdm(disease_areas_of_interest):\n",
    "    # Get MONDO ancestor\n",
    "    d = set(\n",
    "        i.lower()\n",
    "        for i in nx.ancestors(nx_graph, entry.upper())\n",
    "    )\n",
    "    d.add(entry)\n",
    "    \n",
    "    # Create mapping between disease and its ancestors\n",
    "    for disease_curie in d:\n",
    "        disease_mapper[disease_curie].add(entry)"
   ]
  },
  {
   "cell_type": "code",
   "execution_count": 9,
   "id": "960135e3",
   "metadata": {},
   "outputs": [],
   "source": [
    "from pyenveda.resolver import curie_to_name"
   ]
  },
  {
   "cell_type": "code",
   "execution_count": 10,
   "id": "6b8f41a9",
   "metadata": {
    "scrolled": true
   },
   "outputs": [
    {
     "name": "stderr",
     "output_type": "stream",
     "text": [
      "100%|███████████████████████████████████████████████████████████████████████████████████████████████████████████████████████████████████| 2205/2205 [04:22<00:00,  8.40it/s]\n"
     ]
    }
   ],
   "source": [
    "mapping_data = []\n",
    "for i in tqdm(diseases):\n",
    "    if i not in disease_mapper:\n",
    "        mapping_data.append({\n",
    "            'MONDO Disease id': i,\n",
    "            'Disease name': curie_to_name(i, 'pathology'),\n",
    "            'Parent MONDO id': '',\n",
    "            'Parent name': '',\n",
    "        })\n",
    "    else:\n",
    "        for parent in disease_mapper[i]:\n",
    "            mapping_data.append({\n",
    "                'MONDO Disease id': i,\n",
    "                'Disease name': curie_to_name(i, 'pathology'),\n",
    "                'Parent MONDO id': parent,\n",
    "                'Parent name': curie_to_name(parent, 'pathology'),\n",
    "            })"
   ]
  },
  {
   "cell_type": "code",
   "execution_count": 11,
   "id": "22f5b28c",
   "metadata": {},
   "outputs": [
    {
     "data": {
      "text/html": [
       "<div>\n",
       "<style scoped>\n",
       "    .dataframe tbody tr th:only-of-type {\n",
       "        vertical-align: middle;\n",
       "    }\n",
       "\n",
       "    .dataframe tbody tr th {\n",
       "        vertical-align: top;\n",
       "    }\n",
       "\n",
       "    .dataframe thead th {\n",
       "        text-align: right;\n",
       "    }\n",
       "</style>\n",
       "<table border=\"1\" class=\"dataframe\">\n",
       "  <thead>\n",
       "    <tr style=\"text-align: right;\">\n",
       "      <th></th>\n",
       "      <th>MONDO Disease id</th>\n",
       "      <th>Disease name</th>\n",
       "      <th>Parent MONDO id</th>\n",
       "      <th>Parent name</th>\n",
       "    </tr>\n",
       "  </thead>\n",
       "  <tbody>\n",
       "    <tr>\n",
       "      <th>0</th>\n",
       "      <td>mondo:0017885</td>\n",
       "      <td>chromophobe renal cell carcinoma</td>\n",
       "      <td>mondo:0004992</td>\n",
       "      <td>cancer</td>\n",
       "    </tr>\n",
       "    <tr>\n",
       "      <th>1</th>\n",
       "      <td>mondo:0017885</td>\n",
       "      <td>chromophobe renal cell carcinoma</td>\n",
       "      <td>mondo:0002118</td>\n",
       "      <td>urinary system disease</td>\n",
       "    </tr>\n",
       "  </tbody>\n",
       "</table>\n",
       "</div>"
      ],
      "text/plain": [
       "  MONDO Disease id                      Disease name Parent MONDO id  \\\n",
       "0    mondo:0017885  chromophobe renal cell carcinoma   mondo:0004992   \n",
       "1    mondo:0017885  chromophobe renal cell carcinoma   mondo:0002118   \n",
       "\n",
       "              Parent name  \n",
       "0                  cancer  \n",
       "1  urinary system disease  "
      ]
     },
     "execution_count": 11,
     "metadata": {},
     "output_type": "execute_result"
    }
   ],
   "source": [
    "mapped_disease_df = pd.DataFrame(mapping_data)\n",
    "mapped_disease_df.head(2)"
   ]
  },
  {
   "cell_type": "code",
   "execution_count": 12,
   "id": "6caefb75",
   "metadata": {},
   "outputs": [
    {
     "data": {
      "text/plain": [
       "(4142, 4)"
      ]
     },
     "execution_count": 12,
     "metadata": {},
     "output_type": "execute_result"
    }
   ],
   "source": [
    "mapped_disease_df.shape"
   ]
  },
  {
   "cell_type": "code",
   "execution_count": 13,
   "id": "5d272df1",
   "metadata": {},
   "outputs": [],
   "source": [
    "mapped_disease_df.to_csv(f'{DATA_DIR}/mapping/mondo_upper_level_mapping.tsv', sep='\\t', index=False)"
   ]
  },
  {
   "cell_type": "markdown",
   "id": "c0e705be",
   "metadata": {},
   "source": [
    "Dropping diseases with no parents"
   ]
  },
  {
   "cell_type": "code",
   "execution_count": 14,
   "id": "82277c40",
   "metadata": {},
   "outputs": [
    {
     "data": {
      "text/plain": [
       "(3910, 4)"
      ]
     },
     "execution_count": 14,
     "metadata": {},
     "output_type": "execute_result"
    }
   ],
   "source": [
    "mapped_disease_df = mapped_disease_df[mapped_disease_df['Parent MONDO id'] != '']\n",
    "mapped_disease_df.shape"
   ]
  },
  {
   "cell_type": "code",
   "execution_count": 15,
   "id": "c68ec939",
   "metadata": {},
   "outputs": [
    {
     "data": {
      "text/plain": [
       "1973"
      ]
     },
     "execution_count": 15,
     "metadata": {},
     "output_type": "execute_result"
    }
   ],
   "source": [
    "filtered_diseases = set(mapped_disease_df['MONDO Disease id'].to_list())\n",
    "len(filtered_diseases)"
   ]
  },
  {
   "cell_type": "markdown",
   "id": "5bd4b0fb",
   "metadata": {},
   "source": [
    "### Saving the updated plant-disease edge list"
   ]
  },
  {
   "cell_type": "code",
   "execution_count": 16,
   "id": "fe31d1d5",
   "metadata": {},
   "outputs": [
    {
     "data": {
      "text/plain": [
       "(97066, 5)"
      ]
     },
     "execution_count": 16,
     "metadata": {},
     "output_type": "execute_result"
    }
   ],
   "source": [
    "plant_disease_data.shape"
   ]
  },
  {
   "cell_type": "code",
   "execution_count": 17,
   "id": "599c9e9f",
   "metadata": {},
   "outputs": [
    {
     "data": {
      "text/plain": [
       "(83906, 5)"
      ]
     },
     "execution_count": 17,
     "metadata": {},
     "output_type": "execute_result"
    }
   ],
   "source": [
    "plant_disease_data = plant_disease_data[\n",
    "    plant_disease_data['disease_curie'].isin(filtered_diseases)\n",
    "]\n",
    "plant_disease_data.shape"
   ]
  },
  {
   "cell_type": "code",
   "execution_count": 18,
   "id": "1c7ab67d",
   "metadata": {},
   "outputs": [],
   "source": [
    "plant_disease_data.to_csv(f'{DATA_DIR}/processed/plant_disease_filtered.tsv', sep='\\t', index=False)"
   ]
  },
  {
   "cell_type": "code",
   "execution_count": 19,
   "id": "c776a749",
   "metadata": {},
   "outputs": [
    {
     "data": {
      "text/html": [
       "<div>\n",
       "<style scoped>\n",
       "    .dataframe tbody tr th:only-of-type {\n",
       "        vertical-align: middle;\n",
       "    }\n",
       "\n",
       "    .dataframe tbody tr th {\n",
       "        vertical-align: top;\n",
       "    }\n",
       "\n",
       "    .dataframe thead th {\n",
       "        text-align: right;\n",
       "    }\n",
       "</style>\n",
       "<table border=\"1\" class=\"dataframe\">\n",
       "  <thead>\n",
       "    <tr style=\"text-align: right;\">\n",
       "      <th></th>\n",
       "      <th>plant_curie</th>\n",
       "      <th>plant_name</th>\n",
       "      <th>disease_curie</th>\n",
       "      <th>database</th>\n",
       "      <th>evidence</th>\n",
       "    </tr>\n",
       "  </thead>\n",
       "  <tbody>\n",
       "    <tr>\n",
       "      <th>0</th>\n",
       "      <td>ncbitaxon:3369</td>\n",
       "      <td>Cryptomeria japonica</td>\n",
       "      <td>mondo:0005324</td>\n",
       "      <td>bern2</td>\n",
       "      <td>10067319_8</td>\n",
       "    </tr>\n",
       "    <tr>\n",
       "      <th>1</th>\n",
       "      <td>ncbitaxon:3369</td>\n",
       "      <td>Cryptomeria japonica</td>\n",
       "      <td>mondo:0005324</td>\n",
       "      <td>bern2</td>\n",
       "      <td>10094290_4</td>\n",
       "    </tr>\n",
       "    <tr>\n",
       "      <th>2</th>\n",
       "      <td>ncbitaxon:3369</td>\n",
       "      <td>Cryptomeria japonica</td>\n",
       "      <td>mondo:0005324</td>\n",
       "      <td>bern2</td>\n",
       "      <td>10336604_1</td>\n",
       "    </tr>\n",
       "    <tr>\n",
       "      <th>3</th>\n",
       "      <td>ncbitaxon:3311</td>\n",
       "      <td>Ginkgo biloba</td>\n",
       "      <td>mondo:0002643</td>\n",
       "      <td>bern2</td>\n",
       "      <td>10345150_1</td>\n",
       "    </tr>\n",
       "    <tr>\n",
       "      <th>4</th>\n",
       "      <td>ncbitaxon:203270</td>\n",
       "      <td>Berberis aquifolium</td>\n",
       "      <td>mondo:0008334</td>\n",
       "      <td>bern2</td>\n",
       "      <td>10352377_1</td>\n",
       "    </tr>\n",
       "  </tbody>\n",
       "</table>\n",
       "</div>"
      ],
      "text/plain": [
       "        plant_curie            plant_name  disease_curie database    evidence\n",
       "0    ncbitaxon:3369  Cryptomeria japonica  mondo:0005324    bern2  10067319_8\n",
       "1    ncbitaxon:3369  Cryptomeria japonica  mondo:0005324    bern2  10094290_4\n",
       "2    ncbitaxon:3369  Cryptomeria japonica  mondo:0005324    bern2  10336604_1\n",
       "3    ncbitaxon:3311         Ginkgo biloba  mondo:0002643    bern2  10345150_1\n",
       "4  ncbitaxon:203270   Berberis aquifolium  mondo:0008334    bern2  10352377_1"
      ]
     },
     "execution_count": 19,
     "metadata": {},
     "output_type": "execute_result"
    }
   ],
   "source": [
    "plant_disease_data.head()"
   ]
  },
  {
   "cell_type": "code",
   "execution_count": 20,
   "id": "2a3f1495",
   "metadata": {},
   "outputs": [
    {
     "name": "stderr",
     "output_type": "stream",
     "text": [
      "100%|█████████████████████████████████████████████████████████████████████████████████████████████████████████████████████████████| 83906/83906 [00:00<00:00, 443149.62it/s]\n"
     ]
    }
   ],
   "source": [
    "harmonized_data = []\n",
    "\n",
    "for plant_curie, plant_name, disease_curie, database, evidence in tqdm(plant_disease_data.values):\n",
    "    disease_parents = disease_mapper[disease_curie]\n",
    "    \n",
    "    for parent in disease_parents:\n",
    "        harmonized_data.append({\n",
    "            'plant_curie': plant_curie,\n",
    "            'plant_name': plant_name, \n",
    "            'disease_curie': parent,\n",
    "            'database': database,\n",
    "            'evidence': evidence\n",
    "        })"
   ]
  },
  {
   "cell_type": "code",
   "execution_count": 21,
   "id": "b796118c",
   "metadata": {},
   "outputs": [
    {
     "data": {
      "text/html": [
       "<div>\n",
       "<style scoped>\n",
       "    .dataframe tbody tr th:only-of-type {\n",
       "        vertical-align: middle;\n",
       "    }\n",
       "\n",
       "    .dataframe tbody tr th {\n",
       "        vertical-align: top;\n",
       "    }\n",
       "\n",
       "    .dataframe thead th {\n",
       "        text-align: right;\n",
       "    }\n",
       "</style>\n",
       "<table border=\"1\" class=\"dataframe\">\n",
       "  <thead>\n",
       "    <tr style=\"text-align: right;\">\n",
       "      <th></th>\n",
       "      <th>plant_curie</th>\n",
       "      <th>plant_name</th>\n",
       "      <th>disease_curie</th>\n",
       "      <th>database</th>\n",
       "      <th>evidence</th>\n",
       "    </tr>\n",
       "  </thead>\n",
       "  <tbody>\n",
       "    <tr>\n",
       "      <th>0</th>\n",
       "      <td>ncbitaxon:3369</td>\n",
       "      <td>Cryptomeria japonica</td>\n",
       "      <td>mondo:0024623</td>\n",
       "      <td>bern2</td>\n",
       "      <td>10067319_8</td>\n",
       "    </tr>\n",
       "    <tr>\n",
       "      <th>1</th>\n",
       "      <td>ncbitaxon:3369</td>\n",
       "      <td>Cryptomeria japonica</td>\n",
       "      <td>mondo:0005087</td>\n",
       "      <td>bern2</td>\n",
       "      <td>10067319_8</td>\n",
       "    </tr>\n",
       "    <tr>\n",
       "      <th>2</th>\n",
       "      <td>ncbitaxon:3369</td>\n",
       "      <td>Cryptomeria japonica</td>\n",
       "      <td>mondo:0021166</td>\n",
       "      <td>bern2</td>\n",
       "      <td>10067319_8</td>\n",
       "    </tr>\n",
       "    <tr>\n",
       "      <th>3</th>\n",
       "      <td>ncbitaxon:3369</td>\n",
       "      <td>Cryptomeria japonica</td>\n",
       "      <td>mondo:0005046</td>\n",
       "      <td>bern2</td>\n",
       "      <td>10067319_8</td>\n",
       "    </tr>\n",
       "    <tr>\n",
       "      <th>4</th>\n",
       "      <td>ncbitaxon:3369</td>\n",
       "      <td>Cryptomeria japonica</td>\n",
       "      <td>mondo:0024623</td>\n",
       "      <td>bern2</td>\n",
       "      <td>10094290_4</td>\n",
       "    </tr>\n",
       "  </tbody>\n",
       "</table>\n",
       "</div>"
      ],
      "text/plain": [
       "      plant_curie            plant_name  disease_curie database    evidence\n",
       "0  ncbitaxon:3369  Cryptomeria japonica  mondo:0024623    bern2  10067319_8\n",
       "1  ncbitaxon:3369  Cryptomeria japonica  mondo:0005087    bern2  10067319_8\n",
       "2  ncbitaxon:3369  Cryptomeria japonica  mondo:0021166    bern2  10067319_8\n",
       "3  ncbitaxon:3369  Cryptomeria japonica  mondo:0005046    bern2  10067319_8\n",
       "4  ncbitaxon:3369  Cryptomeria japonica  mondo:0024623    bern2  10094290_4"
      ]
     },
     "execution_count": 21,
     "metadata": {},
     "output_type": "execute_result"
    }
   ],
   "source": [
    "harmonized_df = pd.DataFrame(harmonized_data)\n",
    "harmonized_df.head()"
   ]
  },
  {
   "cell_type": "code",
   "execution_count": 22,
   "id": "9fabb5ba",
   "metadata": {},
   "outputs": [
    {
     "data": {
      "text/plain": [
       "(172702, 5)"
      ]
     },
     "execution_count": 22,
     "metadata": {},
     "output_type": "execute_result"
    }
   ],
   "source": [
    "harmonized_df.shape"
   ]
  },
  {
   "cell_type": "code",
   "execution_count": 23,
   "id": "8986391a",
   "metadata": {},
   "outputs": [],
   "source": [
    "harmonized_df.to_csv(f'{DATA_DIR}/processed/plant_disease_collapsed.tsv', sep='\\t', index=False)"
   ]
  },
  {
   "cell_type": "code",
   "execution_count": null,
   "id": "fe515960",
   "metadata": {},
   "outputs": [],
   "source": []
  }
 ],
 "metadata": {
  "kernelspec": {
   "display_name": "kg-sources",
   "language": "python",
   "name": "kg-sources"
  },
  "language_info": {
   "codemirror_mode": {
    "name": "ipython",
    "version": 3
   },
   "file_extension": ".py",
   "mimetype": "text/x-python",
   "name": "python",
   "nbconvert_exporter": "python",
   "pygments_lexer": "ipython3",
   "version": "3.9.12"
  }
 },
 "nbformat": 4,
 "nbformat_minor": 5
}
