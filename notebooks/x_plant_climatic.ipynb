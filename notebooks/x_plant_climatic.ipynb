{
 "cells": [
  {
   "cell_type": "markdown",
   "metadata": {
    "pycharm": {
     "name": "#%% md\n"
    }
   },
   "source": [
    "# Investigating the correlation between ethnobonical usage at climatically-related species\n",
    "\n",
    "### Import modules"
   ]
  },
  {
   "cell_type": "code",
   "execution_count": 1,
   "metadata": {
    "pycharm": {
     "name": "#%%\n"
    }
   },
   "outputs": [
    {
     "name": "stderr",
     "output_type": "stream",
     "text": [
      "/Users/danieldomingo/anaconda3/lib/python3.8/site-packages/scipy/__init__.py:146: UserWarning: A NumPy version >=1.16.5 and <1.23.0 is required for this version of SciPy (detected version 1.23.4\n",
      "  warnings.warn(f\"A NumPy version >={np_minversion} and <{np_maxversion}\"\n"
     ]
    }
   ],
   "source": [
    "from collections import defaultdict\n",
    "from itertools import combinations\n",
    "import random\n",
    "\n",
    "import logging\n",
    "import pandas as pd\n",
    "from tqdm import tqdm\n",
    "import numpy as np\n",
    "    \n",
    "# Stats\n",
    "from scipy.stats import mannwhitneyu\n",
    "from scipy.stats import pearsonr\n",
    "from statannot import add_stat_annotation\n",
    "\n",
    "# Viz\n",
    "import matplotlib as mpl\n",
    "import seaborn as sns\n",
    "import matplotlib.pyplot as plt"
   ]
  },
  {
   "cell_type": "code",
   "execution_count": 2,
   "metadata": {
    "pycharm": {
     "name": "#%%\n"
    }
   },
   "outputs": [],
   "source": [
    "%matplotlib inline"
   ]
  },
  {
   "cell_type": "code",
   "execution_count": 3,
   "metadata": {
    "pycharm": {
     "name": "#%%\n"
    }
   },
   "outputs": [],
   "source": [
    "sns.set(context='poster')\n",
    "mpl.rcParams['figure.dpi'] = 400"
   ]
  },
  {
   "cell_type": "code",
   "execution_count": 4,
   "metadata": {
    "pycharm": {
     "name": "#%%\n"
    }
   },
   "outputs": [],
   "source": [
    "logging.disable()\n",
    "pd.options.mode.chained_assignment = None"
   ]
  },
  {
   "cell_type": "code",
   "execution_count": 5,
   "metadata": {
    "pycharm": {
     "name": "#%%\n"
    }
   },
   "outputs": [],
   "source": [
    "DATA_DIR = '../data/processed'"
   ]
  },
  {
   "cell_type": "markdown",
   "metadata": {
    "pycharm": {
     "name": "#%% md\n"
    }
   },
   "source": [
    "### Load plant-disease evidences"
   ]
  },
  {
   "cell_type": "code",
   "execution_count": 6,
   "metadata": {
    "pycharm": {
     "name": "#%%\n"
    }
   },
   "outputs": [],
   "source": [
    "collapsed_plant_disease_df = pd.read_csv(\n",
    "    f'{DATA_DIR}/plant_disease_collapsed.tsv.gz',\n",
    "    compression='gzip',\n",
    "    sep='\\t',\n",
    "    low_memory=False\n",
    ")"
   ]
  },
  {
   "cell_type": "code",
   "execution_count": 7,
   "metadata": {
    "pycharm": {
     "name": "#%%\n"
    }
   },
   "outputs": [
    {
     "data": {
      "text/plain": [
       "((129539, 5), 4413)"
      ]
     },
     "execution_count": 7,
     "metadata": {},
     "output_type": "execute_result"
    }
   ],
   "source": [
    "literature_data = collapsed_plant_disease_df[\n",
    "    collapsed_plant_disease_df['database'] == 'bern2'\n",
    "]\n",
    "\n",
    "plant_lit_ids = set(literature_data['plant_curie'].to_list())\n",
    "\n",
    "literature_data.shape, len(plant_lit_ids)"
   ]
  },
  {
   "cell_type": "code",
   "execution_count": 8,
   "metadata": {
    "pycharm": {
     "name": "#%%\n"
    }
   },
   "outputs": [
    {
     "data": {
      "text/plain": [
       "((43163, 5), 2338)"
      ]
     },
     "execution_count": 8,
     "metadata": {},
     "output_type": "execute_result"
    }
   ],
   "source": [
    "database_data = collapsed_plant_disease_df[\n",
    "    collapsed_plant_disease_df['database'] != 'bern2'\n",
    "]\n",
    "\n",
    "plant_db_ids = set(database_data['plant_curie'].to_list())\n",
    "\n",
    "database_data.shape, len(plant_db_ids)"
   ]
  },
  {
   "cell_type": "code",
   "execution_count": 9,
   "metadata": {
    "pycharm": {
     "name": "#%%\n"
    }
   },
   "outputs": [
    {
     "data": {
      "text/plain": [
       "5636"
      ]
     },
     "execution_count": 9,
     "metadata": {},
     "output_type": "execute_result"
    }
   ],
   "source": [
    "# Total plant count\n",
    "len(plant_lit_ids.union(plant_db_ids))"
   ]
  },
  {
   "cell_type": "markdown",
   "metadata": {
    "pycharm": {
     "name": "#%% md\n"
    }
   },
   "source": [
    "### Get climatic clustering for medicinal plants"
   ]
  },
  {
   "cell_type": "code",
   "execution_count": 10,
   "metadata": {
    "pycharm": {
     "name": "#%%\n"
    }
   },
   "outputs": [],
   "source": [
    "climatic_areas_by_plant_df = pd.read_csv(\n",
    "    f'../data/mapping/trydb_climatic.tsv',\n",
    "    usecols=[\n",
    "        'ncbi',\n",
    "        'Continental',\n",
    "        'Mediterranean',\n",
    "       'Mountains, NOT ALPINE, ARCTIC, SUBARCTIC, OR SUBALPINE',\n",
    "       'Arctic/Alpine', \n",
    "        'Subarctic/Subalpine/Boreal/Subantarctcic/Austral',\n",
    "       'Temperate', \n",
    "        'Subropical',\n",
    "        'Tropical',\n",
    "        'Humid',\n",
    "        'Arid/semi-arid?',\n",
    "    ],\n",
    "    index_col='ncbi',\n",
    "    sep='\\t',\n",
    ")\n",
    "\n",
    "climatic_areas_by_plant_df.rename(columns={\n",
    "    'Mountains, NOT ALPINE, ARCTIC, SUBARCTIC, OR SUBALPINE': 'Mountain',\n",
    "    'Subarctic/Subalpine/Boreal/Subantarctcic/Austral': 'Subarctic',\n",
    "    'Arid/semi-arid?': 'Arid/semi-arid',\n",
    "}, inplace=True)\n",
    "\n",
    "climatic_areas_by_plant_df.replace(0, np.nan, inplace=True)"
   ]
  },
  {
   "cell_type": "code",
   "execution_count": 11,
   "metadata": {
    "pycharm": {
     "name": "#%%\n"
    }
   },
   "outputs": [
    {
     "data": {
      "text/html": [
       "<div>\n",
       "<style scoped>\n",
       "    .dataframe tbody tr th:only-of-type {\n",
       "        vertical-align: middle;\n",
       "    }\n",
       "\n",
       "    .dataframe tbody tr th {\n",
       "        vertical-align: top;\n",
       "    }\n",
       "\n",
       "    .dataframe thead th {\n",
       "        text-align: right;\n",
       "    }\n",
       "</style>\n",
       "<table border=\"1\" class=\"dataframe\">\n",
       "  <thead>\n",
       "    <tr style=\"text-align: right;\">\n",
       "      <th></th>\n",
       "      <th>Continental</th>\n",
       "      <th>Mediterranean</th>\n",
       "      <th>Mountain</th>\n",
       "      <th>Arctic/Alpine</th>\n",
       "      <th>Subarctic</th>\n",
       "      <th>Temperate</th>\n",
       "      <th>Subropical</th>\n",
       "      <th>Tropical</th>\n",
       "      <th>Humid</th>\n",
       "      <th>Arid/semi-arid</th>\n",
       "    </tr>\n",
       "    <tr>\n",
       "      <th>ncbi</th>\n",
       "      <th></th>\n",
       "      <th></th>\n",
       "      <th></th>\n",
       "      <th></th>\n",
       "      <th></th>\n",
       "      <th></th>\n",
       "      <th></th>\n",
       "      <th></th>\n",
       "      <th></th>\n",
       "      <th></th>\n",
       "    </tr>\n",
       "  </thead>\n",
       "  <tbody>\n",
       "    <tr>\n",
       "      <th>ncbitaxon:205027</th>\n",
       "      <td>1.0</td>\n",
       "      <td>NaN</td>\n",
       "      <td>NaN</td>\n",
       "      <td>NaN</td>\n",
       "      <td>NaN</td>\n",
       "      <td>NaN</td>\n",
       "      <td>NaN</td>\n",
       "      <td>NaN</td>\n",
       "      <td>1.0</td>\n",
       "      <td>NaN</td>\n",
       "    </tr>\n",
       "  </tbody>\n",
       "</table>\n",
       "</div>"
      ],
      "text/plain": [
       "                  Continental  Mediterranean  Mountain  Arctic/Alpine  \\\n",
       "ncbi                                                                    \n",
       "ncbitaxon:205027          1.0            NaN       NaN            NaN   \n",
       "\n",
       "                  Subarctic  Temperate  Subropical  Tropical  Humid  \\\n",
       "ncbi                                                                  \n",
       "ncbitaxon:205027        NaN        NaN         NaN       NaN    1.0   \n",
       "\n",
       "                  Arid/semi-arid  \n",
       "ncbi                              \n",
       "ncbitaxon:205027             NaN  "
      ]
     },
     "execution_count": 11,
     "metadata": {},
     "output_type": "execute_result"
    }
   ],
   "source": [
    "climatic_areas_by_plant_df.head(1)"
   ]
  },
  {
   "cell_type": "code",
   "execution_count": 33,
   "metadata": {
    "pycharm": {
     "name": "#%%\n"
    }
   },
   "outputs": [],
   "source": [
    "koeppen_classification_mapping = {\n",
    "    'Continental': 'D',\n",
    "    'Mediterranean': 'C',\n",
    "    'Mountain': 'C',\n",
    "    'Arctic/Alpine': 'E',\n",
    "    'Subarctic': 'D',\n",
    "    'Temperate': 'C',\n",
    "    'Subropical': 'C',\n",
    "    'Tropical': 'A',\n",
    "    'Humid': 'C',\n",
    "    'Arid/semi-arid': 'B',\n",
    "}"
   ]
  },
  {
   "cell_type": "code",
   "execution_count": 34,
   "metadata": {
    "pycharm": {
     "name": "#%%\n"
    }
   },
   "outputs": [],
   "source": [
    "climate_to_plants_dict = defaultdict(set)\n",
    "\n",
    "for ncbitaxon, row in climatic_areas_by_plant_df.iterrows():\n",
    "    row = row.dropna()\n",
    "    \n",
    "    for climate in row.index:\n",
    "        climate_to_plants_dict[koeppen_classification_mapping[climate]].add(ncbitaxon)"
   ]
  },
  {
   "cell_type": "markdown",
   "metadata": {
    "pycharm": {
     "name": "#%% md\n"
    }
   },
   "source": [
    "Overview of the categories"
   ]
  },
  {
   "cell_type": "code",
   "execution_count": 35,
   "metadata": {
    "pycharm": {
     "name": "#%%\n"
    }
   },
   "outputs": [
    {
     "data": {
      "image/png": "[encoded data removed]",
      "text/plain": [
       "<Figure size 2400x1600 with 1 Axes>"
      ]
     },
     "metadata": {},
     "output_type": "display_data"
    }
   ],
   "source": [
    "summary_climate_df = pd.DataFrame([\n",
    "        {\n",
    "            'climate': climate,\n",
    "        }\n",
    "        for climate, plants in climate_to_plants_dict.items()\n",
    "        for plant in plants\n",
    "    ],\n",
    ")\n",
    "\n",
    "g = sns.countplot(\n",
    "    data=summary_climate_df,\n",
    "    x=\"climate\",\n",
    ")\n",
    "\n",
    "g.tick_params(axis='x', rotation=90)"
   ]
  },
  {
   "cell_type": "code",
   "execution_count": 36,
   "metadata": {
    "pycharm": {
     "name": "#%%\n"
    }
   },
   "outputs": [
    {
     "data": {
      "text/plain": [
       "23"
      ]
     },
     "execution_count": 36,
     "metadata": {},
     "output_type": "execute_result"
    }
   ],
   "source": [
    "disease_vector = set(collapsed_plant_disease_df['disease_curie'].to_list())\n",
    "len(disease_vector)"
   ]
  },
  {
   "cell_type": "markdown",
   "metadata": {
    "pycharm": {
     "name": "#%% md\n"
    }
   },
   "source": [
    "### Prepare plant-disease dicts"
   ]
  },
  {
   "cell_type": "code",
   "execution_count": 37,
   "metadata": {
    "pycharm": {
     "name": "#%%\n"
    }
   },
   "outputs": [],
   "source": [
    "def get_non_binary_dict(df:pd.DataFrame):\n",
    "    \"\"\"Get plant-disease data dictionary based on citation counts\"\"\"\n",
    "    \n",
    "    non_binary_dict = {}\n",
    "        \n",
    "    for plant_curie, disease_curie, evidence in tqdm(\n",
    "        df[['plant_curie', 'disease_curie', 'evidence']].values\n",
    "    ):\n",
    "        pmid = evidence.split('_')[0]\n",
    "\n",
    "        if plant_curie not in non_binary_dict:\n",
    "            non_binary_dict[plant_curie] = defaultdict(set)\n",
    "\n",
    "        non_binary_dict[plant_curie][disease_curie].add(pmid)\n",
    "    return non_binary_dict"
   ]
  },
  {
   "cell_type": "code",
   "execution_count": 38,
   "metadata": {
    "pycharm": {
     "name": "#%%\n"
    },
    "scrolled": true
   },
   "outputs": [
    {
     "name": "stderr",
     "output_type": "stream",
     "text": [
      "100%|██████████| 129539/129539 [00:00<00:00, 635055.23it/s]\n"
     ]
    }
   ],
   "source": [
    "disease_literature_non_binary_dict = get_non_binary_dict(literature_data)"
   ]
  },
  {
   "cell_type": "code",
   "execution_count": 39,
   "metadata": {
    "pycharm": {
     "name": "#%%\n"
    }
   },
   "outputs": [
    {
     "name": "stderr",
     "output_type": "stream",
     "text": [
      "100%|██████████| 43163/43163 [00:00<00:00, 618052.64it/s]\n"
     ]
    }
   ],
   "source": [
    "disease_db_non_binary_dict = get_non_binary_dict(database_data)"
   ]
  },
  {
   "cell_type": "markdown",
   "metadata": {
    "pycharm": {
     "name": "#%% md\n"
    }
   },
   "source": [
    "### Calculate chemical similarity for plants in the same genus or family"
   ]
  },
  {
   "cell_type": "code",
   "execution_count": 40,
   "metadata": {
    "pycharm": {
     "name": "#%%\n"
    }
   },
   "outputs": [],
   "source": [
    "def calculate_pearson(plant_1, plant_2, species_to_vectors):\n",
    "    \"\"\"Calculate pearson coeffiencient.\"\"\"\n",
    "    diseases_plant_1_dict = species_to_vectors[plant_1]\n",
    "    diseases_plant_2_dict = species_to_vectors[plant_2]\n",
    "    \n",
    "    elements_in_plant_1 = []\n",
    "    elements_in_plant_2 = []\n",
    "    \n",
    "    for disease in disease_vector:\n",
    "        if disease in diseases_plant_1_dict:\n",
    "            elements_in_plant_1.append(len(diseases_plant_1_dict[disease]))\n",
    "        else:\n",
    "            elements_in_plant_1.append(0)\n",
    "            \n",
    "        if disease in diseases_plant_1_dict:\n",
    "            elements_in_plant_2.append(len(diseases_plant_2_dict[disease]))\n",
    "        else:\n",
    "            elements_in_plant_2.append(0)\n",
    "    try:\n",
    "        corr = pearsonr(elements_in_plant_1, elements_in_plant_2)\n",
    "    except:\n",
    "        corr = None, None\n",
    "            \n",
    "    return corr\n",
    "\n",
    "\n",
    "def calculate_overlap_for_taxa_level(\n",
    "    climate_dict,\n",
    "    species_to_disease_dict,\n",
    "    pair_type,\n",
    "):\n",
    "    similarity_list = []\n",
    "    skipped = 0\n",
    "    \n",
    "    for _, species in tqdm(\n",
    "        climate_dict.items(),\n",
    "        desc='calculating similarity...',\n",
    "        total=len(climate_dict),\n",
    "    ):\n",
    "        # Not enough species to calculate similarity\n",
    "        if len(species) <= 1:\n",
    "            skipped += 1\n",
    "            continue\n",
    "                        \n",
    "        for plant_1, plant_2 in combinations(species, 2):\n",
    "            \n",
    "            if (\n",
    "                plant_1 not in species_to_disease_dict or \n",
    "                plant_2 not in species_to_disease_dict\n",
    "            ):\n",
    "                continue\n",
    "            \n",
    "            # pearson coefficient\n",
    "            corr_coeff, p_val = calculate_pearson(\n",
    "                plant_1, plant_2, species_to_disease_dict\n",
    "            )\n",
    "            \n",
    "            if not corr_coeff or pd.isna(corr_coeff):\n",
    "                continue\n",
    "            \n",
    "            similarity_list.append({\n",
    "                'plant_1': plant_1,\n",
    "                'plant_2': plant_2,\n",
    "                'pair_type': pair_type,\n",
    "                'pearson_coefficient': corr_coeff,\n",
    "            })    \n",
    "            \n",
    "    return pd.DataFrame(similarity_list)"
   ]
  },
  {
   "cell_type": "code",
   "execution_count": 41,
   "metadata": {
    "pycharm": {
     "name": "#%%\n"
    }
   },
   "outputs": [
    {
     "name": "stderr",
     "output_type": "stream",
     "text": [
      "calculating similarity...:   0%|          | 0/5 [00:00<?, ?it/s]/Users/danieldomingo/anaconda3/lib/python3.8/site-packages/scipy/stats/stats.py:4023: PearsonRConstantInputWarning: An input array is constant; the correlation coefficient is not defined.\n",
      "  warnings.warn(PearsonRConstantInputWarning())\n",
      "calculating similarity...: 100%|██████████| 5/5 [00:16<00:00,  3.21s/it]\n"
     ]
    }
   ],
   "source": [
    "lit_climate_similarity = calculate_overlap_for_taxa_level(\n",
    "    climate_dict=climate_to_plants_dict, # genus to species\n",
    "    species_to_disease_dict=disease_literature_non_binary_dict, # plant(s) -> disease ids\n",
    "    pair_type='Same climate',\n",
    ")"
   ]
  },
  {
   "cell_type": "code",
   "execution_count": 42,
   "metadata": {
    "pycharm": {
     "name": "#%%\n"
    }
   },
   "outputs": [
    {
     "name": "stderr",
     "output_type": "stream",
     "text": [
      "calculating similarity...: 100%|██████████| 5/5 [00:05<00:00,  1.04s/it]\n"
     ]
    }
   ],
   "source": [
    "db_climate_similarity = calculate_overlap_for_taxa_level(\n",
    "    climate_dict=climate_to_plants_dict, # genus to species\n",
    "    species_to_disease_dict=disease_db_non_binary_dict, # plant(s) -> disease ids\n",
    "    pair_type='Same climate',\n",
    ")"
   ]
  },
  {
   "cell_type": "markdown",
   "metadata": {
    "pycharm": {
     "name": "#%% md\n"
    }
   },
   "source": [
    "### Calculate disease similarity for non taxonomically related plants"
   ]
  },
  {
   "cell_type": "code",
   "execution_count": 43,
   "metadata": {
    "pycharm": {
     "name": "#%%\n"
    }
   },
   "outputs": [],
   "source": [
    "def calculate_baseline_overlap(\n",
    "    all_plants,\n",
    "    climate_dict,\n",
    "    species_to_disease_dict,\n",
    "):\n",
    "    \"\"\"Calculate overlap (disease/chemical) for plants ensuring that they are not belonging \n",
    "    to the same family (taxonomically-related).\"\"\"\n",
    "    \n",
    "    # List to store the similarity/overlap for these non-taxonomically plants\n",
    "    similarity_list = []\n",
    "        \n",
    "    species_to_climate = {\n",
    "        plant: climate\n",
    "        for climate, species in climate_dict.items()\n",
    "        for plant in species\n",
    "    }\n",
    "    \n",
    "    outdated_ids = set()\n",
    "    \n",
    "    # Ensure it is a list\n",
    "    all_plants = list(all_plants)\n",
    "    \n",
    "    while len(similarity_list) < 100000:\n",
    "        # Get two random plants\n",
    "        plant_1, plant_2 = random.choices(all_plants, k=2)\n",
    "        \n",
    "        # Plants with a wrong identifier\n",
    "        if plant_1 not in species_to_climate:\n",
    "            outdated_ids.add(plant_1)\n",
    "            continue\n",
    "            \n",
    "        if plant_2 not in species_to_climate:\n",
    "            outdated_ids.add(plant_2)\n",
    "            continue\n",
    "                \n",
    "        # Skip if the plants belong to the same family\n",
    "        if species_to_climate[plant_1] == species_to_climate[plant_2]:\n",
    "            continue  \n",
    "        \n",
    "        # pearson coefficient\n",
    "        corr_coeff, p_val = calculate_pearson(\n",
    "            plant_1, plant_2, species_to_disease_dict\n",
    "        )\n",
    "        \n",
    "        if not corr_coeff:\n",
    "            continue\n",
    "\n",
    "        similarity_list.append({\n",
    "            'plant_1': plant_1,\n",
    "            'plant_2': plant_2,\n",
    "            'pair_type': 'Random',\n",
    "            'pearson_coefficient': corr_coeff,\n",
    "        })\n",
    "            \n",
    "    return pd.DataFrame(similarity_list), outdated_ids"
   ]
  },
  {
   "cell_type": "code",
   "execution_count": 44,
   "metadata": {
    "pycharm": {
     "name": "#%%\n"
    }
   },
   "outputs": [],
   "source": [
    "lit_baseline_similarity, lit_outdated_ids = calculate_baseline_overlap(\n",
    "    all_plants=plant_lit_ids,\n",
    "    climate_dict=climate_to_plants_dict,\n",
    "    species_to_disease_dict=disease_literature_non_binary_dict,\n",
    ")"
   ]
  },
  {
   "cell_type": "code",
   "execution_count": 45,
   "metadata": {
    "pycharm": {
     "name": "#%%\n"
    }
   },
   "outputs": [],
   "source": [
    "db_baseline_similarity, db_outdated_ids = calculate_baseline_overlap(\n",
    "    all_plants=plant_db_ids,\n",
    "    climate_dict=climate_to_plants_dict,\n",
    "    species_to_disease_dict=disease_db_non_binary_dict,\n",
    ")"
   ]
  },
  {
   "cell_type": "code",
   "execution_count": 46,
   "metadata": {
    "pycharm": {
     "name": "#%%\n"
    }
   },
   "outputs": [
    {
     "data": {
      "text/plain": [
       "(3483, 1805)"
      ]
     },
     "execution_count": 46,
     "metadata": {},
     "output_type": "execute_result"
    }
   ],
   "source": [
    "len(lit_outdated_ids), len(db_outdated_ids)"
   ]
  },
  {
   "cell_type": "code",
   "execution_count": 48,
   "metadata": {
    "pycharm": {
     "name": "#%%\n"
    }
   },
   "outputs": [],
   "source": [
    "lit_merged_df = pd.concat([\n",
    "    lit_climate_similarity,\n",
    "    lit_baseline_similarity,\n",
    "])"
   ]
  },
  {
   "cell_type": "code",
   "execution_count": 49,
   "metadata": {
    "pycharm": {
     "name": "#%%\n"
    }
   },
   "outputs": [],
   "source": [
    "df_merged_df = pd.concat([\n",
    "    db_climate_similarity,\n",
    "    db_baseline_similarity,\n",
    "])"
   ]
  },
  {
   "cell_type": "markdown",
   "metadata": {
    "pycharm": {
     "name": "#%% md\n"
    }
   },
   "source": [
    "### Plant-plant pair counts"
   ]
  },
  {
   "cell_type": "code",
   "execution_count": 50,
   "metadata": {
    "pycharm": {
     "name": "#%%\n"
    }
   },
   "outputs": [
    {
     "data": {
      "text/plain": [
       "(336485, 281252, 92043)"
      ]
     },
     "execution_count": 50,
     "metadata": {},
     "output_type": "execute_result"
    }
   ],
   "source": [
    "lit_climate_pairs = lit_merged_df[lit_merged_df['pair_type'] == 'Same climate']\n",
    "db_climate_pairs = df_merged_df[df_merged_df['pair_type'] == 'Same climate']\n",
    "\n",
    "# Get pairs\n",
    "lit_climate_pairs['pairs'] = lit_climate_pairs['plant_1'] + '_' + lit_climate_pairs['plant_2']\n",
    "db_climate_pairs['pairs'] = db_climate_pairs['plant_1'] + '_' + db_climate_pairs['plant_2']\n",
    "\n",
    "\n",
    "# All pairs\n",
    "lit_gpairs = set(lit_climate_pairs['pairs'].values)\n",
    "db_gpairs = set(db_climate_pairs['pairs'].values)\n",
    "\n",
    "climate_pairs = lit_gpairs.union(db_gpairs)\n",
    "len(climate_pairs), len(lit_gpairs), len(db_gpairs)"
   ]
  },
  {
   "cell_type": "markdown",
   "metadata": {
    "pycharm": {
     "name": "#%% md\n"
    }
   },
   "source": [
    "### Similarity plot"
   ]
  },
  {
   "cell_type": "code",
   "execution_count": null,
   "metadata": {
    "pycharm": {
     "name": "#%%\n"
    }
   },
   "outputs": [
    {
     "name": "stdout",
     "output_type": "stream",
     "text": [
      "p-value annotation legend:\n",
      "ns: 5.00e-02 < p <= 1.00e+00\n",
      "*: 1.00e-02 < p <= 5.00e-02\n",
      "**: 1.00e-03 < p <= 1.00e-02\n",
      "***: 1.00e-04 < p <= 1.00e-03\n",
      "****: p <= 1.00e-04\n",
      "\n",
      "Same climate v.s. Random: Mann-Whitney-Wilcoxon test two-sided with Bonferroni correction, P_val=6.111e-12 U_stat=1.492e+10\n",
      "p-value annotation legend:\n",
      "ns: 5.00e-02 < p <= 1.00e+00\n",
      "*: 1.00e-02 < p <= 5.00e-02\n",
      "**: 1.00e-03 < p <= 1.00e-02\n",
      "***: 1.00e-04 < p <= 1.00e-03\n",
      "****: p <= 1.00e-04\n",
      "\n",
      "Same climate v.s. Random: Mann-Whitney-Wilcoxon test two-sided with Bonferroni correction, P_val=1.924e-10 U_stat=4.895e+09\n"
     ]
    }
   ],
   "source": [
    "fig = plt.figure(figsize=(18, 11)) \n",
    "\n",
    "ax1 = plt.subplot2grid(shape=(1,2), loc=(0,0), colspan=1)\n",
    "ax2 = plt.subplot2grid((1,2), (0,1), colspan=1)\n",
    "\n",
    "suptitle = plt.suptitle(\n",
    "    'Indication area similarity between \\nclimatically-close and distant medicinal plants',\n",
    "    y=0.99,\n",
    "    fontweight='bold'\n",
    ")\n",
    "\n",
    "sns.violinplot(data=lit_merged_df, x='pair_type', y='pearson_coefficient', ax=ax1)\n",
    "add_stat_annotation(\n",
    "    data=lit_merged_df,\n",
    "    x='pair_type',\n",
    "    y='pearson_coefficient',\n",
    "    ax=ax1,\n",
    "    box_pairs=[\n",
    "       (\"Same climate\", \"Random\"), \n",
    "    ],\n",
    "    test='Mann-Whitney',\n",
    "    text_format='star', \n",
    "    line_offset=0,\n",
    "    text_offset=0,\n",
    ")\n",
    "\n",
    "# Rotate ticks X\n",
    "ax1.xaxis.set_tick_params(rotation=45)\n",
    "\n",
    "# Avoids that 1.2 comes in the plot\n",
    "# ax1.set_ylim([-0.05, 1.19])\n",
    "\n",
    "# Set Y and X ticks\n",
    "ax1.set_ylabel(\"Pearson correlation\")\n",
    "ax1.set_xlabel(\"\")\n",
    "ax1.set_title(\"Scientific literature\", y=1.02)\n",
    "\n",
    "sns.violinplot(data=df_merged_df, x='pair_type', y='pearson_coefficient', ax=ax2)\n",
    "add_stat_annotation(\n",
    "    data=df_merged_df,\n",
    "    x='pair_type',\n",
    "    y='pearson_coefficient',\n",
    "    ax=ax2,\n",
    "    box_pairs=[\n",
    "       (\"Same climate\", \"Random\"), \n",
    "    ],\n",
    "    test='Mann-Whitney',\n",
    "    text_format='star', \n",
    "    line_offset=0,\n",
    "    text_offset=0,\n",
    ")\n",
    "\n",
    "# Rotate ticks X\n",
    "ax2.xaxis.set_tick_params(rotation=45)\n",
    "\n",
    "# Avoids that 1.2 comes in the plot\n",
    "# ax2.set_ylim([-0.05, 1.19])\n",
    "\n",
    "# Set Y and X ticks\n",
    "ax2.set_ylabel(\"\")\n",
    "ax2.set_xlabel(\"\")\n",
    "\n",
    "ax2.set_title(\"Ethnobotanical databases\", y=1.02)\n",
    "    \n",
    "plt.tight_layout()\n",
    "plt.savefig(\n",
    "    f'../data/figures/supplementary_figure_1.png',\n",
    "    dpi=400,\n",
    "    bbox_inches='tight', \n",
    "    bbox_extra_artists=[suptitle],\n",
    ")\n",
    "plt.show()"
   ]
  },
  {
   "cell_type": "code",
   "execution_count": 52,
   "metadata": {
    "pycharm": {
     "name": "#%%\n"
    }
   },
   "outputs": [
    {
     "name": "stdout",
     "output_type": "stream",
     "text": [
      "Disease area similarity (literature) for Same climate         mean: 0.146,         median: 0.052\n",
      "Disease area similarity (literature) for Random         mean: 0.139,         median: 0.038\n"
     ]
    }
   ],
   "source": [
    "for col in lit_merged_df.pair_type.unique():\n",
    "    info = lit_merged_df[lit_merged_df.pair_type == col]\n",
    "    print(\n",
    "        f'Disease area similarity (literature) for {col} \\\n",
    "        mean: {info[\"pearson_coefficient\"].mean():.3f}, \\\n",
    "        median: {info[\"pearson_coefficient\"].median():.3f}'\n",
    "    )"
   ]
  },
  {
   "cell_type": "code",
   "execution_count": 53,
   "metadata": {
    "pycharm": {
     "name": "#%%\n"
    }
   },
   "outputs": [
    {
     "name": "stdout",
     "output_type": "stream",
     "text": [
      "Disease area similarity (databases) for Same climate         mean: 0.194,         median: 0.186\n",
      "Disease area similarity (databases) for Random         mean: 0.184,         median: 0.171\n"
     ]
    }
   ],
   "source": [
    "for col in df_merged_df.pair_type.unique():\n",
    "    info = df_merged_df[df_merged_df.pair_type == col]\n",
    "    print(\n",
    "        f'Disease area similarity (databases) for {col} \\\n",
    "        mean: {info[\"pearson_coefficient\"].mean():.3f}, \\\n",
    "        median: {info[\"pearson_coefficient\"].median():.3f}'\n",
    "    )"
   ]
  },
  {
   "cell_type": "code",
   "execution_count": null,
   "metadata": {
    "pycharm": {
     "name": "#%%\n"
    }
   },
   "outputs": [],
   "source": []
  }
 ],
 "metadata": {
  "kernelspec": {
   "display_name": "Python 3",
   "language": "python",
   "name": "python3"
  },
  "language_info": {
   "codemirror_mode": {
    "name": "ipython",
    "version": 3
   },
   "file_extension": ".py",
   "mimetype": "text/x-python",
   "name": "python",
   "nbconvert_exporter": "python",
   "pygments_lexer": "ipython3",
   "version": "3.8.3"
  }
 },
 "nbformat": 4,
 "nbformat_minor": 5
}