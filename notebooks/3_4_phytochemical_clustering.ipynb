{
 "cells": [
  {
   "cell_type": "markdown",
   "id": "aa193a4c",
   "metadata": {},
   "source": [
    "# Investigating the correlation between plant pairs (related by genus) and the phytochemicals present in them\n",
    "\n",
    "### Import modules"
   ]
  },
  {
   "cell_type": "code",
   "execution_count": 1,
   "id": "834023c5",
   "metadata": {},
   "outputs": [],
   "source": [
    "import logging\n",
    "from collections import defaultdict\n",
    "import pandas as pd\n",
    "from tqdm import tqdm\n",
    "import obonet\n",
    "import networkx as nx\n",
    "\n",
    "# Phylogenetics\n",
    "from ete3 import NCBITaxa\n",
    "\n",
    "# Viz\n",
    "import matplotlib as mpl\n",
    "import seaborn as sns\n",
    "import matplotlib.pyplot as plt\n",
    "from matplotlib.colors import ListedColormap, LinearSegmentedColormap"
   ]
  },
  {
   "cell_type": "code",
   "execution_count": 2,
   "id": "85d436bb",
   "metadata": {},
   "outputs": [],
   "source": [
    "logger = logging.getLogger('__name__')"
   ]
  },
  {
   "cell_type": "code",
   "execution_count": 3,
   "id": "22721475",
   "metadata": {},
   "outputs": [],
   "source": [
    "%matplotlib inline"
   ]
  },
  {
   "cell_type": "code",
   "execution_count": 4,
   "id": "344bfdae",
   "metadata": {},
   "outputs": [],
   "source": [
    "pd.options.mode.chained_assignment = None"
   ]
  },
  {
   "cell_type": "code",
   "execution_count": 5,
   "id": "94a68df5",
   "metadata": {},
   "outputs": [],
   "source": [
    "DATA_DIR = '../data/processed'\n",
    "MAPPING_DIR = '../data/mapping'"
   ]
  },
  {
   "cell_type": "markdown",
   "id": "b4b0f742",
   "metadata": {},
   "source": [
    "### Load plant-disease evidences"
   ]
  },
  {
   "cell_type": "code",
   "execution_count": 6,
   "id": "d64da58e",
   "metadata": {},
   "outputs": [
    {
     "data": {
      "text/html": [
       "<div>\n",
       "<style scoped>\n",
       "    .dataframe tbody tr th:only-of-type {\n",
       "        vertical-align: middle;\n",
       "    }\n",
       "\n",
       "    .dataframe tbody tr th {\n",
       "        vertical-align: top;\n",
       "    }\n",
       "\n",
       "    .dataframe thead th {\n",
       "        text-align: right;\n",
       "    }\n",
       "</style>\n",
       "<table border=\"1\" class=\"dataframe\">\n",
       "  <thead>\n",
       "    <tr style=\"text-align: right;\">\n",
       "      <th></th>\n",
       "      <th>plant_curie</th>\n",
       "      <th>disease_curie</th>\n",
       "      <th>database</th>\n",
       "    </tr>\n",
       "  </thead>\n",
       "  <tbody>\n",
       "    <tr>\n",
       "      <th>0</th>\n",
       "      <td>ncbitaxon:3369</td>\n",
       "      <td>mondo:0024623</td>\n",
       "      <td>bern2</td>\n",
       "    </tr>\n",
       "    <tr>\n",
       "      <th>1</th>\n",
       "      <td>ncbitaxon:3369</td>\n",
       "      <td>mondo:0005087</td>\n",
       "      <td>bern2</td>\n",
       "    </tr>\n",
       "    <tr>\n",
       "      <th>2</th>\n",
       "      <td>ncbitaxon:3369</td>\n",
       "      <td>mondo:0021166</td>\n",
       "      <td>bern2</td>\n",
       "    </tr>\n",
       "    <tr>\n",
       "      <th>3</th>\n",
       "      <td>ncbitaxon:3369</td>\n",
       "      <td>mondo:0005046</td>\n",
       "      <td>bern2</td>\n",
       "    </tr>\n",
       "    <tr>\n",
       "      <th>4</th>\n",
       "      <td>ncbitaxon:3369</td>\n",
       "      <td>mondo:0024623</td>\n",
       "      <td>bern2</td>\n",
       "    </tr>\n",
       "    <tr>\n",
       "      <th>...</th>\n",
       "      <td>...</td>\n",
       "      <td>...</td>\n",
       "      <td>...</td>\n",
       "    </tr>\n",
       "    <tr>\n",
       "      <th>172697</th>\n",
       "      <td>ncbitaxon:99809</td>\n",
       "      <td>mondo:0003900</td>\n",
       "      <td>koreantk</td>\n",
       "    </tr>\n",
       "    <tr>\n",
       "      <th>172698</th>\n",
       "      <td>ncbitaxon:99809</td>\n",
       "      <td>mondo:0005066</td>\n",
       "      <td>koreantk</td>\n",
       "    </tr>\n",
       "    <tr>\n",
       "      <th>172699</th>\n",
       "      <td>ncbitaxon:99809</td>\n",
       "      <td>mondo:0002081</td>\n",
       "      <td>koreantk</td>\n",
       "    </tr>\n",
       "    <tr>\n",
       "      <th>172700</th>\n",
       "      <td>ncbitaxon:99809</td>\n",
       "      <td>mondo:0005046</td>\n",
       "      <td>koreantk</td>\n",
       "    </tr>\n",
       "    <tr>\n",
       "      <th>172701</th>\n",
       "      <td>ncbitaxon:99809</td>\n",
       "      <td>mondo:0021166</td>\n",
       "      <td>koreantk</td>\n",
       "    </tr>\n",
       "  </tbody>\n",
       "</table>\n",
       "<p>172702 rows × 3 columns</p>\n",
       "</div>"
      ],
      "text/plain": [
       "            plant_curie  disease_curie  database\n",
       "0        ncbitaxon:3369  mondo:0024623     bern2\n",
       "1        ncbitaxon:3369  mondo:0005087     bern2\n",
       "2        ncbitaxon:3369  mondo:0021166     bern2\n",
       "3        ncbitaxon:3369  mondo:0005046     bern2\n",
       "4        ncbitaxon:3369  mondo:0024623     bern2\n",
       "...                 ...            ...       ...\n",
       "172697  ncbitaxon:99809  mondo:0003900  koreantk\n",
       "172698  ncbitaxon:99809  mondo:0005066  koreantk\n",
       "172699  ncbitaxon:99809  mondo:0002081  koreantk\n",
       "172700  ncbitaxon:99809  mondo:0005046  koreantk\n",
       "172701  ncbitaxon:99809  mondo:0021166  koreantk\n",
       "\n",
       "[172702 rows x 3 columns]"
      ]
     },
     "execution_count": 6,
     "metadata": {},
     "output_type": "execute_result"
    }
   ],
   "source": [
    "plant_disease_df = pd.read_csv(\n",
    "    f'{DATA_DIR}/plant_disease_collapsed.tsv.gz',\n",
    "    compression='gzip',\n",
    "    sep='\\t',\n",
    "    usecols=[\n",
    "        'plant_curie',\n",
    "        'disease_curie',\n",
    "        'database'\n",
    "    ],\n",
    "    low_memory=False\n",
    ")\n",
    "plant_disease_df"
   ]
  },
  {
   "cell_type": "code",
   "execution_count": 7,
   "id": "e73652b7",
   "metadata": {},
   "outputs": [
    {
     "data": {
      "text/plain": [
       "5636"
      ]
     },
     "execution_count": 7,
     "metadata": {},
     "output_type": "execute_result"
    }
   ],
   "source": [
    "medicinal_plants = plant_disease_df['plant_curie'].unique().tolist()\n",
    "\n",
    "len(medicinal_plants)"
   ]
  },
  {
   "cell_type": "markdown",
   "id": "51737a3f",
   "metadata": {},
   "source": [
    "### Load plant-chemcial data"
   ]
  },
  {
   "cell_type": "code",
   "execution_count": 8,
   "id": "1d0c553f",
   "metadata": {},
   "outputs": [
    {
     "data": {
      "text/html": [
       "<div>\n",
       "<style scoped>\n",
       "    .dataframe tbody tr th:only-of-type {\n",
       "        vertical-align: middle;\n",
       "    }\n",
       "\n",
       "    .dataframe tbody tr th {\n",
       "        vertical-align: top;\n",
       "    }\n",
       "\n",
       "    .dataframe thead th {\n",
       "        text-align: right;\n",
       "    }\n",
       "</style>\n",
       "<table border=\"1\" class=\"dataframe\">\n",
       "  <thead>\n",
       "    <tr style=\"text-align: right;\">\n",
       "      <th></th>\n",
       "      <th>plant_curie</th>\n",
       "      <th>plant_name</th>\n",
       "      <th>chemical_curie</th>\n",
       "      <th>evidence</th>\n",
       "    </tr>\n",
       "  </thead>\n",
       "  <tbody>\n",
       "    <tr>\n",
       "      <th>0</th>\n",
       "      <td>ncbitaxon:1000425</td>\n",
       "      <td>Pimpinella major</td>\n",
       "      <td>pubchem.compound:3527</td>\n",
       "      <td>Relation from COCONUT</td>\n",
       "    </tr>\n",
       "  </tbody>\n",
       "</table>\n",
       "</div>"
      ],
      "text/plain": [
       "         plant_curie        plant_name         chemical_curie  \\\n",
       "0  ncbitaxon:1000425  Pimpinella major  pubchem.compound:3527   \n",
       "\n",
       "                evidence  \n",
       "0  Relation from COCONUT  "
      ]
     },
     "execution_count": 8,
     "metadata": {},
     "output_type": "execute_result"
    }
   ],
   "source": [
    "plant_chemical_df = pd.read_csv(\n",
    "    f'{DATA_DIR}/plant_chemical_associations.tsv.zip',\n",
    "    compression='zip',\n",
    "    sep='\\t',\n",
    "    usecols=[\n",
    "        'plant_curie',\n",
    "        'plant name',\n",
    "        'chemical_curie',\n",
    "        'evidence'\n",
    "    ],\n",
    "    low_memory=False\n",
    ")\n",
    "\n",
    "plant_chemical_df.rename(columns={'plant name': 'plant_name'}, inplace=True)\n",
    "\n",
    "plant_chemical_df.head(1)"
   ]
  },
  {
   "cell_type": "markdown",
   "id": "bde1b7e1",
   "metadata": {},
   "source": [
    "### Subset chemicals to medicinal plants only"
   ]
  },
  {
   "cell_type": "code",
   "execution_count": 9,
   "id": "aa9466ee",
   "metadata": {},
   "outputs": [],
   "source": [
    "plant_chemical_df = plant_chemical_df[plant_chemical_df['plant_curie'].isin(medicinal_plants)]"
   ]
  },
  {
   "cell_type": "code",
   "execution_count": 10,
   "id": "09c8f36f",
   "metadata": {},
   "outputs": [
    {
     "data": {
      "text/plain": [
       "(154933, 4)"
      ]
     },
     "execution_count": 10,
     "metadata": {},
     "output_type": "execute_result"
    }
   ],
   "source": [
    "plant_chemical_df.shape"
   ]
  },
  {
   "cell_type": "markdown",
   "id": "2a1ba9ee",
   "metadata": {},
   "source": [
    "### Add genus information for plants"
   ]
  },
  {
   "cell_type": "code",
   "execution_count": 11,
   "id": "636f1230",
   "metadata": {},
   "outputs": [],
   "source": [
    "ncbi = NCBITaxa()"
   ]
  },
  {
   "cell_type": "code",
   "execution_count": 12,
   "id": "5b521d24",
   "metadata": {},
   "outputs": [
    {
     "name": "stderr",
     "output_type": "stream",
     "text": [
      "  0%|                                                                                                                                              | 0/5636 [00:00<?, ?it/s]/Users/yojana/anaconda3/envs/kg-sources/lib/python3.9/site-packages/ete3/ncbi_taxonomy/ncbiquery.py:243: UserWarning: taxid 32224 was translated into 2843217\n",
      "  warnings.warn(\"taxid %s was translated into %s\" %(taxid, merged_conversion[taxid]))\n",
      "/Users/yojana/anaconda3/envs/kg-sources/lib/python3.9/site-packages/ete3/ncbi_taxonomy/ncbiquery.py:243: UserWarning: taxid 48038 was translated into 2849586\n",
      "  warnings.warn(\"taxid %s was translated into %s\" %(taxid, merged_conversion[taxid]))\n",
      "  9%|███████████▉                                                                                                                      | 519/5636 [00:00<00:00, 5187.30it/s]/Users/yojana/anaconda3/envs/kg-sources/lib/python3.9/site-packages/ete3/ncbi_taxonomy/ncbiquery.py:243: UserWarning: taxid 23810 was translated into 2768810\n",
      "  warnings.warn(\"taxid %s was translated into %s\" %(taxid, merged_conversion[taxid]))\n",
      "/Users/yojana/anaconda3/envs/kg-sources/lib/python3.9/site-packages/ete3/ncbi_taxonomy/ncbiquery.py:243: UserWarning: taxid 135200 was translated into 2849020\n",
      "  warnings.warn(\"taxid %s was translated into %s\" %(taxid, merged_conversion[taxid]))\n",
      " 18%|███████████████████████▊                                                                                                         | 1038/5636 [00:00<00:01, 4345.63it/s]/Users/yojana/anaconda3/envs/kg-sources/lib/python3.9/site-packages/ete3/ncbi_taxonomy/ncbiquery.py:243: UserWarning: taxid 159059 was translated into 2901850\n",
      "  warnings.warn(\"taxid %s was translated into %s\" %(taxid, merged_conversion[taxid]))\n",
      " 33%|███████████████████████████████████████████                                                                                      | 1884/5636 [00:00<00:00, 3950.21it/s]/Users/yojana/anaconda3/envs/kg-sources/lib/python3.9/site-packages/ete3/ncbi_taxonomy/ncbiquery.py:243: UserWarning: taxid 159068 was translated into 2839963\n",
      "  warnings.warn(\"taxid %s was translated into %s\" %(taxid, merged_conversion[taxid]))\n",
      " 42%|██████████████████████████████████████████████████████▎                                                                          | 2371/5636 [00:00<00:00, 4248.28it/s]/Users/yojana/anaconda3/envs/kg-sources/lib/python3.9/site-packages/ete3/ncbi_taxonomy/ncbiquery.py:243: UserWarning: taxid 118899 was translated into 1680167\n",
      "  warnings.warn(\"taxid %s was translated into %s\" %(taxid, merged_conversion[taxid]))\n",
      "/Users/yojana/anaconda3/envs/kg-sources/lib/python3.9/site-packages/ete3/ncbi_taxonomy/ncbiquery.py:243: UserWarning: taxid 243805 was translated into 2741401\n",
      "  warnings.warn(\"taxid %s was translated into %s\" %(taxid, merged_conversion[taxid]))\n",
      " 52%|███████████████████████████████████████████████████████████████████▎                                                             | 2942/5636 [00:00<00:00, 4712.53it/s]/Users/yojana/anaconda3/envs/kg-sources/lib/python3.9/site-packages/ete3/ncbi_taxonomy/ncbiquery.py:243: UserWarning: taxid 263241 was translated into 2806839\n",
      "  warnings.warn(\"taxid %s was translated into %s\" %(taxid, merged_conversion[taxid]))\n",
      " 74%|███████████████████████████████████████████████████████████████████████████████████████████████▌                                 | 4173/5636 [00:00<00:00, 5455.99it/s]/Users/yojana/anaconda3/envs/kg-sources/lib/python3.9/site-packages/ete3/ncbi_taxonomy/ncbiquery.py:243: UserWarning: taxid 1077933 was translated into 310241\n",
      "  warnings.warn(\"taxid %s was translated into %s\" %(taxid, merged_conversion[taxid]))\n",
      "/Users/yojana/anaconda3/envs/kg-sources/lib/python3.9/site-packages/ete3/ncbi_taxonomy/ncbiquery.py:243: UserWarning: taxid 2055941 was translated into 2943985\n",
      "  warnings.warn(\"taxid %s was translated into %s\" %(taxid, merged_conversion[taxid]))\n",
      " 84%|████████████████████████████████████████████████████████████████████████████████████████████████████████████▏                    | 4724/5636 [00:00<00:00, 5298.54it/s]/Users/yojana/anaconda3/envs/kg-sources/lib/python3.9/site-packages/ete3/ncbi_taxonomy/ncbiquery.py:243: UserWarning: taxid 228519 was translated into 1779209\n",
      "  warnings.warn(\"taxid %s was translated into %s\" %(taxid, merged_conversion[taxid]))\n",
      " 93%|████████████████████████████████████████████████████████████████████████████████████████████████████████████████████████▎        | 5258/5636 [00:01<00:00, 5243.81it/s]/Users/yojana/anaconda3/envs/kg-sources/lib/python3.9/site-packages/ete3/ncbi_taxonomy/ncbiquery.py:243: UserWarning: taxid 1623382 was translated into 2900701\n",
      "  warnings.warn(\"taxid %s was translated into %s\" %(taxid, merged_conversion[taxid]))\n",
      "100%|█████████████████████████████████████████████████████████████████████████████████████████████████████████████████████████████████| 5636/5636 [00:01<00:00, 4794.23it/s]\n"
     ]
    }
   ],
   "source": [
    "lineage_dict = defaultdict(list)\n",
    "p_names = defaultdict(str)\n",
    "\n",
    "for plant in tqdm(medicinal_plants):\n",
    "    tree = ncbi.get_lineage(plant.split(':')[1])\n",
    "    plant_name = ncbi.get_taxid_translator([plant.split(':')[1]])\n",
    "    plant_name = {\n",
    "        f'ncbitaxon:{i}': j\n",
    "        for i, j in plant_name.items()\n",
    "    }\n",
    "    \n",
    "    p_names.update(plant_name)\n",
    "    \n",
    "    tree = [\n",
    "        f'ncbitaxon:{i}'\n",
    "        for i in tree\n",
    "    ]\n",
    "    \n",
    "    lineage_dict[plant] = tree"
   ]
  },
  {
   "cell_type": "code",
   "execution_count": 13,
   "id": "74834db6",
   "metadata": {},
   "outputs": [],
   "source": [
    "plant_chemical_df['parent'] = plant_chemical_df['plant_curie'].map(lineage_dict)"
   ]
  },
  {
   "cell_type": "markdown",
   "id": "9550e18b",
   "metadata": {},
   "source": [
    "Split the dataframe such that there is one plant-parent pair each row"
   ]
  },
  {
   "cell_type": "code",
   "execution_count": 14,
   "id": "abffa2c2",
   "metadata": {},
   "outputs": [],
   "source": [
    "plant_chemical_df = plant_chemical_df.explode(['parent'])"
   ]
  },
  {
   "cell_type": "code",
   "execution_count": 15,
   "id": "f0815f35",
   "metadata": {},
   "outputs": [
    {
     "data": {
      "text/html": [
       "<div>\n",
       "<style scoped>\n",
       "    .dataframe tbody tr th:only-of-type {\n",
       "        vertical-align: middle;\n",
       "    }\n",
       "\n",
       "    .dataframe tbody tr th {\n",
       "        vertical-align: top;\n",
       "    }\n",
       "\n",
       "    .dataframe thead th {\n",
       "        text-align: right;\n",
       "    }\n",
       "</style>\n",
       "<table border=\"1\" class=\"dataframe\">\n",
       "  <thead>\n",
       "    <tr style=\"text-align: right;\">\n",
       "      <th></th>\n",
       "      <th>plant_curie</th>\n",
       "      <th>plant_name</th>\n",
       "      <th>chemical_curie</th>\n",
       "      <th>evidence</th>\n",
       "      <th>parent</th>\n",
       "    </tr>\n",
       "  </thead>\n",
       "  <tbody>\n",
       "    <tr>\n",
       "      <th>49</th>\n",
       "      <td>ncbitaxon:100136</td>\n",
       "      <td>Leptolobium panamense</td>\n",
       "      <td>pubchem.compound:73806653</td>\n",
       "      <td>Relation from COCONUT</td>\n",
       "      <td>ncbitaxon:1</td>\n",
       "    </tr>\n",
       "    <tr>\n",
       "      <th>49</th>\n",
       "      <td>ncbitaxon:100136</td>\n",
       "      <td>Leptolobium panamense</td>\n",
       "      <td>pubchem.compound:73806653</td>\n",
       "      <td>Relation from COCONUT</td>\n",
       "      <td>ncbitaxon:131567</td>\n",
       "    </tr>\n",
       "  </tbody>\n",
       "</table>\n",
       "</div>"
      ],
      "text/plain": [
       "         plant_curie             plant_name             chemical_curie  \\\n",
       "49  ncbitaxon:100136  Leptolobium panamense  pubchem.compound:73806653   \n",
       "49  ncbitaxon:100136  Leptolobium panamense  pubchem.compound:73806653   \n",
       "\n",
       "                 evidence            parent  \n",
       "49  Relation from COCONUT       ncbitaxon:1  \n",
       "49  Relation from COCONUT  ncbitaxon:131567  "
      ]
     },
     "execution_count": 15,
     "metadata": {},
     "output_type": "execute_result"
    }
   ],
   "source": [
    "plant_chemical_df.head(2)"
   ]
  },
  {
   "cell_type": "markdown",
   "id": "6b0ee47e",
   "metadata": {},
   "source": [
    "### Usecase functions"
   ]
  },
  {
   "cell_type": "code",
   "execution_count": 16,
   "id": "bc214ae2",
   "metadata": {},
   "outputs": [],
   "source": [
    "def get_subset(parent_curie: str):\n",
    "    \"\"\"Get genus specific subset from the plant-disease and plant-chemical data.\"\"\"\n",
    "    chem_df = plant_chemical_df[plant_chemical_df['parent'] == parent_curie.lower()]\n",
    "    \n",
    "    logger.warning(f'No.of plants in the genus - {len(chem_df.plant_curie.unique())}')\n",
    "    logger.warning(f'No.of chemicals the genus contains - {len(chem_df.chemical_curie.unique())}')\n",
    "    return chem_df"
   ]
  },
  {
   "cell_type": "code",
   "execution_count": 17,
   "id": "51e2bf72",
   "metadata": {},
   "outputs": [],
   "source": [
    "def create_chemical_matrix(df: pd.DataFrame):\n",
    "    \"\"\"Create a plant vs chemicals binary vector matrix\"\"\"\n",
    "    \n",
    "    dist_matrix = pd.DataFrame(\n",
    "        columns=df['chemical_curie'].unique(), index=df['plant_name'].unique()\n",
    "    )\n",
    "    dist_matrix.fillna(0, inplace=True)\n",
    "    \n",
    "    for row in tqdm(df.values):\n",
    "        (\n",
    "            plant_curie,\n",
    "            plant_name,\n",
    "            chemical_curie,\n",
    "            source,\n",
    "            plant_family,\n",
    "        ) = row\n",
    "\n",
    "        dist_matrix.loc[plant_name, chemical_curie] = 1\n",
    "    \n",
    "    # Keeping columns that occur in more than 1 plant\n",
    "    cols_to_remove = []\n",
    "    for col in dist_matrix.columns:\n",
    "        val_counts = dist_matrix[col].value_counts().to_dict()\n",
    "        if val_counts[1] < 5:\n",
    "            cols_to_remove.append(col)\n",
    "            \n",
    "    dist_matrix.drop(columns=cols_to_remove, inplace=True)\n",
    "    \n",
    "    return dist_matrix"
   ]
  },
  {
   "cell_type": "code",
   "execution_count": 18,
   "id": "cb4b17e8",
   "metadata": {},
   "outputs": [],
   "source": [
    "def create_cluster(dist_df: pd.DataFrame, plants_of_interest: list, plant_name: str, figure_num: str):\n",
    "    \"\"\"Generating a clustermap for the data.\"\"\"\n",
    "    \n",
    "    cmap = ListedColormap(['#f1e4e4', '#a12d2d'])\n",
    "        \n",
    "    g = sns.clustermap(\n",
    "        dist_df, \n",
    "        cmap=cmap,\n",
    "        fmt='g', \n",
    "        vmin=0,\n",
    "        vmax=1, \n",
    "        yticklabels=dist_df.index, \n",
    "        xticklabels=True, \n",
    "        linecolor='white', \n",
    "        col_cluster=False,\n",
    "        cbar_pos=None,\n",
    "    )\n",
    "    \n",
    "    for tick_label in g.ax_heatmap.yaxis.get_majorticklabels():\n",
    "        name = tick_label.get_text()\n",
    "        if name in plants_of_interest:\n",
    "            tick_label.set_weight('bold')\n",
    "        else:\n",
    "            tick_label.set_weight('normal')\n",
    "    \n",
    "    g.ax_heatmap.set_title(\n",
    "        f'Clustering the $\\it{plant_name}$ genus by their chemical composition',\n",
    "        fontsize=18,\n",
    "        y=1.05,\n",
    "    )\n",
    "    \n",
    "    plt.tight_layout()\n",
    "    plt.savefig(\n",
    "        f'../data/figures/supplementary_figure_{figure_num}_clustering.png',\n",
    "        dpi=400,\n",
    "        bbox_inches='tight', \n",
    "    )\n",
    "    \n",
    "    return plt.show()\n"
   ]
  },
  {
   "cell_type": "markdown",
   "id": "22a8eaa6",
   "metadata": {},
   "source": [
    "### Usecase 1: Salvia genus (NCBITaxon:21880)"
   ]
  },
  {
   "cell_type": "code",
   "execution_count": 19,
   "id": "a6b0c74f",
   "metadata": {},
   "outputs": [
    {
     "name": "stderr",
     "output_type": "stream",
     "text": [
      "No.of plants in the genus - 21\n",
      "No.of chemicals the genus contains - 1073\n"
     ]
    },
    {
     "data": {
      "text/plain": [
       "(1530, 5)"
      ]
     },
     "execution_count": 19,
     "metadata": {},
     "output_type": "execute_result"
    }
   ],
   "source": [
    "example1_chem_df = get_subset('ncbitaxon:21880')\n",
    "example1_chem_df.shape"
   ]
  },
  {
   "cell_type": "markdown",
   "id": "e87ea017",
   "metadata": {},
   "source": [
    "Creating distance matrix for the subset"
   ]
  },
  {
   "cell_type": "code",
   "execution_count": 20,
   "id": "e559b2b6",
   "metadata": {},
   "outputs": [
    {
     "name": "stderr",
     "output_type": "stream",
     "text": [
      "100%|█████████████████████████████████████████████████████████████████████████████████████████████████████████████████████████████████| 1530/1530 [00:00<00:00, 8906.80it/s]\n"
     ]
    }
   ],
   "source": [
    "example_1_chemical_matrix = create_chemical_matrix(example1_chem_df)"
   ]
  },
  {
   "cell_type": "markdown",
   "id": "0d1843de",
   "metadata": {},
   "source": [
    "Get clustermap for usecase"
   ]
  },
  {
   "cell_type": "code",
   "execution_count": 21,
   "id": "319a8d4c",
   "metadata": {},
   "outputs": [],
   "source": [
    "## All plants having the chemical Reserpine\n",
    "plants_of_interest = [\n",
    "    'Salvia officinalis',\n",
    "    'Salvia rosmarinus',\n",
    "    'Salvia miltiorrhiza'\n",
    "]"
   ]
  },
  {
   "cell_type": "code",
   "execution_count": 22,
   "id": "b1e75ae2",
   "metadata": {},
   "outputs": [
    {
     "data": {
      "image/png": "[encoded data removed]",
      "text/plain": [
       "<Figure size 720x720 with 3 Axes>"
      ]
     },
     "metadata": {
      "needs_background": "light"
     },
     "output_type": "display_data"
    }
   ],
   "source": [
    "create_cluster(example_1_chemical_matrix, plants_of_interest, 'Salvia', '7_A')"
   ]
  },
  {
   "cell_type": "markdown",
   "id": "f2b5f3d9",
   "metadata": {},
   "source": [
    "### Usecase 2: Angelica genus (NCBITaxon:40948)"
   ]
  },
  {
   "cell_type": "code",
   "execution_count": 23,
   "id": "fa1328f2",
   "metadata": {},
   "outputs": [
    {
     "name": "stderr",
     "output_type": "stream",
     "text": [
      "No.of plants in the genus - 11\n",
      "No.of chemicals the genus contains - 775\n"
     ]
    },
    {
     "data": {
      "text/plain": [
       "(1435, 5)"
      ]
     },
     "execution_count": 23,
     "metadata": {},
     "output_type": "execute_result"
    }
   ],
   "source": [
    "example2_chem_df = get_subset('ncbitaxon:40948')\n",
    "example2_chem_df.shape"
   ]
  },
  {
   "cell_type": "markdown",
   "id": "89dc8108",
   "metadata": {},
   "source": [
    "Creating distance matrix for the subset"
   ]
  },
  {
   "cell_type": "code",
   "execution_count": 24,
   "id": "a92cab52",
   "metadata": {},
   "outputs": [
    {
     "name": "stderr",
     "output_type": "stream",
     "text": [
      "100%|█████████████████████████████████████████████████████████████████████████████████████████████████████████████████████████████████| 1435/1435 [00:00<00:00, 9979.48it/s]\n"
     ]
    }
   ],
   "source": [
    "example_2_chemical_matrix = create_chemical_matrix(example2_chem_df)"
   ]
  },
  {
   "cell_type": "markdown",
   "id": "d8a98d08",
   "metadata": {},
   "source": [
    "Get clustermap for usecase"
   ]
  },
  {
   "cell_type": "code",
   "execution_count": 25,
   "id": "6590a167",
   "metadata": {},
   "outputs": [],
   "source": [
    "## All plants having the chemical Reserpine\n",
    "plants_of_interest = [\n",
    "    'Angelica gigas', \n",
    "    'Angelica sinensis'\n",
    "]"
   ]
  },
  {
   "cell_type": "code",
   "execution_count": 26,
   "id": "b8338eca",
   "metadata": {},
   "outputs": [
    {
     "data": {
      "image/png": "[encoded data removed]",
      "text/plain": [
       "<Figure size 720x720 with 3 Axes>"
      ]
     },
     "metadata": {
      "needs_background": "light"
     },
     "output_type": "display_data"
    }
   ],
   "source": [
    "create_cluster(example_2_chemical_matrix, plants_of_interest, 'Angelica', '7_C')"
   ]
  },
  {
   "cell_type": "code",
   "execution_count": null,
   "id": "b3069816",
   "metadata": {},
   "outputs": [],
   "source": []
  }
 ],
 "metadata": {
  "kernelspec": {
   "display_name": "kg-sources",
   "language": "python",
   "name": "kg-sources"
  },
  "language_info": {
   "codemirror_mode": {
    "name": "ipython",
    "version": 3
   },
   "file_extension": ".py",
   "mimetype": "text/x-python",
   "name": "python",
   "nbconvert_exporter": "python",
   "pygments_lexer": "ipython3",
   "version": "3.9.12"
  }
 },
 "nbformat": 4,
 "nbformat_minor": 5
}
