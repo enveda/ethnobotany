{
 "cells": [
  {
   "cell_type": "markdown",
   "metadata": {
    "pycharm": {
     "name": "#%% md\n"
    }
   },
   "source": [
    "# Investigating the correlation between plant pairs (related by genus) and their growth conditions \n",
    "\n",
    "### Import modules"
   ]
  },
  {
   "cell_type": "code",
   "execution_count": 1,
   "metadata": {
    "pycharm": {
     "name": "#%%\n"
    }
   },
   "outputs": [
    {
     "name": "stderr",
     "output_type": "stream",
     "text": [
      "/Users/danieldomingo/anaconda3/lib/python3.8/site-packages/scipy/__init__.py:146: UserWarning: A NumPy version >=1.16.5 and <1.23.0 is required for this version of SciPy (detected version 1.23.4\n",
      "  warnings.warn(f\"A NumPy version >={np_minversion} and <{np_maxversion}\"\n"
     ]
    }
   ],
   "source": [
    "import logging\n",
    "from collections import defaultdict\n",
    "import json\n",
    "import pandas as pd\n",
    "from tqdm import tqdm\n",
    "\n",
    "# Viz\n",
    "import matplotlib as mpl\n",
    "import seaborn as sns\n",
    "import matplotlib.pyplot as plt\n",
    "\n",
    "import numpy as np\n",
    "from scipy.stats.stats import pearsonr  "
   ]
  },
  {
   "cell_type": "code",
   "execution_count": 2,
   "metadata": {
    "pycharm": {
     "name": "#%%\n"
    }
   },
   "outputs": [],
   "source": [
    "%matplotlib inline"
   ]
  },
  {
   "cell_type": "code",
   "execution_count": 3,
   "metadata": {
    "pycharm": {
     "name": "#%%\n"
    }
   },
   "outputs": [],
   "source": [
    "logging.disable()\n",
    "pd.options.mode.chained_assignment = None"
   ]
  },
  {
   "cell_type": "code",
   "execution_count": 4,
   "metadata": {
    "pycharm": {
     "name": "#%%\n"
    }
   },
   "outputs": [],
   "source": [
    "DATA_DIR = '../data/processed'\n",
    "MAPPING_DIR = '../data/mapping'"
   ]
  },
  {
   "cell_type": "markdown",
   "metadata": {
    "pycharm": {
     "name": "#%% md\n"
    }
   },
   "source": [
    "### Load plant-disease evidences"
   ]
  },
  {
   "cell_type": "code",
   "execution_count": 5,
   "metadata": {
    "pycharm": {
     "name": "#%%\n"
    }
   },
   "outputs": [
    {
     "data": {
      "text/plain": [
       "(10962, 4)"
      ]
     },
     "execution_count": 5,
     "metadata": {},
     "output_type": "execute_result"
    }
   ],
   "source": [
    "literature_pairs = pd.read_csv(\n",
    "    f'{DATA_DIR}/literature_based_correlation_data.tsv.gz',\n",
    "    sep='\\t'\n",
    ")\n",
    "\n",
    "literature_pairs_genus = literature_pairs[literature_pairs['pair_type'] == 'Same genus']\n",
    "literature_pairs_genus.shape"
   ]
  },
  {
   "cell_type": "code",
   "execution_count": 6,
   "metadata": {
    "pycharm": {
     "name": "#%%\n"
    }
   },
   "outputs": [
    {
     "data": {
      "text/plain": [
       "(3533, 4)"
      ]
     },
     "execution_count": 6,
     "metadata": {},
     "output_type": "execute_result"
    }
   ],
   "source": [
    "database_pairs = pd.read_csv(\n",
    "    f'{DATA_DIR}/database_based_correlation_data.tsv.gz',\n",
    "    sep='\\t'\n",
    ")\n",
    "\n",
    "database_pairs_genus = database_pairs[database_pairs['pair_type'] == 'Same genus']\n",
    "database_pairs_genus.shape"
   ]
  },
  {
   "cell_type": "code",
   "execution_count": 7,
   "metadata": {
    "pycharm": {
     "name": "#%%\n"
    }
   },
   "outputs": [
    {
     "data": {
      "text/plain": [
       "4004"
      ]
     },
     "execution_count": 7,
     "metadata": {},
     "output_type": "execute_result"
    }
   ],
   "source": [
    "medicinal_plants_lit = set(literature_pairs_genus['plant_1'].tolist()).union(\n",
    "    literature_pairs_genus['plant_2'].tolist()\n",
    ")\n",
    "\n",
    "medicinal_plants_database = set(database_pairs_genus['plant_1'].tolist()).union(\n",
    "    database_pairs_genus['plant_2'].tolist()\n",
    ")\n",
    "\n",
    "medicinal_plants = medicinal_plants_lit.union(medicinal_plants_database)\n",
    "\n",
    "len(medicinal_plants)"
   ]
  },
  {
   "cell_type": "markdown",
   "metadata": {
    "pycharm": {
     "name": "#%% md\n"
    }
   },
   "source": [
    "### Loading plant location data"
   ]
  },
  {
   "cell_type": "code",
   "execution_count": 8,
   "metadata": {
    "pycharm": {
     "name": "#%%\n"
    }
   },
   "outputs": [],
   "source": [
    "ncbi_ids_trefle = json.load(open(f'{MAPPING_DIR}/trefle_grounding.json'))"
   ]
  },
  {
   "cell_type": "code",
   "execution_count": 9,
   "metadata": {
    "pycharm": {
     "name": "#%%\n"
    }
   },
   "outputs": [],
   "source": [
    "trefle_df = pd.read_csv(\n",
    "    '../data/raw/trefle_species_dump.csv', \n",
    "    sep='\\t', \n",
    "    usecols=[\n",
    "        'scientific_name', \n",
    "        'light', \n",
    "        'soil_nutriments',\n",
    "        'atmospheric_humidity', \n",
    "        'ph_maximum', \n",
    "        'ph_minimum',\n",
    "    ],\n",
    "    low_memory=False\n",
    ")"
   ]
  },
  {
   "cell_type": "code",
   "execution_count": 10,
   "metadata": {
    "pycharm": {
     "name": "#%%\n"
    }
   },
   "outputs": [
    {
     "data": {
      "text/html": [
       "<div>\n",
       "<style scoped>\n",
       "    .dataframe tbody tr th:only-of-type {\n",
       "        vertical-align: middle;\n",
       "    }\n",
       "\n",
       "    .dataframe tbody tr th {\n",
       "        vertical-align: top;\n",
       "    }\n",
       "\n",
       "    .dataframe thead th {\n",
       "        text-align: right;\n",
       "    }\n",
       "</style>\n",
       "<table border=\"1\" class=\"dataframe\">\n",
       "  <thead>\n",
       "    <tr style=\"text-align: right;\">\n",
       "      <th></th>\n",
       "      <th>scientific_name</th>\n",
       "      <th>light</th>\n",
       "      <th>soil_nutriments</th>\n",
       "      <th>atmospheric_humidity</th>\n",
       "      <th>ph_maximum</th>\n",
       "      <th>ph_minimum</th>\n",
       "      <th>ncbi_ids</th>\n",
       "    </tr>\n",
       "  </thead>\n",
       "  <tbody>\n",
       "    <tr>\n",
       "      <th>0</th>\n",
       "      <td>Abies balsamea</td>\n",
       "      <td>7.0</td>\n",
       "      <td>5.0</td>\n",
       "      <td>5.0</td>\n",
       "      <td>6.0</td>\n",
       "      <td>4.0</td>\n",
       "      <td>ncbitaxon:90345</td>\n",
       "    </tr>\n",
       "    <tr>\n",
       "      <th>4</th>\n",
       "      <td>Abies grandis</td>\n",
       "      <td>7.0</td>\n",
       "      <td>5.0</td>\n",
       "      <td>6.0</td>\n",
       "      <td>7.5</td>\n",
       "      <td>4.5</td>\n",
       "      <td>ncbitaxon:46611</td>\n",
       "    </tr>\n",
       "    <tr>\n",
       "      <th>29</th>\n",
       "      <td>Abutilon theophrasti</td>\n",
       "      <td>8.0</td>\n",
       "      <td>6.0</td>\n",
       "      <td>4.0</td>\n",
       "      <td>8.0</td>\n",
       "      <td>7.5</td>\n",
       "      <td>ncbitaxon:3631</td>\n",
       "    </tr>\n",
       "  </tbody>\n",
       "</table>\n",
       "</div>"
      ],
      "text/plain": [
       "         scientific_name  light  soil_nutriments  atmospheric_humidity  \\\n",
       "0         Abies balsamea    7.0              5.0                   5.0   \n",
       "4          Abies grandis    7.0              5.0                   6.0   \n",
       "29  Abutilon theophrasti    8.0              6.0                   4.0   \n",
       "\n",
       "    ph_maximum  ph_minimum         ncbi_ids  \n",
       "0          6.0         4.0  ncbitaxon:90345  \n",
       "4          7.5         4.5  ncbitaxon:46611  \n",
       "29         8.0         7.5   ncbitaxon:3631  "
      ]
     },
     "execution_count": 10,
     "metadata": {},
     "output_type": "execute_result"
    }
   ],
   "source": [
    "# Fix scientific names and drop subspecies\n",
    "trefle_df['scientific_name'] = trefle_df['scientific_name'].str.replace('?', '')\n",
    "\n",
    "trefle_df['ncbi_ids'] = trefle_df['scientific_name'].map(lambda x: ncbi_ids_trefle[x][0])\n",
    "trefle_df = trefle_df[trefle_df['ncbi_ids'].isin(medicinal_plants)]\n",
    "trefle_df.head(3)"
   ]
  },
  {
   "cell_type": "code",
   "execution_count": 11,
   "metadata": {
    "pycharm": {
     "name": "#%%\n"
    }
   },
   "outputs": [],
   "source": [
    "trefle_df.dropna(how='any', inplace=True)"
   ]
  },
  {
   "cell_type": "code",
   "execution_count": 12,
   "metadata": {
    "pycharm": {
     "name": "#%%\n"
    }
   },
   "outputs": [],
   "source": [
    "## Blacklist -- removal of subspecies or incorrect names from database list\n",
    "blacklist = [\n",
    "    'Cardamine pratensis subsp. paludosa',\n",
    "    'Cardamine pratensis subsp. matthioli',\n",
    "    'Quercus robur subsp. robur',\n",
    "    'Melilotus indica',\n",
    "    'Lotus corniculatus subsp. corniculatus',\n",
    "    'Dactylorhiza incarnata subsp. incarnata',\n",
    "    'Raphanus raphanistrum subsp. sativus',\n",
    "    'Xanthium strumarium subsp. brasilicum',\n",
    "    'Centaurea solstitialis subsp. solstitialis',\n",
    "    'Salicornia europaea subsp. disarticulata',\n",
    "    'Carex capillaris subsp. capillaris'\n",
    "]\n",
    "\n",
    "trefle_df = trefle_df[~trefle_df['scientific_name'].isin(blacklist)]"
   ]
  },
  {
   "cell_type": "code",
   "execution_count": 13,
   "metadata": {
    "pycharm": {
     "name": "#%%\n"
    }
   },
   "outputs": [
    {
     "data": {
      "text/html": [
       "<div>\n",
       "<style scoped>\n",
       "    .dataframe tbody tr th:only-of-type {\n",
       "        vertical-align: middle;\n",
       "    }\n",
       "\n",
       "    .dataframe tbody tr th {\n",
       "        vertical-align: top;\n",
       "    }\n",
       "\n",
       "    .dataframe thead th {\n",
       "        text-align: right;\n",
       "    }\n",
       "</style>\n",
       "<table border=\"1\" class=\"dataframe\">\n",
       "  <thead>\n",
       "    <tr style=\"text-align: right;\">\n",
       "      <th></th>\n",
       "      <th>scientific_name</th>\n",
       "      <th>light</th>\n",
       "      <th>soil_nutriments</th>\n",
       "      <th>atmospheric_humidity</th>\n",
       "      <th>ph_maximum</th>\n",
       "      <th>ph_minimum</th>\n",
       "      <th>ncbi_ids</th>\n",
       "    </tr>\n",
       "  </thead>\n",
       "  <tbody>\n",
       "    <tr>\n",
       "      <th>0</th>\n",
       "      <td>Abies balsamea</td>\n",
       "      <td>7.0</td>\n",
       "      <td>5.0</td>\n",
       "      <td>5.0</td>\n",
       "      <td>6.0</td>\n",
       "      <td>4.0</td>\n",
       "      <td>ncbitaxon:90345</td>\n",
       "    </tr>\n",
       "    <tr>\n",
       "      <th>4</th>\n",
       "      <td>Abies grandis</td>\n",
       "      <td>7.0</td>\n",
       "      <td>5.0</td>\n",
       "      <td>6.0</td>\n",
       "      <td>7.5</td>\n",
       "      <td>4.5</td>\n",
       "      <td>ncbitaxon:46611</td>\n",
       "    </tr>\n",
       "  </tbody>\n",
       "</table>\n",
       "</div>"
      ],
      "text/plain": [
       "  scientific_name  light  soil_nutriments  atmospheric_humidity  ph_maximum  \\\n",
       "0  Abies balsamea    7.0              5.0                   5.0         6.0   \n",
       "4   Abies grandis    7.0              5.0                   6.0         7.5   \n",
       "\n",
       "   ph_minimum         ncbi_ids  \n",
       "0         4.0  ncbitaxon:90345  \n",
       "4         4.5  ncbitaxon:46611  "
      ]
     },
     "execution_count": 13,
     "metadata": {},
     "output_type": "execute_result"
    }
   ],
   "source": [
    "trefle_df.head(2)"
   ]
  },
  {
   "cell_type": "code",
   "execution_count": 14,
   "metadata": {
    "pycharm": {
     "name": "#%%\n"
    }
   },
   "outputs": [
    {
     "data": {
      "text/plain": [
       "518"
      ]
     },
     "execution_count": 14,
     "metadata": {},
     "output_type": "execute_result"
    }
   ],
   "source": [
    "plants_with_info = set(trefle_df['ncbi_ids'].tolist())\n",
    "len(plants_with_info)"
   ]
  },
  {
   "cell_type": "code",
   "execution_count": 15,
   "metadata": {
    "pycharm": {
     "name": "#%%\n"
    }
   },
   "outputs": [
    {
     "data": {
      "text/plain": [
       "(518, 7)"
      ]
     },
     "execution_count": 15,
     "metadata": {},
     "output_type": "execute_result"
    }
   ],
   "source": [
    "trefle_df.shape"
   ]
  },
  {
   "cell_type": "markdown",
   "metadata": {
    "pycharm": {
     "name": "#%% md\n"
    }
   },
   "source": [
    "## Clustering with respect to diseases"
   ]
  },
  {
   "cell_type": "code",
   "execution_count": 16,
   "metadata": {
    "pycharm": {
     "name": "#%%\n"
    }
   },
   "outputs": [],
   "source": [
    "plant_chemical_df = pd.read_csv(\n",
    "    f'{DATA_DIR}/plant_chemical_associations.tsv.zip',\n",
    "    sep='\\t',\n",
    "    compression='zip',\n",
    "    low_memory=False,\n",
    ")\n",
    "\n",
    "## Drop plants that do not have the respective plant information\n",
    "plant_chemical_df = plant_chemical_df[plant_chemical_df.plant_curie.isin(plants_with_info)]"
   ]
  },
  {
   "cell_type": "markdown",
   "metadata": {
    "pycharm": {
     "name": "#%% md\n"
    }
   },
   "source": [
    "## Clustering with respect to chemicals"
   ]
  },
  {
   "cell_type": "code",
   "execution_count": 17,
   "metadata": {
    "pycharm": {
     "name": "#%%\n"
    }
   },
   "outputs": [
    {
     "data": {
      "text/html": [
       "<div>\n",
       "<style scoped>\n",
       "    .dataframe tbody tr th:only-of-type {\n",
       "        vertical-align: middle;\n",
       "    }\n",
       "\n",
       "    .dataframe tbody tr th {\n",
       "        vertical-align: top;\n",
       "    }\n",
       "\n",
       "    .dataframe thead th {\n",
       "        text-align: right;\n",
       "    }\n",
       "</style>\n",
       "<table border=\"1\" class=\"dataframe\">\n",
       "  <thead>\n",
       "    <tr style=\"text-align: right;\">\n",
       "      <th></th>\n",
       "      <th>ncbitaxon:101996</th>\n",
       "      <th>ncbitaxon:103355</th>\n",
       "      <th>ncbitaxon:105884</th>\n",
       "      <th>ncbitaxon:1060938</th>\n",
       "      <th>ncbitaxon:113202</th>\n",
       "      <th>ncbitaxon:113538</th>\n",
       "      <th>ncbitaxon:113636</th>\n",
       "      <th>ncbitaxon:114937</th>\n",
       "      <th>ncbitaxon:121718</th>\n",
       "      <th>ncbitaxon:123597</th>\n",
       "      <th>...</th>\n",
       "      <th>ncbitaxon:84009</th>\n",
       "      <th>ncbitaxon:86306</th>\n",
       "      <th>ncbitaxon:89585</th>\n",
       "      <th>ncbitaxon:90345</th>\n",
       "      <th>ncbitaxon:90364</th>\n",
       "      <th>ncbitaxon:90446</th>\n",
       "      <th>ncbitaxon:91242</th>\n",
       "      <th>ncbitaxon:93026</th>\n",
       "      <th>ncbitaxon:93692</th>\n",
       "      <th>ncbitaxon:97307</th>\n",
       "    </tr>\n",
       "  </thead>\n",
       "  <tbody>\n",
       "    <tr>\n",
       "      <th>pubchem.compound:415565</th>\n",
       "      <td>0</td>\n",
       "      <td>0</td>\n",
       "      <td>0</td>\n",
       "      <td>0</td>\n",
       "      <td>0</td>\n",
       "      <td>0</td>\n",
       "      <td>0</td>\n",
       "      <td>0</td>\n",
       "      <td>0</td>\n",
       "      <td>0</td>\n",
       "      <td>...</td>\n",
       "      <td>0</td>\n",
       "      <td>0</td>\n",
       "      <td>0</td>\n",
       "      <td>0</td>\n",
       "      <td>0</td>\n",
       "      <td>0</td>\n",
       "      <td>0</td>\n",
       "      <td>0</td>\n",
       "      <td>0</td>\n",
       "      <td>0</td>\n",
       "    </tr>\n",
       "    <tr>\n",
       "      <th>pubchem.compound:348157</th>\n",
       "      <td>0</td>\n",
       "      <td>0</td>\n",
       "      <td>0</td>\n",
       "      <td>0</td>\n",
       "      <td>0</td>\n",
       "      <td>0</td>\n",
       "      <td>0</td>\n",
       "      <td>0</td>\n",
       "      <td>0</td>\n",
       "      <td>0</td>\n",
       "      <td>...</td>\n",
       "      <td>0</td>\n",
       "      <td>0</td>\n",
       "      <td>0</td>\n",
       "      <td>0</td>\n",
       "      <td>0</td>\n",
       "      <td>0</td>\n",
       "      <td>0</td>\n",
       "      <td>0</td>\n",
       "      <td>0</td>\n",
       "      <td>0</td>\n",
       "    </tr>\n",
       "  </tbody>\n",
       "</table>\n",
       "<p>2 rows × 452 columns</p>\n",
       "</div>"
      ],
      "text/plain": [
       "                         ncbitaxon:101996  ncbitaxon:103355  ncbitaxon:105884  \\\n",
       "pubchem.compound:415565                 0                 0                 0   \n",
       "pubchem.compound:348157                 0                 0                 0   \n",
       "\n",
       "                         ncbitaxon:1060938  ncbitaxon:113202  \\\n",
       "pubchem.compound:415565                  0                 0   \n",
       "pubchem.compound:348157                  0                 0   \n",
       "\n",
       "                         ncbitaxon:113538  ncbitaxon:113636  ncbitaxon:114937  \\\n",
       "pubchem.compound:415565                 0                 0                 0   \n",
       "pubchem.compound:348157                 0                 0                 0   \n",
       "\n",
       "                         ncbitaxon:121718  ncbitaxon:123597  ...  \\\n",
       "pubchem.compound:415565                 0                 0  ...   \n",
       "pubchem.compound:348157                 0                 0  ...   \n",
       "\n",
       "                         ncbitaxon:84009  ncbitaxon:86306  ncbitaxon:89585  \\\n",
       "pubchem.compound:415565                0                0                0   \n",
       "pubchem.compound:348157                0                0                0   \n",
       "\n",
       "                         ncbitaxon:90345  ncbitaxon:90364  ncbitaxon:90446  \\\n",
       "pubchem.compound:415565                0                0                0   \n",
       "pubchem.compound:348157                0                0                0   \n",
       "\n",
       "                         ncbitaxon:91242  ncbitaxon:93026  ncbitaxon:93692  \\\n",
       "pubchem.compound:415565                0                0                0   \n",
       "pubchem.compound:348157                0                0                0   \n",
       "\n",
       "                         ncbitaxon:97307  \n",
       "pubchem.compound:415565                0  \n",
       "pubchem.compound:348157                0  \n",
       "\n",
       "[2 rows x 452 columns]"
      ]
     },
     "execution_count": 17,
     "metadata": {},
     "output_type": "execute_result"
    }
   ],
   "source": [
    "plant_chemical_matrix = pd.DataFrame(\n",
    "    0, \n",
    "    index=plant_chemical_df.chemical_curie.unique(),\n",
    "    columns=plant_chemical_df.plant_curie.unique(),\n",
    ")\n",
    "\n",
    "plant_chemical_matrix.head(2)"
   ]
  },
  {
   "cell_type": "code",
   "execution_count": 30,
   "metadata": {
    "pycharm": {
     "name": "#%%\n"
    }
   },
   "outputs": [
    {
     "name": "stderr",
     "output_type": "stream",
     "text": [
      "100%|██████████| 27783/27783 [00:03<00:00, 8911.54it/s]\n"
     ]
    }
   ],
   "source": [
    "for plant_curie, chemical_curie in tqdm(plant_chemical_df[['plant_curie', 'chemical_curie']].values):    \n",
    "    plant_chemical_matrix.loc[chemical_curie, plant_curie] = 1"
   ]
  },
  {
   "cell_type": "code",
   "execution_count": 31,
   "metadata": {
    "pycharm": {
     "name": "#%%\n"
    }
   },
   "outputs": [
    {
     "data": {
      "text/plain": [
       "(13164, 452)"
      ]
     },
     "execution_count": 31,
     "metadata": {},
     "output_type": "execute_result"
    }
   ],
   "source": [
    "plant_chemical_matrix.shape"
   ]
  },
  {
   "cell_type": "code",
   "execution_count": 32,
   "metadata": {},
   "outputs": [],
   "source": [
    "plant_chemical_similarity_matrix = plant_chemical_matrix.corr()"
   ]
  },
  {
   "cell_type": "code",
   "execution_count": 33,
   "metadata": {},
   "outputs": [
    {
     "data": {
      "text/plain": [
       "(452, 452)"
      ]
     },
     "execution_count": 33,
     "metadata": {},
     "output_type": "execute_result"
    }
   ],
   "source": [
    "plant_chemical_similarity_matrix.shape"
   ]
  },
  {
   "cell_type": "code",
   "execution_count": 35,
   "metadata": {
    "pycharm": {
     "name": "#%%\n"
    }
   },
   "outputs": [],
   "source": [
    "plant_climatic_matrix = trefle_df[[\n",
    "    'ncbi_ids',\n",
    "    'light',\n",
    "    'soil_nutriments',\n",
    "    'atmospheric_humidity',\n",
    "    'ph_maximum',\n",
    "    'ph_minimum',\n",
    "]]\n",
    "\n",
    "plant_climatic_matrix.set_index('ncbi_ids', inplace=True)\n",
    "\n",
    "#Look at the union of plants (plants with chemicals and also climatic info)\n",
    "keep_rows = plant_climatic_matrix.index.isin(plant_chemical_similarity_matrix.index)\n",
    "\n",
    "plant_climatic_matrix = plant_climatic_matrix[keep_rows]"
   ]
  },
  {
   "cell_type": "code",
   "execution_count": 36,
   "metadata": {},
   "outputs": [],
   "source": [
    "assert plant_climatic_matrix.shape[0] == plant_chemical_similarity_matrix.shape[0], 'error with matrix size'"
   ]
  },
  {
   "cell_type": "code",
   "execution_count": 37,
   "metadata": {},
   "outputs": [],
   "source": [
    "plant_climatic_similarity_matrix = plant_climatic_matrix.T.corr()"
   ]
  },
  {
   "cell_type": "code",
   "execution_count": 38,
   "metadata": {},
   "outputs": [
    {
     "data": {
      "text/plain": [
       "(452, 452)"
      ]
     },
     "execution_count": 38,
     "metadata": {},
     "output_type": "execute_result"
    }
   ],
   "source": [
    "plant_climatic_similarity_matrix.shape"
   ]
  },
  {
   "cell_type": "code",
   "execution_count": 39,
   "metadata": {},
   "outputs": [],
   "source": [
    "average_correlation = []\n",
    "\n",
    "for index in plant_climatic_similarity_matrix.index:\n",
    "    \n",
    "    climatic_vector = plant_climatic_similarity_matrix[index]\n",
    "    chemical_vector = plant_chemical_similarity_matrix[index]\n",
    "    \n",
    "    corr, _ = pearsonr(climatic_vector, chemical_vector)\n",
    "    \n",
    "    average_correlation.append(corr)"
   ]
  },
  {
   "cell_type": "code",
   "execution_count": 40,
   "metadata": {},
   "outputs": [
    {
     "data": {
      "text/plain": [
       "-0.004500335399145856"
      ]
     },
     "execution_count": 40,
     "metadata": {},
     "output_type": "execute_result"
    }
   ],
   "source": [
    "np.mean(average_correlation)"
   ]
  },
  {
   "cell_type": "code",
   "execution_count": 41,
   "metadata": {},
   "outputs": [
    {
     "name": "stderr",
     "output_type": "stream",
     "text": [
      "/Users/danieldomingo/anaconda3/lib/python3.8/site-packages/seaborn/distributions.py:2557: FutureWarning: `distplot` is a deprecated function and will be removed in a future version. Please adapt your code to use either `displot` (a figure-level function with similar flexibility) or `histplot` (an axes-level function for histograms).\n",
      "  warnings.warn(msg, FutureWarning)\n"
     ]
    },
    {
     "data": {
      "text/plain": [
       "<AxesSubplot:ylabel='Density'>"
      ]
     },
     "execution_count": 41,
     "metadata": {},
     "output_type": "execute_result"
    },
    {
     "data": {
      "image/png": "[encoded data removed]",
      "text/plain": [
       "<Figure size 432x288 with 1 Axes>"
      ]
     },
     "metadata": {
      "needs_background": "light"
     },
     "output_type": "display_data"
    }
   ],
   "source": [
    "sns.distplot(average_correlation)"
   ]
  },
  {
   "cell_type": "code",
   "execution_count": null,
   "metadata": {},
   "outputs": [],
   "source": []
  }
 ],
 "metadata": {
  "kernelspec": {
   "display_name": "Python 3",
   "language": "python",
   "name": "python3"
  },
  "language_info": {
   "codemirror_mode": {
    "name": "ipython",
    "version": 3
   },
   "file_extension": ".py",
   "mimetype": "text/x-python",
   "name": "python",
   "nbconvert_exporter": "python",
   "pygments_lexer": "ipython3",
   "version": "3.8.3"
  }
 },
 "nbformat": 4,
 "nbformat_minor": 5
}
