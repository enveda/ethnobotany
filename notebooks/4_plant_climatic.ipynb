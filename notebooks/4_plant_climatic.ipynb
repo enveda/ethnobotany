{
 "cells": [
  {
   "cell_type": "markdown",
   "metadata": {
    "pycharm": {
     "name": "#%% md\n"
    }
   },
   "source": [
    "# Investigating the correlation between ethnobonical usage at climatically-related species\n",
    "\n",
    "### Import modules"
   ]
  },
  {
   "cell_type": "code",
   "execution_count": 1,
   "metadata": {
    "pycharm": {
     "name": "#%%\n"
    }
   },
   "outputs": [
    {
     "name": "stderr",
     "output_type": "stream",
     "text": [
      "/Users/danieldomingo/anaconda3/lib/python3.8/site-packages/scipy/__init__.py:146: UserWarning: A NumPy version >=1.16.5 and <1.23.0 is required for this version of SciPy (detected version 1.23.4\n",
      "  warnings.warn(f\"A NumPy version >={np_minversion} and <{np_maxversion}\"\n"
     ]
    }
   ],
   "source": [
    "from collections import defaultdict\n",
    "from itertools import combinations\n",
    "import random\n",
    "\n",
    "import logging\n",
    "import pandas as pd\n",
    "from tqdm import tqdm\n",
    "    \n",
    "# Stats\n",
    "from scipy.stats import mannwhitneyu\n",
    "from scipy.stats import pearsonr\n",
    "from statannot import add_stat_annotation\n",
    "\n",
    "# Viz\n",
    "import matplotlib as mpl\n",
    "import seaborn as sns\n",
    "import matplotlib.pyplot as plt"
   ]
  },
  {
   "cell_type": "code",
   "execution_count": 2,
   "metadata": {
    "pycharm": {
     "name": "#%%\n"
    }
   },
   "outputs": [],
   "source": [
    "%matplotlib inline"
   ]
  },
  {
   "cell_type": "code",
   "execution_count": 3,
   "metadata": {
    "pycharm": {
     "name": "#%%\n"
    }
   },
   "outputs": [],
   "source": [
    "logging.disable()\n",
    "pd.options.mode.chained_assignment = None"
   ]
  },
  {
   "cell_type": "code",
   "execution_count": 4,
   "metadata": {
    "pycharm": {
     "name": "#%%\n"
    }
   },
   "outputs": [],
   "source": [
    "DATA_DIR = '../data/processed'"
   ]
  },
  {
   "cell_type": "markdown",
   "metadata": {
    "pycharm": {
     "name": "#%% md\n"
    }
   },
   "source": [
    "### Load plant-disease evidences"
   ]
  },
  {
   "cell_type": "code",
   "execution_count": 5,
   "metadata": {
    "pycharm": {
     "name": "#%%\n"
    }
   },
   "outputs": [],
   "source": [
    "collapsed_plant_disease_df = pd.read_csv(\n",
    "    f'{DATA_DIR}/plant_disease_collapsed.tsv.gz',\n",
    "    compression='gzip',\n",
    "    sep='\\t',\n",
    "    low_memory=False\n",
    ")"
   ]
  },
  {
   "cell_type": "code",
   "execution_count": 6,
   "metadata": {
    "pycharm": {
     "name": "#%%\n"
    }
   },
   "outputs": [
    {
     "data": {
      "text/plain": [
       "((129539, 5), 4413)"
      ]
     },
     "execution_count": 6,
     "metadata": {},
     "output_type": "execute_result"
    }
   ],
   "source": [
    "literature_data = collapsed_plant_disease_df[\n",
    "    collapsed_plant_disease_df['database'] == 'bern2'\n",
    "]\n",
    "\n",
    "plant_lit_ids = set(literature_data['plant_curie'].to_list())\n",
    "\n",
    "literature_data.shape, len(plant_lit_ids)"
   ]
  },
  {
   "cell_type": "code",
   "execution_count": 7,
   "metadata": {
    "pycharm": {
     "name": "#%%\n"
    }
   },
   "outputs": [
    {
     "data": {
      "text/plain": [
       "((43163, 5), 2338)"
      ]
     },
     "execution_count": 7,
     "metadata": {},
     "output_type": "execute_result"
    }
   ],
   "source": [
    "database_data = collapsed_plant_disease_df[\n",
    "    collapsed_plant_disease_df['database'] != 'bern2'\n",
    "]\n",
    "\n",
    "plant_db_ids = set(database_data['plant_curie'].to_list())\n",
    "\n",
    "database_data.shape, len(plant_db_ids)"
   ]
  },
  {
   "cell_type": "code",
   "execution_count": 8,
   "metadata": {
    "pycharm": {
     "name": "#%%\n"
    }
   },
   "outputs": [
    {
     "data": {
      "text/plain": [
       "5636"
      ]
     },
     "execution_count": 8,
     "metadata": {},
     "output_type": "execute_result"
    }
   ],
   "source": [
    "# Total plant count\n",
    "len(plant_lit_ids.union(plant_db_ids))"
   ]
  },
  {
   "cell_type": "markdown",
   "metadata": {
    "pycharm": {
     "name": "#%% md\n"
    }
   },
   "source": [
    "### Get climatic clustering for medicinal plants"
   ]
  },
  {
   "cell_type": "code",
   "execution_count": 11,
   "metadata": {
    "pycharm": {
     "name": "#%%\n"
    }
   },
   "outputs": [],
   "source": [
    "climatic_areas_by_plant_df = pd.read_csv(\n",
    "    f'../data/mapping/trydb_climatic.tsv',\n",
    "    sep='\\t'\n",
    ")"
   ]
  },
  {
   "cell_type": "code",
   "execution_count": 12,
   "metadata": {},
   "outputs": [
    {
     "data": {
      "text/html": [
       "<div>\n",
       "<style scoped>\n",
       "    .dataframe tbody tr th:only-of-type {\n",
       "        vertical-align: middle;\n",
       "    }\n",
       "\n",
       "    .dataframe tbody tr th {\n",
       "        vertical-align: top;\n",
       "    }\n",
       "\n",
       "    .dataframe thead th {\n",
       "        text-align: right;\n",
       "    }\n",
       "</style>\n",
       "<table border=\"1\" class=\"dataframe\">\n",
       "  <thead>\n",
       "    <tr style=\"text-align: right;\">\n",
       "      <th></th>\n",
       "      <th>name</th>\n",
       "      <th>ncbi</th>\n",
       "      <th>Continental</th>\n",
       "      <th>Mediterranean</th>\n",
       "      <th>Mountains, NOT ALPINE, ARCTIC, SUBARCTIC, OR SUBALPINE</th>\n",
       "      <th>Arctic/Alpine</th>\n",
       "      <th>Subarctic/Subalpine/Boreal/Subantarctcic/Austral</th>\n",
       "      <th>Temperate</th>\n",
       "      <th>Subropical</th>\n",
       "      <th>Tropical</th>\n",
       "      <th>...</th>\n",
       "      <th>Altitude_value</th>\n",
       "      <th>Mean temperature during growth season_value</th>\n",
       "      <th>Number of floristic zones_value</th>\n",
       "      <th>Annual precipitation_value</th>\n",
       "      <th>pH, Minimum_value</th>\n",
       "      <th>pH, Maximum_value</th>\n",
       "      <th>Growth temperature_value</th>\n",
       "      <th>Treatment light_value</th>\n",
       "      <th>Temperature of coldest month at origin (mean or max)_value</th>\n",
       "      <th>Temperature of warmest month at origin (mean or max)_value</th>\n",
       "    </tr>\n",
       "  </thead>\n",
       "  <tbody>\n",
       "    <tr>\n",
       "      <th>0</th>\n",
       "      <td>Acacia auriculiformis</td>\n",
       "      <td>ncbitaxon:205027</td>\n",
       "      <td>1</td>\n",
       "      <td>0</td>\n",
       "      <td>0</td>\n",
       "      <td>0</td>\n",
       "      <td>0</td>\n",
       "      <td>0</td>\n",
       "      <td>0</td>\n",
       "      <td>0</td>\n",
       "      <td>...</td>\n",
       "      <td>31</td>\n",
       "      <td>27.308333</td>\n",
       "      <td>NaN</td>\n",
       "      <td>NaN</td>\n",
       "      <td>NaN</td>\n",
       "      <td>NaN</td>\n",
       "      <td>NaN</td>\n",
       "      <td>NaN</td>\n",
       "      <td>NaN</td>\n",
       "      <td>NaN</td>\n",
       "    </tr>\n",
       "  </tbody>\n",
       "</table>\n",
       "<p>1 rows × 30 columns</p>\n",
       "</div>"
      ],
      "text/plain": [
       "                    name              ncbi  Continental  Mediterranean  \\\n",
       "0  Acacia auriculiformis  ncbitaxon:205027            1              0   \n",
       "\n",
       "   Mountains, NOT ALPINE, ARCTIC, SUBARCTIC, OR SUBALPINE  Arctic/Alpine  \\\n",
       "0                                                  0                   0   \n",
       "\n",
       "   Subarctic/Subalpine/Boreal/Subantarctcic/Austral  Temperate  Subropical  \\\n",
       "0                                                 0          0           0   \n",
       "\n",
       "   Tropical  ...  Altitude_value  Mean temperature during growth season_value  \\\n",
       "0         0  ...              31                                    27.308333   \n",
       "\n",
       "  Number of floristic zones_value Annual precipitation_value  \\\n",
       "0                             NaN                        NaN   \n",
       "\n",
       "   pH, Minimum_value pH, Maximum_value Growth temperature_value  \\\n",
       "0                NaN               NaN                      NaN   \n",
       "\n",
       "  Treatment light_value  \\\n",
       "0                   NaN   \n",
       "\n",
       "   Temperature of coldest month at origin (mean or max)_value  \\\n",
       "0                                                NaN            \n",
       "\n",
       "   Temperature of warmest month at origin (mean or max)_value  \n",
       "0                                                NaN           \n",
       "\n",
       "[1 rows x 30 columns]"
      ]
     },
     "execution_count": 12,
     "metadata": {},
     "output_type": "execute_result"
    }
   ],
   "source": [
    "climatic_areas_by_plant_df.head(1)"
   ]
  },
  {
   "cell_type": "code",
   "execution_count": null,
   "metadata": {},
   "outputs": [],
   "source": []
  },
  {
   "cell_type": "code",
   "execution_count": null,
   "metadata": {},
   "outputs": [],
   "source": []
  },
  {
   "cell_type": "code",
   "execution_count": null,
   "metadata": {
    "pycharm": {
     "name": "#%%\n"
    }
   },
   "outputs": [],
   "source": [
    "disease_vector = set(collapsed_plant_disease_df['disease_curie'].to_list())\n",
    "len(disease_vector)"
   ]
  },
  {
   "cell_type": "markdown",
   "metadata": {
    "pycharm": {
     "name": "#%% md\n"
    }
   },
   "source": [
    "### Prepare plant-disease dicts"
   ]
  },
  {
   "cell_type": "code",
   "execution_count": null,
   "metadata": {
    "pycharm": {
     "name": "#%%\n"
    }
   },
   "outputs": [],
   "source": [
    "def get_non_binary_dict(df:pd.DataFrame):\n",
    "    \"\"\"Get plant-disease data dictionary based on citation counts\"\"\"\n",
    "    \n",
    "    non_binary_dict = {}\n",
    "        \n",
    "    for plant_curie, disease_curie, evidence in tqdm(\n",
    "        df[['plant_curie', 'disease_curie', 'evidence']].values\n",
    "    ):\n",
    "        pmid = evidence.split('_')[0]\n",
    "\n",
    "        if plant_curie not in non_binary_dict:\n",
    "            non_binary_dict[plant_curie] = defaultdict(set)\n",
    "\n",
    "        non_binary_dict[plant_curie][disease_curie].add(pmid)\n",
    "    return non_binary_dict"
   ]
  },
  {
   "cell_type": "code",
   "execution_count": null,
   "metadata": {
    "pycharm": {
     "name": "#%%\n"
    },
    "scrolled": true
   },
   "outputs": [],
   "source": [
    "disease_literature_non_binary_dict = get_non_binary_dict(literature_data)"
   ]
  },
  {
   "cell_type": "code",
   "execution_count": null,
   "metadata": {
    "pycharm": {
     "name": "#%%\n"
    }
   },
   "outputs": [],
   "source": [
    "disease_db_non_binary_dict = get_non_binary_dict(database_data)"
   ]
  },
  {
   "cell_type": "markdown",
   "metadata": {
    "pycharm": {
     "name": "#%% md\n"
    }
   },
   "source": [
    "### Calculate chemical similarity for plants in the same genus or family"
   ]
  },
  {
   "cell_type": "code",
   "execution_count": null,
   "metadata": {
    "pycharm": {
     "name": "#%%\n"
    }
   },
   "outputs": [],
   "source": [
    "def calculate_pearson(plant_1, plant_2, species_to_vectors):\n",
    "    \"\"\"Calculate pearson coeffiencient.\"\"\"\n",
    "    diseases_plant_1_dict = species_to_vectors[plant_1]\n",
    "    diseases_plant_2_dict = species_to_vectors[plant_2]\n",
    "    \n",
    "    elements_in_plant_1 = []\n",
    "    elements_in_plant_2 = []\n",
    "    \n",
    "    for disease in disease_vector:\n",
    "        if disease in diseases_plant_1_dict:\n",
    "            elements_in_plant_1.append(len(diseases_plant_1_dict[disease]))\n",
    "        else:\n",
    "            elements_in_plant_1.append(0)\n",
    "            \n",
    "        if disease in diseases_plant_1_dict:\n",
    "            elements_in_plant_2.append(len(diseases_plant_2_dict[disease]))\n",
    "        else:\n",
    "            elements_in_plant_2.append(0)\n",
    "    try:\n",
    "        corr = pearsonr(elements_in_plant_1, elements_in_plant_2)\n",
    "    except:\n",
    "        corr = None, None\n",
    "    \n",
    "    return corr\n",
    "\n",
    "\n",
    "def calculate_overlap_for_taxa_level(\n",
    "    taxonomy_dict,\n",
    "    species_to_disease_dict,\n",
    "    pair_type,\n",
    "):\n",
    "    similarity_list = []\n",
    "    skipped = 0\n",
    "    \n",
    "    for _, species in tqdm(\n",
    "        taxonomy_dict.items(),\n",
    "        desc='calculating similarity...',\n",
    "        total=len(taxonomy_dict),\n",
    "    ):\n",
    "        # Not enough species to calculate similarity\n",
    "        if len(species) <= 1:\n",
    "            skipped += 1\n",
    "            continue\n",
    "                        \n",
    "        for plant_1, plant_2 in combinations(species, 2):\n",
    "            \n",
    "            if (\n",
    "                plant_1 not in species_to_disease_dict or \n",
    "                plant_2 not in species_to_disease_dict\n",
    "            ):\n",
    "                continue\n",
    "            \n",
    "            # pearson coefficient\n",
    "            corr_coeff, p_val = calculate_pearson(\n",
    "                plant_1, plant_2, species_to_disease_dict\n",
    "            )\n",
    "            \n",
    "            if not corr_coeff:\n",
    "                continue\n",
    "            \n",
    "            similarity_list.append({\n",
    "                'plant_1': plant_1,\n",
    "                'plant_2': plant_2,\n",
    "                'pair_type': pair_type,\n",
    "                'pearson_coefficient': corr_coeff,\n",
    "            })    \n",
    "            \n",
    "    return pd.DataFrame(similarity_list)"
   ]
  },
  {
   "cell_type": "code",
   "execution_count": null,
   "metadata": {
    "pycharm": {
     "name": "#%%\n"
    }
   },
   "outputs": [],
   "source": [
    "lit_genus_similarity = calculate_overlap_for_taxa_level(\n",
    "    taxonomy_dict=genus_to_species_lit, # genus to species\n",
    "    species_to_disease_dict=disease_literature_non_binary_dict, # plant(s) -> disease ids\n",
    "    pair_type='Same genus',\n",
    ")\n",
    "\n",
    "lit_family_similarity = calculate_overlap_for_taxa_level(\n",
    "    taxonomy_dict=family_to_species_lit, # family to species\n",
    "    species_to_disease_dict=disease_literature_non_binary_dict, # plant(s) -> disease ids\n",
    "    pair_type='Same family',\n",
    ")"
   ]
  },
  {
   "cell_type": "code",
   "execution_count": null,
   "metadata": {
    "pycharm": {
     "name": "#%%\n"
    }
   },
   "outputs": [],
   "source": [
    "db_genus_similarity = calculate_overlap_for_taxa_level(\n",
    "    taxonomy_dict=genus_to_species_db, # genus to species\n",
    "    species_to_disease_dict=disease_db_non_binary_dict, # plant(s) -> disease ids\n",
    "    pair_type='Same genus',\n",
    ")\n",
    "\n",
    "db_family_similarity = calculate_overlap_for_taxa_level(\n",
    "    taxonomy_dict=family_to_species_db, # family to species\n",
    "    species_to_disease_dict=disease_db_non_binary_dict, # plant(s) -> disease ids\n",
    "    pair_type='Same family',\n",
    ")"
   ]
  },
  {
   "cell_type": "markdown",
   "metadata": {
    "pycharm": {
     "name": "#%% md\n"
    }
   },
   "source": [
    "### Calculate disease similarity for non taxonomically related plants"
   ]
  },
  {
   "cell_type": "code",
   "execution_count": null,
   "metadata": {
    "pycharm": {
     "name": "#%%\n"
    }
   },
   "outputs": [],
   "source": [
    "def calculate_baseline_overlap(\n",
    "    all_plants,\n",
    "    family_taxonomy,\n",
    "    species_to_disease_dict,\n",
    "):\n",
    "    \"\"\"Calculate overlap (disease/chemical) for plants ensuring that they are not belonging \n",
    "    to the same family (taxonomically-related).\"\"\"\n",
    "    \n",
    "    # List to store the similarity/overlap for these non-taxonomically plants\n",
    "    similarity_list = []\n",
    "        \n",
    "    species_to_family = {\n",
    "        plant: family\n",
    "        for family, species in family_taxonomy.items()\n",
    "        for plant in species\n",
    "    }\n",
    "    \n",
    "    outdated_ids = set()\n",
    "    \n",
    "    # Ensure it is a list\n",
    "    all_plants = list(all_plants)\n",
    "    \n",
    "    while len(similarity_list) < 100000:\n",
    "        # Get two random plants\n",
    "        plant_1, plant_2 = random.choices(all_plants, k=2)\n",
    "        \n",
    "        # Plants with a wrong identifier\n",
    "        if plant_1 not in species_to_family:\n",
    "            outdated_ids.add(plant_1)\n",
    "            continue\n",
    "            \n",
    "        if plant_2 not in species_to_family:\n",
    "            outdated_ids.add(plant_2)\n",
    "            continue\n",
    "                \n",
    "        # Skip if the plants belong to the same family\n",
    "        if species_to_family[plant_1] == species_to_family[plant_2]:\n",
    "            continue  \n",
    "        \n",
    "        # pearson coefficient\n",
    "        corr_coeff, p_val = calculate_pearson(\n",
    "            plant_1, plant_2, species_to_disease_dict\n",
    "        )\n",
    "        \n",
    "        if not corr_coeff:\n",
    "            continue\n",
    "\n",
    "        similarity_list.append({\n",
    "            'plant_1': plant_1,\n",
    "            'plant_2': plant_2,\n",
    "            'pair_type': 'Random',\n",
    "            'pearson_coefficient': corr_coeff,\n",
    "        })\n",
    "            \n",
    "    return pd.DataFrame(similarity_list), outdated_ids"
   ]
  },
  {
   "cell_type": "code",
   "execution_count": null,
   "metadata": {
    "pycharm": {
     "name": "#%%\n"
    }
   },
   "outputs": [],
   "source": [
    "lit_baseline_similarity, lit_outdated_ids = calculate_baseline_overlap(\n",
    "    all_plants=plant_lit_ids,\n",
    "    family_taxonomy=family_to_species_lit,  # family to species\n",
    "    species_to_disease_dict=disease_literature_non_binary_dict, # plant(s) -> chemical ids,\n",
    ")"
   ]
  },
  {
   "cell_type": "code",
   "execution_count": null,
   "metadata": {
    "pycharm": {
     "name": "#%%\n"
    }
   },
   "outputs": [],
   "source": [
    "db_baseline_similarity, db_outdated_ids = calculate_baseline_overlap(\n",
    "    all_plants=plant_db_ids,\n",
    "    family_taxonomy=family_to_species_db,  # family to species\n",
    "    species_to_disease_dict=disease_db_non_binary_dict, # plant(s) -> chemical ids\n",
    ")"
   ]
  },
  {
   "cell_type": "code",
   "execution_count": null,
   "metadata": {
    "pycharm": {
     "name": "#%%\n"
    }
   },
   "outputs": [],
   "source": [
    "len(lit_outdated_ids), len(db_outdated_ids)"
   ]
  },
  {
   "cell_type": "code",
   "execution_count": null,
   "metadata": {
    "pycharm": {
     "name": "#%%\n"
    }
   },
   "outputs": [],
   "source": [
    "lit_merged_df = pd.concat([\n",
    "    lit_genus_similarity,\n",
    "    lit_family_similarity,\n",
    "    lit_baseline_similarity,\n",
    "])"
   ]
  },
  {
   "cell_type": "code",
   "execution_count": null,
   "metadata": {
    "pycharm": {
     "name": "#%%\n"
    }
   },
   "outputs": [],
   "source": [
    "lit_merged_df.to_csv(f'{DATA_DIR}/literature_based_correlation_data.tsv', sep='\\t', index=False)"
   ]
  },
  {
   "cell_type": "code",
   "execution_count": null,
   "metadata": {
    "pycharm": {
     "name": "#%%\n"
    }
   },
   "outputs": [],
   "source": [
    "df_merged_df = pd.concat([\n",
    "    db_genus_similarity,\n",
    "    db_family_similarity,\n",
    "    db_baseline_similarity,\n",
    "])"
   ]
  },
  {
   "cell_type": "code",
   "execution_count": null,
   "metadata": {
    "pycharm": {
     "name": "#%%\n"
    }
   },
   "outputs": [],
   "source": [
    "df_merged_df.to_csv(f'{DATA_DIR}/database_based_correlation_data.tsv', sep='\\t', index=False)"
   ]
  },
  {
   "cell_type": "markdown",
   "metadata": {
    "pycharm": {
     "name": "#%% md\n"
    }
   },
   "source": [
    "### Plant-plant pair counts"
   ]
  },
  {
   "cell_type": "code",
   "execution_count": null,
   "metadata": {
    "pycharm": {
     "name": "#%%\n"
    }
   },
   "outputs": [],
   "source": [
    "lit_genus_pairs = lit_merged_df[lit_merged_df['pair_type'] == 'Same genus']\n",
    "db_genus_pairs = df_merged_df[df_merged_df['pair_type'] == 'Same genus']\n",
    "\n",
    "# Get pairs\n",
    "lit_genus_pairs['pairs'] = lit_genus_pairs['plant_1'] + '_' + lit_genus_pairs['plant_2']\n",
    "db_genus_pairs['pairs'] = db_genus_pairs['plant_1'] + '_' + db_genus_pairs['plant_2']\n",
    "\n",
    "\n",
    "# All pairs\n",
    "lit_gpairs = set(lit_genus_pairs['pairs'].values)\n",
    "db_gpairs = set(db_genus_pairs['pairs'].values)\n",
    "\n",
    "genus_pairs = lit_gpairs.union(db_gpairs)\n",
    "len(genus_pairs), len(lit_gpairs), len(db_gpairs)"
   ]
  },
  {
   "cell_type": "code",
   "execution_count": null,
   "metadata": {
    "pycharm": {
     "name": "#%%\n"
    }
   },
   "outputs": [],
   "source": [
    "lit_fam_pairs = lit_merged_df[lit_merged_df['pair_type'] == 'Same family']\n",
    "db_fam_pairs = df_merged_df[df_merged_df['pair_type'] == 'Same family']\n",
    "\n",
    "# Get pairs\n",
    "lit_fam_pairs['pairs'] = lit_fam_pairs['plant_1'] + '_' + lit_fam_pairs['plant_2']\n",
    "db_fam_pairs['pairs'] = db_fam_pairs['plant_1'] + '_' + db_fam_pairs['plant_2']\n",
    "\n",
    "\n",
    "# All pairs\n",
    "lit_fpairs = set(lit_fam_pairs['pairs'].values)\n",
    "db_fpairs = set(db_fam_pairs['pairs'].values)\n",
    "\n",
    "fam_pairs = lit_fpairs.union(db_fpairs)\n",
    "len(fam_pairs), len(lit_fpairs), len(db_fpairs)"
   ]
  },
  {
   "cell_type": "markdown",
   "metadata": {
    "pycharm": {
     "name": "#%% md\n"
    }
   },
   "source": [
    "### Similarity plot"
   ]
  },
  {
   "cell_type": "code",
   "execution_count": null,
   "metadata": {
    "pycharm": {
     "name": "#%%\n"
    }
   },
   "outputs": [],
   "source": [
    "sns.set(context='poster')\n",
    "mpl.rcParams['figure.dpi'] = 400"
   ]
  },
  {
   "cell_type": "code",
   "execution_count": null,
   "metadata": {
    "pycharm": {
     "name": "#%%\n"
    }
   },
   "outputs": [],
   "source": [
    "fig = plt.figure(figsize=(18, 11)) \n",
    "\n",
    "ax1 = plt.subplot2grid(shape=(1,2), loc=(0,0), colspan=1)\n",
    "ax2 = plt.subplot2grid((1,2), (0,1), colspan=1)\n",
    "\n",
    "suptitle = plt.suptitle(\n",
    "    'Indication area similarity between \\ntaxonomically-close and distant medicinal plants',\n",
    "    y=0.99,\n",
    "    fontweight='bold'\n",
    ")\n",
    "\n",
    "sns.boxplot(data=lit_merged_df, x='pair_type', y='pearson_coefficient', ax=ax1)\n",
    "add_stat_annotation(\n",
    "    data=lit_merged_df,\n",
    "    x='pair_type',\n",
    "    y='pearson_coefficient',\n",
    "    ax=ax1,\n",
    "    box_pairs=[\n",
    "       (\"Same genus\", \"Same family\"), \n",
    "       (\"Same family\", \"Random\")\n",
    "    ],\n",
    "    test='Mann-Whitney',\n",
    "    text_format='star', \n",
    "    line_offset=0,\n",
    "    text_offset=0,\n",
    ")\n",
    "\n",
    "# Rotate ticks X\n",
    "ax1.xaxis.set_tick_params(rotation=45)\n",
    "\n",
    "# Avoids that 1.2 comes in the plot\n",
    "# ax1.set_ylim([-0.05, 1.19])\n",
    "\n",
    "# Set Y and X ticks\n",
    "ax1.set_ylabel(\"Pearson correlation\")\n",
    "ax1.set_xlabel(\"\")\n",
    "ax1.set_title(\"Scientific literature\", y=1.02)\n",
    "\n",
    "sns.violinplot(data=df_merged_df, x='pair_type', y='pearson_coefficient', ax=ax2)\n",
    "add_stat_annotation(\n",
    "    data=df_merged_df,\n",
    "    x='pair_type',\n",
    "    y='pearson_coefficient',\n",
    "    ax=ax2,\n",
    "    box_pairs=[\n",
    "       (\"Same genus\", \"Same family\"), \n",
    "       (\"Same family\", \"Random\")\n",
    "    ],\n",
    "    test='Mann-Whitney',\n",
    "    text_format='star', \n",
    "    line_offset=0,\n",
    "    text_offset=0,\n",
    ")\n",
    "\n",
    "# Rotate ticks X\n",
    "ax2.xaxis.set_tick_params(rotation=45)\n",
    "\n",
    "# Avoids that 1.2 comes in the plot\n",
    "# ax2.set_ylim([-0.05, 1.19])\n",
    "\n",
    "# Set Y and X ticks\n",
    "ax2.set_ylabel(\"\")\n",
    "ax2.set_xlabel(\"\")\n",
    "\n",
    "ax2.set_title(\"Ethnobotanical databases\", y=1.02)\n",
    "    \n",
    "plt.tight_layout()\n",
    "plt.savefig(\n",
    "    f'../data/figures/figure_2.png',\n",
    "    dpi=400,\n",
    "    bbox_inches='tight', \n",
    "    bbox_extra_artists=[suptitle],\n",
    ")\n",
    "plt.show()"
   ]
  },
  {
   "cell_type": "code",
   "execution_count": null,
   "metadata": {
    "pycharm": {
     "name": "#%%\n"
    }
   },
   "outputs": [],
   "source": [
    "for col in lit_merged_df.pair_type.unique():\n",
    "    info = lit_merged_df[lit_merged_df.pair_type == col]\n",
    "    print(\n",
    "        f'Disease area similarity (literature) for {col} \\\n",
    "        mean: {info[\"pearson_coefficient\"].mean():.3f}, \\\n",
    "        median: {info[\"pearson_coefficient\"].median():.3f}'\n",
    "    )"
   ]
  },
  {
   "cell_type": "code",
   "execution_count": null,
   "metadata": {
    "pycharm": {
     "name": "#%%\n"
    }
   },
   "outputs": [],
   "source": [
    "for col in df_merged_df.pair_type.unique():\n",
    "    info = df_merged_df[df_merged_df.pair_type == col]\n",
    "    print(\n",
    "        f'Disease area similarity (databases) for {col} \\\n",
    "        mean: {info[\"pearson_coefficient\"].mean():.3f}, \\\n",
    "        median: {info[\"pearson_coefficient\"].median():.3f}'\n",
    "    )"
   ]
  }
 ],
 "metadata": {
  "kernelspec": {
   "display_name": "Python 3",
   "language": "python",
   "name": "python3"
  },
  "language_info": {
   "codemirror_mode": {
    "name": "ipython",
    "version": 3
   },
   "file_extension": ".py",
   "mimetype": "text/x-python",
   "name": "python",
   "nbconvert_exporter": "python",
   "pygments_lexer": "ipython3",
   "version": "3.8.3"
  }
 },
 "nbformat": 4,
 "nbformat_minor": 5
}
